{
  "nbformat": 4,
  "nbformat_minor": 0,
  "metadata": {
    "colab": {
      "name": "Homework_3.ipynb",
      "provenance": [],
      "collapsed_sections": [],
      "toc_visible": true
    },
    "language_info": {
      "mimetype": "text/x-python",
      "nbconvert_exporter": "python",
      "name": "python",
      "file_extension": ".py",
      "version": "3.5.4",
      "pygments_lexer": "ipython3",
      "codemirror_mode": {
        "version": 3,
        "name": "ipython"
      }
    },
    "kernelspec": {
      "name": "python3",
      "display_name": "Python 3"
    },
    "accelerator": "TPU"
  },
  "cells": [
    {
      "cell_type": "markdown",
      "metadata": {
        "id": "6Xd6IQ1ZczKO"
      },
      "source": [
        "# Design Choices in Convolutional Neural Networks"
      ]
    },
    {
      "cell_type": "markdown",
      "metadata": {
        "id": "UolsLXSQczHh"
      },
      "source": [
        "###  Importing packages"
      ]
    },
    {
      "cell_type": "code",
      "metadata": {
        "trusted": true,
        "id": "kwe0QooaczHk"
      },
      "source": [
        "import numpy as np\n",
        "import keras\n",
        "from keras.datasets import mnist\n",
        "from keras.models import Sequential\n",
        "from keras.layers import Dense, Dropout, Flatten, Conv2D, MaxPooling2D\n",
        "from keras import backend as K\n",
        "from keras.preprocessing import image\n",
        "from keras.applications.mobilenet import MobileNet\n",
        "from keras.applications.vgg16 import preprocess_input, decode_predictions\n",
        "from keras.models import Model\n",
        "import timeit\n",
        "\n",
        "import warnings\n",
        "warnings.filterwarnings('ignore')"
      ],
      "execution_count": 1,
      "outputs": []
    },
    {
      "cell_type": "markdown",
      "metadata": {
        "id": "thEIzUfFczHy"
      },
      "source": [
        "### Preparing Dataset"
      ]
    },
    {
      "cell_type": "code",
      "metadata": {
        "trusted": true,
        "id": "-s6iKY5QczH0",
        "colab": {
          "base_uri": "https://localhost:8080/"
        },
        "outputId": "f2383058-f911-435d-b7fe-56254c9ee277"
      },
      "source": [
        "batch_size = 128\n",
        "num_classes = 10\n",
        "epochs = 10\n",
        "\n",
        "# input image dimensions\n",
        "img_rows, img_cols = 28, 28\n",
        "\n",
        "# the data, shuffled and split between train and test sets\n",
        "(x_train, y_train), (x_test, y_test) = mnist.load_data()\n",
        "\n",
        "if K.image_data_format() == 'channels_first':\n",
        "    x_train = x_train.reshape(x_train.shape[0], 1, img_rows, img_cols)\n",
        "    x_test = x_test.reshape(x_test.shape[0], 1, img_rows, img_cols)\n",
        "    input_shape = (1, img_rows, img_cols)\n",
        "else:\n",
        "    x_train = x_train.reshape(x_train.shape[0], img_rows, img_cols, 1)\n",
        "    x_test = x_test.reshape(x_test.shape[0], img_rows, img_cols, 1)\n",
        "    input_shape = (img_rows, img_cols, 1)\n",
        "\n",
        "x_train = x_train.astype('float32')\n",
        "x_test = x_test.astype('float32')\n",
        "x_train /= 255\n",
        "x_test /= 255\n",
        "print('x_train shape:', x_train.shape)\n",
        "print(x_train.shape[0], 'train samples')\n",
        "print(x_test.shape[0], 'test samples')\n",
        "\n",
        "# convert class vectors to binary class matrices\n",
        "y_train = keras.utils.to_categorical(y_train, num_classes)\n",
        "y_test = keras.utils.to_categorical(y_test, num_classes)"
      ],
      "execution_count": 7,
      "outputs": [
        {
          "output_type": "stream",
          "text": [
            "x_train shape: (60000, 28, 28, 1)\n",
            "60000 train samples\n",
            "10000 test samples\n"
          ],
          "name": "stdout"
        }
      ]
    },
    {
      "cell_type": "markdown",
      "metadata": {
        "id": "weHnDsMoczKO"
      },
      "source": [
        "## Part 1: Influence of convolution size\r\n",
        "\r\n",
        "Try the models with different convolution sizes 5x5, 7x7 and 9x9 etc.\r\n",
        "\r\n",
        "Analyze the number of model parameters, accuracy and training time"
      ]
    },
    {
      "cell_type": "markdown",
      "metadata": {
        "id": "xDmQdJkAczKP"
      },
      "source": [
        "### Model with (3 x 3) Convolution"
      ]
    },
    {
      "cell_type": "code",
      "metadata": {
        "trusted": true,
        "id": "_LbhbPPwczKQ",
        "colab": {
          "base_uri": "https://localhost:8080/"
        },
        "outputId": "e4a6a266-1acb-40c5-860c-2453d5c765e1"
      },
      "source": [
        "K.clear_session()\n",
        "start = timeit.default_timer()   \n",
        "model = Sequential()\n",
        "model.add(Conv2D(8, kernel_size=(3, 3), activation='relu', input_shape=input_shape))\n",
        "model.add(Conv2D(16, (3, 3), activation='relu'))\n",
        "model.add(Flatten())\n",
        "model.add(Dense(32, activation='relu'))\n",
        "model.add(Dense(num_classes, activation='softmax'))\n",
        "model.summary()\n",
        "model.compile(loss=keras.losses.categorical_crossentropy, optimizer=keras.optimizers.Adadelta(), metrics=['accuracy'])\n",
        "model.fit(x_train, y_train, batch_size=batch_size, epochs=epochs, verbose=1, validation_data=(x_test, y_test))\n",
        "end = timeit.default_timer()\n",
        "print(\"Time Taken to run the model:\",end - start, \"seconds\")  "
      ],
      "execution_count": 8,
      "outputs": [
        {
          "output_type": "stream",
          "text": [
            "Model: \"sequential\"\n",
            "_________________________________________________________________\n",
            "Layer (type)                 Output Shape              Param #   \n",
            "=================================================================\n",
            "conv2d (Conv2D)              (None, 26, 26, 8)         80        \n",
            "_________________________________________________________________\n",
            "conv2d_1 (Conv2D)            (None, 24, 24, 16)        1168      \n",
            "_________________________________________________________________\n",
            "flatten (Flatten)            (None, 9216)              0         \n",
            "_________________________________________________________________\n",
            "dense (Dense)                (None, 32)                294944    \n",
            "_________________________________________________________________\n",
            "dense_1 (Dense)              (None, 10)                330       \n",
            "=================================================================\n",
            "Total params: 296,522\n",
            "Trainable params: 296,522\n",
            "Non-trainable params: 0\n",
            "_________________________________________________________________\n",
            "Epoch 1/10\n",
            "469/469 [==============================] - 33s 69ms/step - loss: 2.2824 - accuracy: 0.1326 - val_loss: 2.2218 - val_accuracy: 0.2227\n",
            "Epoch 2/10\n",
            "469/469 [==============================] - 32s 68ms/step - loss: 2.1990 - accuracy: 0.2714 - val_loss: 2.1152 - val_accuracy: 0.4159\n",
            "Epoch 3/10\n",
            "469/469 [==============================] - 32s 68ms/step - loss: 2.0877 - accuracy: 0.4567 - val_loss: 1.9788 - val_accuracy: 0.5808\n",
            "Epoch 4/10\n",
            "469/469 [==============================] - 32s 68ms/step - loss: 1.9446 - accuracy: 0.6042 - val_loss: 1.8025 - val_accuracy: 0.6763\n",
            "Epoch 5/10\n",
            "469/469 [==============================] - 32s 68ms/step - loss: 1.7605 - accuracy: 0.6795 - val_loss: 1.5835 - val_accuracy: 0.7219\n",
            "Epoch 6/10\n",
            "469/469 [==============================] - 32s 68ms/step - loss: 1.5375 - accuracy: 0.7210 - val_loss: 1.3403 - val_accuracy: 0.7559\n",
            "Epoch 7/10\n",
            "469/469 [==============================] - 32s 68ms/step - loss: 1.2996 - accuracy: 0.7534 - val_loss: 1.1123 - val_accuracy: 0.7838\n",
            "Epoch 8/10\n",
            "469/469 [==============================] - 32s 69ms/step - loss: 1.0789 - accuracy: 0.7809 - val_loss: 0.9314 - val_accuracy: 0.8032\n",
            "Epoch 9/10\n",
            "469/469 [==============================] - 32s 69ms/step - loss: 0.9181 - accuracy: 0.7947 - val_loss: 0.7999 - val_accuracy: 0.8170\n",
            "Epoch 10/10\n",
            "469/469 [==============================] - 32s 69ms/step - loss: 0.7997 - accuracy: 0.8111 - val_loss: 0.7060 - val_accuracy: 0.8302\n",
            "Time Taken to run the model: 321.55315578399996 seconds\n"
          ],
          "name": "stdout"
        }
      ]
    },
    {
      "cell_type": "markdown",
      "metadata": {
        "id": "0DnVhOxDczKS"
      },
      "source": [
        "### Try models with different Convolution sizes"
      ]
    },
    {
      "cell_type": "code",
      "metadata": {
        "trusted": true,
        "id": "oQopxYu5czKT",
        "colab": {
          "base_uri": "https://localhost:8080/"
        },
        "outputId": "f58a20b1-94d3-4b25-85fa-ae7a3a8cb010"
      },
      "source": [
        "# 5×5 \n",
        "K.clear_session()\n",
        "start = timeit.default_timer()   \n",
        "model = Sequential()\n",
        "model.add(Conv2D(8, kernel_size=(5, 5), activation='relu', input_shape=input_shape))\n",
        "model.add(Conv2D(16, (5, 5), activation='relu'))\n",
        "model.add(Flatten())\n",
        "model.add(Dense(32, activation='relu'))\n",
        "model.add(Dense(num_classes, activation='softmax'))\n",
        "model.summary()\n",
        "model.compile(loss=keras.losses.categorical_crossentropy, optimizer=keras.optimizers.Adadelta(), metrics=['accuracy'])\n",
        "model.fit(x_train, y_train, batch_size=batch_size, epochs=epochs, verbose=1, validation_data=(x_test, y_test))\n",
        "end = timeit.default_timer()\n",
        "print(\"Time Taken to run the model:\",end - start, \"seconds\")\n"
      ],
      "execution_count": 9,
      "outputs": [
        {
          "output_type": "stream",
          "text": [
            "Model: \"sequential\"\n",
            "_________________________________________________________________\n",
            "Layer (type)                 Output Shape              Param #   \n",
            "=================================================================\n",
            "conv2d (Conv2D)              (None, 24, 24, 8)         208       \n",
            "_________________________________________________________________\n",
            "conv2d_1 (Conv2D)            (None, 20, 20, 16)        3216      \n",
            "_________________________________________________________________\n",
            "flatten (Flatten)            (None, 6400)              0         \n",
            "_________________________________________________________________\n",
            "dense (Dense)                (None, 32)                204832    \n",
            "_________________________________________________________________\n",
            "dense_1 (Dense)              (None, 10)                330       \n",
            "=================================================================\n",
            "Total params: 208,586\n",
            "Trainable params: 208,586\n",
            "Non-trainable params: 0\n",
            "_________________________________________________________________\n",
            "Epoch 1/10\n",
            "469/469 [==============================] - 44s 93ms/step - loss: 2.2779 - accuracy: 0.1927 - val_loss: 2.2475 - val_accuracy: 0.3212\n",
            "Epoch 2/10\n",
            "469/469 [==============================] - 43s 93ms/step - loss: 2.2358 - accuracy: 0.3447 - val_loss: 2.1881 - val_accuracy: 0.4040\n",
            "Epoch 3/10\n",
            "469/469 [==============================] - 43s 93ms/step - loss: 2.1693 - accuracy: 0.4156 - val_loss: 2.0899 - val_accuracy: 0.4638\n",
            "Epoch 4/10\n",
            "469/469 [==============================] - 44s 93ms/step - loss: 2.0607 - accuracy: 0.4804 - val_loss: 1.9450 - val_accuracy: 0.5028\n",
            "Epoch 5/10\n",
            "469/469 [==============================] - 43s 93ms/step - loss: 1.9056 - accuracy: 0.5230 - val_loss: 1.7532 - val_accuracy: 0.5519\n",
            "Epoch 6/10\n",
            "469/469 [==============================] - 43s 93ms/step - loss: 1.7074 - accuracy: 0.5646 - val_loss: 1.5251 - val_accuracy: 0.6182\n",
            "Epoch 7/10\n",
            "469/469 [==============================] - 43s 93ms/step - loss: 1.4850 - accuracy: 0.6360 - val_loss: 1.3014 - val_accuracy: 0.7009\n",
            "Epoch 8/10\n",
            "469/469 [==============================] - 44s 93ms/step - loss: 1.2674 - accuracy: 0.7113 - val_loss: 1.1031 - val_accuracy: 0.7602\n",
            "Epoch 9/10\n",
            "469/469 [==============================] - 44s 93ms/step - loss: 1.0757 - accuracy: 0.7620 - val_loss: 0.9322 - val_accuracy: 0.7942\n",
            "Epoch 10/10\n",
            "469/469 [==============================] - 44s 93ms/step - loss: 0.9196 - accuracy: 0.7893 - val_loss: 0.8088 - val_accuracy: 0.8137\n",
            "Time Taken to run the model: 435.60148787599974 seconds\n"
          ],
          "name": "stdout"
        }
      ]
    },
    {
      "cell_type": "code",
      "metadata": {
        "id": "oTAM1ojBn4aG",
        "colab": {
          "base_uri": "https://localhost:8080/"
        },
        "outputId": "a2acf745-3d63-4c95-f4ca-77e12d63e8f6"
      },
      "source": [
        "# 7×7\r\n",
        "K.clear_session()\r\n",
        "start = timeit.default_timer()   \r\n",
        "model = Sequential()\r\n",
        "model.add(Conv2D(8, kernel_size=(7, 7), activation='relu', input_shape=input_shape))\r\n",
        "model.add(Conv2D(16, (7, 7), activation='relu'))\r\n",
        "model.add(Flatten())\r\n",
        "model.add(Dense(32, activation='relu'))\r\n",
        "model.add(Dense(num_classes, activation='softmax'))\r\n",
        "model.summary()\r\n",
        "model.compile(loss=keras.losses.categorical_crossentropy, optimizer=keras.optimizers.Adadelta(), metrics=['accuracy'])\r\n",
        "model.fit(x_train, y_train, batch_size=batch_size, epochs=epochs, verbose=1, validation_data=(x_test, y_test))\r\n",
        "end = timeit.default_timer()\r\n",
        "print(\"Time Taken to run the model:\",end - start, \"seconds\")"
      ],
      "execution_count": 10,
      "outputs": [
        {
          "output_type": "stream",
          "text": [
            "Model: \"sequential\"\n",
            "_________________________________________________________________\n",
            "Layer (type)                 Output Shape              Param #   \n",
            "=================================================================\n",
            "conv2d (Conv2D)              (None, 22, 22, 8)         400       \n",
            "_________________________________________________________________\n",
            "conv2d_1 (Conv2D)            (None, 16, 16, 16)        6288      \n",
            "_________________________________________________________________\n",
            "flatten (Flatten)            (None, 4096)              0         \n",
            "_________________________________________________________________\n",
            "dense (Dense)                (None, 32)                131104    \n",
            "_________________________________________________________________\n",
            "dense_1 (Dense)              (None, 10)                330       \n",
            "=================================================================\n",
            "Total params: 138,122\n",
            "Trainable params: 138,122\n",
            "Non-trainable params: 0\n",
            "_________________________________________________________________\n",
            "Epoch 1/10\n",
            "469/469 [==============================] - 52s 111ms/step - loss: 2.2963 - accuracy: 0.1157 - val_loss: 2.2680 - val_accuracy: 0.1733\n",
            "Epoch 2/10\n",
            "469/469 [==============================] - 51s 110ms/step - loss: 2.2559 - accuracy: 0.2040 - val_loss: 2.2081 - val_accuracy: 0.3108\n",
            "Epoch 3/10\n",
            "469/469 [==============================] - 52s 110ms/step - loss: 2.1881 - accuracy: 0.3607 - val_loss: 2.1082 - val_accuracy: 0.4379\n",
            "Epoch 4/10\n",
            "469/469 [==============================] - 52s 111ms/step - loss: 2.0755 - accuracy: 0.4631 - val_loss: 1.9450 - val_accuracy: 0.5056\n",
            "Epoch 5/10\n",
            "469/469 [==============================] - 52s 110ms/step - loss: 1.8984 - accuracy: 0.5215 - val_loss: 1.7031 - val_accuracy: 0.5741\n",
            "Epoch 6/10\n",
            "469/469 [==============================] - 52s 110ms/step - loss: 1.6432 - accuracy: 0.6034 - val_loss: 1.4132 - val_accuracy: 0.6769\n",
            "Epoch 7/10\n",
            "469/469 [==============================] - 52s 112ms/step - loss: 1.3608 - accuracy: 0.6939 - val_loss: 1.1518 - val_accuracy: 0.7387\n",
            "Epoch 8/10\n",
            "469/469 [==============================] - 52s 111ms/step - loss: 1.1127 - accuracy: 0.7505 - val_loss: 0.9612 - val_accuracy: 0.7744\n",
            "Epoch 9/10\n",
            "469/469 [==============================] - 52s 112ms/step - loss: 0.9475 - accuracy: 0.7782 - val_loss: 0.8312 - val_accuracy: 0.8007\n",
            "Epoch 10/10\n",
            "469/469 [==============================] - 52s 112ms/step - loss: 0.8276 - accuracy: 0.8013 - val_loss: 0.7405 - val_accuracy: 0.8157\n",
            "Time Taken to run the model: 520.3141176230001 seconds\n"
          ],
          "name": "stdout"
        }
      ]
    },
    {
      "cell_type": "code",
      "metadata": {
        "id": "PNOb8hDrn416",
        "colab": {
          "base_uri": "https://localhost:8080/"
        },
        "outputId": "f22039bf-03db-4dde-a1a3-c75f9c53b5ec"
      },
      "source": [
        "# 9×9 \r\n",
        "\r\n",
        "K.clear_session()\r\n",
        "start = timeit.default_timer()   \r\n",
        "model = Sequential()\r\n",
        "model.add(Conv2D(8, kernel_size=(9, 9), activation='relu', input_shape=input_shape))\r\n",
        "model.add(Conv2D(16, (9, 9), activation='relu'))\r\n",
        "model.add(Flatten())\r\n",
        "model.add(Dense(32, activation='relu'))\r\n",
        "model.add(Dense(num_classes, activation='softmax'))\r\n",
        "model.summary()\r\n",
        "model.compile(loss=keras.losses.categorical_crossentropy, optimizer=keras.optimizers.Adadelta(), metrics=['accuracy'])\r\n",
        "model.fit(x_train, y_train, batch_size=batch_size, epochs=epochs, verbose=1, validation_data=(x_test, y_test))\r\n",
        "end = timeit.default_timer()\r\n",
        "print(\"Time Taken to run the model:\",end - start, \"seconds\")"
      ],
      "execution_count": 11,
      "outputs": [
        {
          "output_type": "stream",
          "text": [
            "Model: \"sequential\"\n",
            "_________________________________________________________________\n",
            "Layer (type)                 Output Shape              Param #   \n",
            "=================================================================\n",
            "conv2d (Conv2D)              (None, 20, 20, 8)         656       \n",
            "_________________________________________________________________\n",
            "conv2d_1 (Conv2D)            (None, 12, 12, 16)        10384     \n",
            "_________________________________________________________________\n",
            "flatten (Flatten)            (None, 2304)              0         \n",
            "_________________________________________________________________\n",
            "dense (Dense)                (None, 32)                73760     \n",
            "_________________________________________________________________\n",
            "dense_1 (Dense)              (None, 10)                330       \n",
            "=================================================================\n",
            "Total params: 85,130\n",
            "Trainable params: 85,130\n",
            "Non-trainable params: 0\n",
            "_________________________________________________________________\n",
            "Epoch 1/10\n",
            "469/469 [==============================] - 53s 112ms/step - loss: 2.3042 - accuracy: 0.1034 - val_loss: 2.2833 - val_accuracy: 0.1323\n",
            "Epoch 2/10\n",
            "469/469 [==============================] - 53s 112ms/step - loss: 2.2770 - accuracy: 0.1563 - val_loss: 2.2460 - val_accuracy: 0.2484\n",
            "Epoch 3/10\n",
            "469/469 [==============================] - 52s 112ms/step - loss: 2.2349 - accuracy: 0.2700 - val_loss: 2.1832 - val_accuracy: 0.3530\n",
            "Epoch 4/10\n",
            "469/469 [==============================] - 52s 112ms/step - loss: 2.1640 - accuracy: 0.3617 - val_loss: 2.0786 - val_accuracy: 0.4240\n",
            "Epoch 5/10\n",
            "469/469 [==============================] - 53s 112ms/step - loss: 2.0477 - accuracy: 0.4376 - val_loss: 1.9206 - val_accuracy: 0.5063\n",
            "Epoch 6/10\n",
            "469/469 [==============================] - 53s 113ms/step - loss: 1.8827 - accuracy: 0.5123 - val_loss: 1.7243 - val_accuracy: 0.5677\n",
            "Epoch 7/10\n",
            "469/469 [==============================] - 52s 112ms/step - loss: 1.6894 - accuracy: 0.5765 - val_loss: 1.5220 - val_accuracy: 0.6231\n",
            "Epoch 8/10\n",
            "469/469 [==============================] - 52s 111ms/step - loss: 1.4903 - accuracy: 0.6266 - val_loss: 1.3407 - val_accuracy: 0.6628\n",
            "Epoch 9/10\n",
            "469/469 [==============================] - 52s 111ms/step - loss: 1.3247 - accuracy: 0.6585 - val_loss: 1.1894 - val_accuracy: 0.6969\n",
            "Epoch 10/10\n",
            "469/469 [==============================] - 52s 111ms/step - loss: 1.1798 - accuracy: 0.6935 - val_loss: 1.0678 - val_accuracy: 0.7282\n",
            "Time Taken to run the model: 525.3110400850001 seconds\n"
          ],
          "name": "stdout"
        }
      ]
    },
    {
      "cell_type": "markdown",
      "metadata": {
        "id": "ONNy-NSdoB69"
      },
      "source": [
        "### Write your findings about activations here?\r\n",
        "\r\n",
        "1.   Finding 1\r\n",
        "2.   Finding 2\r\n",
        "\r\n",
        "\r\n",
        "\r\n",
        "```\r\n",
        "3×3\r\n",
        "loss: 0.7997 - accuracy: 0.8111 - val_loss: 0.7060 - val_accuracy: 0.8302\r\n",
        "321.55315578399996 seconds\r\n",
        "\r\n",
        "5×5\r\n",
        "loss: 0.9196 - accuracy: 0.7893 - val_loss: 0.8088 - val_accuracy: 0.8137\r\n",
        "435.60148787599974 seconds\r\n",
        "\r\n",
        "7×7\r\n",
        "loss: 0.8276 - accuracy: 0.8013 - val_loss: 0.7405 - val_accuracy: 0.8157\r\n",
        "520.3141176230001 seconds\r\n",
        "\r\n",
        "9×9\r\n",
        "loss: 1.1798 - accuracy: 0.6935 - val_loss: 1.0678 - val_accuracy: 0.7282\r\n",
        "525.3110400850001 seconds\r\n",
        "\r\n",
        "```\r\n",
        "\r\n",
        "\r\n"
      ]
    },
    {
      "cell_type": "code",
      "metadata": {
        "id": "rZo96MYGv163"
      },
      "source": [
        "import pandas as pd"
      ],
      "execution_count": 13,
      "outputs": []
    },
    {
      "cell_type": "code",
      "metadata": {
        "colab": {
          "base_uri": "https://localhost:8080/",
          "height": 320
        },
        "id": "y8p90eRSrfOy",
        "outputId": "6d479879-d4a8-49bf-a40e-bcc57be74a96"
      },
      "source": [
        "colors = [ 'blue', 'lime'] \n",
        "\n",
        "\n",
        "accCS= [0.83,0.81,0.81,0.72]\n",
        "lossCS = [0.70,0.80,0.74,1.06]\n",
        "indexCS = [\"3×3\",\"5×5\",\"7×7\",\"9×9\"]\n",
        "df = pd.DataFrame({'accuracy': accCS,\n",
        "                   'loss': lossCS}, index=indexCS)\n",
        "ax = df.plot.bar(rot=0,figsize=(10,5),color=colors)\n",
        "\n"
      ],
      "execution_count": 14,
      "outputs": [
        {
          "output_type": "display_data",
          "data": {
            "image/png": "[encoded data removed]",
            "text/plain": [
              "<Figure size 720x360 with 1 Axes>"
            ]
          },
          "metadata": {
            "tags": [],
            "needs_background": "light"
          }
        }
      ]
    },
    {
      "cell_type": "code",
      "metadata": {
        "colab": {
          "base_uri": "https://localhost:8080/",
          "height": 334
        },
        "id": "L5myInL0roaO",
        "outputId": "e3c2d81d-e7d8-4354-8f93-2ad5c74261a6"
      },
      "source": [
        "clr=['C0', 'C1', 'C2', 'C3', 'C4','C5','C6','C7','C8']\n",
        "\n",
        "timeCS  =[ 321,435,520,525 ]\n",
        "indexCS = [\"3×3\",\"5×5\",\"7×7\",\"9×9\"]\n",
        "\n",
        "\n",
        "df = pd.DataFrame({\"convolution size\": indexCS,\n",
        "                   \"time\": timeCS })\n",
        "\n",
        "ax = df.plot.bar(x=\"convolution size\", y=\"time\", rot=0,color=clr,figsize=(10,5))\n",
        "\n"
      ],
      "execution_count": 15,
      "outputs": [
        {
          "output_type": "display_data",
          "data": {
            "image/png": "[encoded data removed]",
            "text/plain": [
              "<Figure size 720x360 with 1 Axes>"
            ]
          },
          "metadata": {
            "tags": [],
            "needs_background": "light"
          }
        }
      ]
    },
    {
      "cell_type": "markdown",
      "metadata": {
        "id": "nbjj4YUAczKW"
      },
      "source": [
        "## Part 2: Influence of Striding\r\n",
        "\r\n",
        "Try the models with different stride sizes such as 2,3,4 etc.\r\n",
        "\r\n",
        "Analyze the number of model parameters, accuracy and training time"
      ]
    },
    {
      "cell_type": "markdown",
      "metadata": {
        "id": "pr45UR1uczKW"
      },
      "source": [
        "### Model with Convolution with 2 Steps"
      ]
    },
    {
      "cell_type": "code",
      "metadata": {
        "trusted": true,
        "id": "CUB3Zt_9czKX",
        "colab": {
          "base_uri": "https://localhost:8080/"
        },
        "outputId": "e3bf9510-f51a-4075-b0d8-5156bf610719"
      },
      "source": [
        "start = timeit.default_timer()   \n",
        "model = Sequential()\n",
        "model.add(Conv2D(8, kernel_size=(3, 3), strides=2, activation='relu', input_shape=input_shape))\n",
        "model.add(Conv2D(16, (3, 3), strides=2, activation='relu'))\n",
        "model.add(Flatten())\n",
        "model.add(Dense(32, activation='relu'))\n",
        "model.add(Dense(num_classes, activation='softmax'))\n",
        "model.summary()\n",
        "model.compile(loss=keras.losses.categorical_crossentropy, optimizer=keras.optimizers.Adadelta(), metrics=['accuracy'])\n",
        "model.fit(x_train, y_train, batch_size=batch_size, epochs=epochs, verbose=1, validation_data=(x_test, y_test))\n",
        "end = timeit.default_timer()\n",
        "print(\"Time Taken to run the model:\",end - start, \"seconds\")  "
      ],
      "execution_count": 16,
      "outputs": [
        {
          "output_type": "stream",
          "text": [
            "Model: \"sequential_1\"\n",
            "_________________________________________________________________\n",
            "Layer (type)                 Output Shape              Param #   \n",
            "=================================================================\n",
            "conv2d_2 (Conv2D)            (None, 13, 13, 8)         80        \n",
            "_________________________________________________________________\n",
            "conv2d_3 (Conv2D)            (None, 6, 6, 16)          1168      \n",
            "_________________________________________________________________\n",
            "flatten_1 (Flatten)          (None, 576)               0         \n",
            "_________________________________________________________________\n",
            "dense_2 (Dense)              (None, 32)                18464     \n",
            "_________________________________________________________________\n",
            "dense_3 (Dense)              (None, 10)                330       \n",
            "=================================================================\n",
            "Total params: 20,042\n",
            "Trainable params: 20,042\n",
            "Non-trainable params: 0\n",
            "_________________________________________________________________\n",
            "Epoch 1/10\n",
            "469/469 [==============================] - 6s 12ms/step - loss: 2.3201 - accuracy: 0.0880 - val_loss: 2.3155 - val_accuracy: 0.0893\n",
            "Epoch 2/10\n",
            "469/469 [==============================] - 6s 12ms/step - loss: 2.3123 - accuracy: 0.0943 - val_loss: 2.3089 - val_accuracy: 0.0995\n",
            "Epoch 3/10\n",
            "469/469 [==============================] - 5s 12ms/step - loss: 2.3067 - accuracy: 0.1026 - val_loss: 2.3022 - val_accuracy: 0.1104\n",
            "Epoch 4/10\n",
            "469/469 [==============================] - 6s 12ms/step - loss: 2.3004 - accuracy: 0.1122 - val_loss: 2.2954 - val_accuracy: 0.1252\n",
            "Epoch 5/10\n",
            "469/469 [==============================] - 6s 12ms/step - loss: 2.2928 - accuracy: 0.1330 - val_loss: 2.2884 - val_accuracy: 0.1518\n",
            "Epoch 6/10\n",
            "469/469 [==============================] - 6s 12ms/step - loss: 2.2857 - accuracy: 0.1530 - val_loss: 2.2810 - val_accuracy: 0.1785\n",
            "Epoch 7/10\n",
            "469/469 [==============================] - 5s 12ms/step - loss: 2.2784 - accuracy: 0.1821 - val_loss: 2.2731 - val_accuracy: 0.2023\n",
            "Epoch 8/10\n",
            "469/469 [==============================] - 6s 12ms/step - loss: 2.2708 - accuracy: 0.2071 - val_loss: 2.2649 - val_accuracy: 0.2282\n",
            "Epoch 9/10\n",
            "469/469 [==============================] - 6s 12ms/step - loss: 2.2613 - accuracy: 0.2356 - val_loss: 2.2561 - val_accuracy: 0.2527\n",
            "Epoch 10/10\n",
            "469/469 [==============================] - 5s 12ms/step - loss: 2.2545 - accuracy: 0.2560 - val_loss: 2.2468 - val_accuracy: 0.2809\n",
            "Time Taken to run the model: 55.66053261199977 seconds\n"
          ],
          "name": "stdout"
        }
      ]
    },
    {
      "cell_type": "code",
      "metadata": {
        "id": "yG03EwvJovUK",
        "colab": {
          "base_uri": "https://localhost:8080/"
        },
        "outputId": "6aa03432-f2ae-4e40-c8b7-933939257837"
      },
      "source": [
        "# Stride=3\r\n",
        "\r\n",
        "start = timeit.default_timer()   \r\n",
        "model = Sequential()\r\n",
        "model.add(Conv2D(8, kernel_size=(3, 3), strides=3, activation='relu', input_shape=input_shape))\r\n",
        "model.add(Conv2D(16, (3, 3), strides=3, activation='relu'))\r\n",
        "model.add(Flatten())\r\n",
        "model.add(Dense(32, activation='relu'))\r\n",
        "model.add(Dense(num_classes, activation='softmax'))\r\n",
        "model.summary()\r\n",
        "model.compile(loss=keras.losses.categorical_crossentropy, optimizer=keras.optimizers.Adadelta(), metrics=['accuracy'])\r\n",
        "model.fit(x_train, y_train, batch_size=batch_size, epochs=epochs, verbose=1, validation_data=(x_test, y_test))\r\n",
        "end = timeit.default_timer()\r\n",
        "print(\"Time Taken to run the model:\",end - start, \"seconds\")  "
      ],
      "execution_count": 17,
      "outputs": [
        {
          "output_type": "stream",
          "text": [
            "Model: \"sequential_2\"\n",
            "_________________________________________________________________\n",
            "Layer (type)                 Output Shape              Param #   \n",
            "=================================================================\n",
            "conv2d_4 (Conv2D)            (None, 9, 9, 8)           80        \n",
            "_________________________________________________________________\n",
            "conv2d_5 (Conv2D)            (None, 3, 3, 16)          1168      \n",
            "_________________________________________________________________\n",
            "flatten_2 (Flatten)          (None, 144)               0         \n",
            "_________________________________________________________________\n",
            "dense_4 (Dense)              (None, 32)                4640      \n",
            "_________________________________________________________________\n",
            "dense_5 (Dense)              (None, 10)                330       \n",
            "=================================================================\n",
            "Total params: 6,218\n",
            "Trainable params: 6,218\n",
            "Non-trainable params: 0\n",
            "_________________________________________________________________\n",
            "Epoch 1/10\n",
            "469/469 [==============================] - 4s 7ms/step - loss: 2.3127 - accuracy: 0.0713 - val_loss: 2.3110 - val_accuracy: 0.0783\n",
            "Epoch 2/10\n",
            "469/469 [==============================] - 3s 6ms/step - loss: 2.3093 - accuracy: 0.0810 - val_loss: 2.3075 - val_accuracy: 0.0862\n",
            "Epoch 3/10\n",
            "469/469 [==============================] - 3s 6ms/step - loss: 2.3058 - accuracy: 0.0897 - val_loss: 2.3041 - val_accuracy: 0.0936\n",
            "Epoch 4/10\n",
            "469/469 [==============================] - 3s 7ms/step - loss: 2.3021 - accuracy: 0.0977 - val_loss: 2.3006 - val_accuracy: 0.0995\n",
            "Epoch 5/10\n",
            "469/469 [==============================] - 3s 6ms/step - loss: 2.2990 - accuracy: 0.1041 - val_loss: 2.2971 - val_accuracy: 0.1042\n",
            "Epoch 6/10\n",
            "469/469 [==============================] - 3s 7ms/step - loss: 2.2959 - accuracy: 0.1077 - val_loss: 2.2936 - val_accuracy: 0.1086\n",
            "Epoch 7/10\n",
            "469/469 [==============================] - 3s 7ms/step - loss: 2.2914 - accuracy: 0.1141 - val_loss: 2.2901 - val_accuracy: 0.1126\n",
            "Epoch 8/10\n",
            "469/469 [==============================] - 3s 7ms/step - loss: 2.2894 - accuracy: 0.1143 - val_loss: 2.2867 - val_accuracy: 0.1164\n",
            "Epoch 9/10\n",
            "469/469 [==============================] - 3s 7ms/step - loss: 2.2853 - accuracy: 0.1195 - val_loss: 2.2832 - val_accuracy: 0.1182\n",
            "Epoch 10/10\n",
            "469/469 [==============================] - 3s 7ms/step - loss: 2.2819 - accuracy: 0.1217 - val_loss: 2.2797 - val_accuracy: 0.1223\n",
            "Time Taken to run the model: 31.717295687999467 seconds\n"
          ],
          "name": "stdout"
        }
      ]
    },
    {
      "cell_type": "code",
      "metadata": {
        "id": "MaUGoQaPov0I",
        "colab": {
          "base_uri": "https://localhost:8080/"
        },
        "outputId": "b99230ab-a0ff-4617-e7a4-efbf3425895b"
      },
      "source": [
        "# Stride=4\r\n",
        "\r\n",
        "start = timeit.default_timer()   \r\n",
        "model = Sequential()\r\n",
        "model.add(Conv2D(8, kernel_size=(3, 3), strides=4, activation='relu', input_shape=input_shape))\r\n",
        "model.add(Conv2D(16, (3, 3), strides=4, activation='relu'))\r\n",
        "model.add(Flatten())\r\n",
        "model.add(Dense(32, activation='relu'))\r\n",
        "model.add(Dense(num_classes, activation='softmax'))\r\n",
        "model.summary()\r\n",
        "model.compile(loss=keras.losses.categorical_crossentropy, optimizer=keras.optimizers.Adadelta(), metrics=['accuracy'])\r\n",
        "model.fit(x_train, y_train, batch_size=batch_size, epochs=epochs, verbose=1, validation_data=(x_test, y_test))\r\n",
        "end = timeit.default_timer()\r\n",
        "print(\"Time Taken to run the model:\",end - start, \"seconds\")  "
      ],
      "execution_count": 18,
      "outputs": [
        {
          "output_type": "stream",
          "text": [
            "Model: \"sequential_3\"\n",
            "_________________________________________________________________\n",
            "Layer (type)                 Output Shape              Param #   \n",
            "=================================================================\n",
            "conv2d_6 (Conv2D)            (None, 7, 7, 8)           80        \n",
            "_________________________________________________________________\n",
            "conv2d_7 (Conv2D)            (None, 2, 2, 16)          1168      \n",
            "_________________________________________________________________\n",
            "flatten_3 (Flatten)          (None, 64)                0         \n",
            "_________________________________________________________________\n",
            "dense_6 (Dense)              (None, 32)                2080      \n",
            "_________________________________________________________________\n",
            "dense_7 (Dense)              (None, 10)                330       \n",
            "=================================================================\n",
            "Total params: 3,658\n",
            "Trainable params: 3,658\n",
            "Non-trainable params: 0\n",
            "_________________________________________________________________\n",
            "Epoch 1/10\n",
            "469/469 [==============================] - 3s 5ms/step - loss: 2.3001 - accuracy: 0.1168 - val_loss: 2.2987 - val_accuracy: 0.1249\n",
            "Epoch 2/10\n",
            "469/469 [==============================] - 2s 5ms/step - loss: 2.2993 - accuracy: 0.1206 - val_loss: 2.2980 - val_accuracy: 0.1274\n",
            "Epoch 3/10\n",
            "469/469 [==============================] - 2s 5ms/step - loss: 2.2986 - accuracy: 0.1227 - val_loss: 2.2972 - val_accuracy: 0.1288\n",
            "Epoch 4/10\n",
            "469/469 [==============================] - 2s 5ms/step - loss: 2.2975 - accuracy: 0.1265 - val_loss: 2.2964 - val_accuracy: 0.1318\n",
            "Epoch 5/10\n",
            "469/469 [==============================] - 2s 5ms/step - loss: 2.2969 - accuracy: 0.1293 - val_loss: 2.2956 - val_accuracy: 0.1341\n",
            "Epoch 6/10\n",
            "469/469 [==============================] - 2s 5ms/step - loss: 2.2962 - accuracy: 0.1301 - val_loss: 2.2948 - val_accuracy: 0.1380\n",
            "Epoch 7/10\n",
            "469/469 [==============================] - 2s 5ms/step - loss: 2.2956 - accuracy: 0.1326 - val_loss: 2.2940 - val_accuracy: 0.1408\n",
            "Epoch 8/10\n",
            "469/469 [==============================] - 2s 5ms/step - loss: 2.2948 - accuracy: 0.1342 - val_loss: 2.2932 - val_accuracy: 0.1443\n",
            "Epoch 9/10\n",
            "469/469 [==============================] - 2s 5ms/step - loss: 2.2940 - accuracy: 0.1370 - val_loss: 2.2924 - val_accuracy: 0.1475\n",
            "Epoch 10/10\n",
            "469/469 [==============================] - 2s 5ms/step - loss: 2.2934 - accuracy: 0.1383 - val_loss: 2.2916 - val_accuracy: 0.1516\n",
            "Time Taken to run the model: 22.80477492599948 seconds\n"
          ],
          "name": "stdout"
        }
      ]
    },
    {
      "cell_type": "code",
      "metadata": {
        "id": "Ypo87ms7owJX",
        "colab": {
          "base_uri": "https://localhost:8080/",
          "height": 350
        },
        "outputId": "7632206c-c19c-431c-ab8a-55bc68742b15"
      },
      "source": [
        "clr=['C0', 'C1', 'C2', 'C3']\r\n",
        "\r\n",
        "timeS  =[ 55,31,22 ]\r\n",
        "indexS= [\"2 stride\",\"3 stride\",\"4 stride\"]\r\n",
        "\r\n",
        "\r\n",
        "df = pd.DataFrame({\"Strides\": indexS,\r\n",
        "                   \"Time\": timeS })\r\n",
        "\r\n",
        "ax = df.plot.bar(x=\"Strides\", y=\"Time\", rot=0,color=clr,figsize=(10,5)\r\n",
        "                  ,title='Time Taken to run the model according to different stride sizes')\r\n"
      ],
      "execution_count": 29,
      "outputs": [
        {
          "output_type": "display_data",
          "data": {
            "image/png": "[encoded data removed]",
            "text/plain": [
              "<Figure size 720x360 with 1 Axes>"
            ]
          },
          "metadata": {
            "tags": [],
            "needs_background": "light"
          }
        }
      ]
    },
    {
      "cell_type": "code",
      "metadata": {
        "colab": {
          "base_uri": "https://localhost:8080/",
          "height": 336
        },
        "id": "nmExQgC3yO42",
        "outputId": "d26fc969-566b-417a-985e-83880413bff6"
      },
      "source": [
        "colors = [ 'blue', 'red'] \n",
        "\n",
        "\n",
        "accS= [0.28,0.12,0.15]\n",
        "lossS = [2.24,2.27,2.29]\n",
        "indexS = [\"2 stride\",\"3 stride\",\"4 stride\"]\n",
        "df = pd.DataFrame({'accuracy': accS,\n",
        "                   'loss': lossS}, index=indexS)\n",
        "ax = df.plot.bar(rot=0,figsize=(10,5),color=colors,\n",
        "                 title='Accuracy and Loss values according to different stride sizes')"
      ],
      "execution_count": 28,
      "outputs": [
        {
          "output_type": "display_data",
          "data": {
            "image/png": "[encoded data removed]",
            "text/plain": [
              "<Figure size 720x360 with 1 Axes>"
            ]
          },
          "metadata": {
            "tags": [],
            "needs_background": "light"
          }
        }
      ]
    },
    {
      "cell_type": "code",
      "metadata": {
        "colab": {
          "base_uri": "https://localhost:8080/",
          "height": 378
        },
        "id": "g64f34l_0Q10",
        "outputId": "5a515306-9858-446f-c579-5cb9a55fb822"
      },
      "source": [
        "clr=['C3', 'C4', 'C5']\n",
        "\n",
        "paramS  =[ 20042,6218,3658 ]\n",
        "indexS= [\"2 stride\",\"3 stride\",\"4 stride\"]\n",
        "\n",
        "\n",
        "df = pd.DataFrame({\"Total Params\": paramS,\n",
        "                   \"Strides\": indexS })\n",
        "\n",
        "ax = df.plot.bar(x=\"Strides\", y=\"Total Params\",color=clr,figsize=(10,5),title='Total Params according to different stride sizes')"
      ],
      "execution_count": 27,
      "outputs": [
        {
          "output_type": "display_data",
          "data": {
            "image/png": "[encoded data removed]",
            "text/plain": [
              "<Figure size 720x360 with 1 Axes>"
            ]
          },
          "metadata": {
            "tags": [],
            "needs_background": "light"
          }
        }
      ]
    },
    {
      "cell_type": "markdown",
      "metadata": {
        "id": "6nH_wTLUoDJH"
      },
      "source": [
        "### Write your findings about influence of striding here?\r\n",
        "\r\n",
        "1.   Finding 1\r\n",
        "2.   Finding 2\r\n",
        "\r\n",
        "\r\n",
        "\r\n",
        "\r\n",
        "```\r\n",
        "stride=2\r\n",
        "Total params: 20,042\r\n",
        "loss: 2.2545 - accuracy: 0.2560 - val_loss: 2.2468 - val_accuracy: 0.2809\r\n",
        "Time Taken to run the model: 55.66053261199977 seconds\r\n",
        "\r\n",
        "stride=3\r\n",
        "Total params: 6,218\r\n",
        "loss: 2.2819 - accuracy: 0.1217 - val_loss: 2.2797 - val_accuracy: 0.1223\r\n",
        "Time Taken to run the model: 31.717295687999467 seconds\r\n",
        "\r\n",
        "stride=4\r\n",
        "Total params: 3,658\r\n",
        "loss: 2.2934 - accuracy: 0.1383 - val_loss: 2.2916 - val_accuracy: 0.1516\r\n",
        "Time Taken to run the model: 22.80477492599948 seconds\r\n",
        "```\r\n",
        "\r\n"
      ]
    },
    {
      "cell_type": "markdown",
      "metadata": {
        "id": "vsIaUMRIczKb"
      },
      "source": [
        "## Part 3: Influence of Padding\r\n",
        "\r\n",
        "Try the models with padding and without padding.\r\n",
        "\r\n",
        "Analyze the number of model parameters, accuracy and training time"
      ]
    },
    {
      "cell_type": "markdown",
      "metadata": {
        "id": "C8GP6BmVczKd"
      },
      "source": [
        "### Model with (3 x 3) Convolution with Same Padding"
      ]
    },
    {
      "cell_type": "code",
      "metadata": {
        "trusted": true,
        "id": "SZNcZ0BoczKe",
        "colab": {
          "base_uri": "https://localhost:8080/"
        },
        "outputId": "71765181-9b86-43e4-d396-3b7d2a6e4a84"
      },
      "source": [
        "start = timeit.default_timer()   \n",
        "model = Sequential()\n",
        "model.add(Conv2D(8, kernel_size=(3, 3), strides=1, padding='same', activation='relu', input_shape=input_shape))\n",
        "model.add(Conv2D(16, (3, 3), strides=1, padding='same', activation='relu'))\n",
        "model.add(Flatten())\n",
        "model.add(Dense(32, activation='relu'))\n",
        "model.add(Dense(num_classes, activation='softmax'))\n",
        "model.summary()\n",
        "model.compile(loss=keras.losses.categorical_crossentropy, optimizer=keras.optimizers.Adadelta(), metrics=['accuracy'])\n",
        "model.fit(x_train, y_train, batch_size=batch_size, epochs=epochs, verbose=1, validation_data=(x_test, y_test))\n",
        "end = timeit.default_timer()\n",
        "print(\"Time Taken to run the model:\",end - start, \"seconds\")  "
      ],
      "execution_count": 22,
      "outputs": [
        {
          "output_type": "stream",
          "text": [
            "Model: \"sequential_4\"\n",
            "_________________________________________________________________\n",
            "Layer (type)                 Output Shape              Param #   \n",
            "=================================================================\n",
            "conv2d_8 (Conv2D)            (None, 28, 28, 8)         80        \n",
            "_________________________________________________________________\n",
            "conv2d_9 (Conv2D)            (None, 28, 28, 16)        1168      \n",
            "_________________________________________________________________\n",
            "flatten_4 (Flatten)          (None, 12544)             0         \n",
            "_________________________________________________________________\n",
            "dense_8 (Dense)              (None, 32)                401440    \n",
            "_________________________________________________________________\n",
            "dense_9 (Dense)              (None, 10)                330       \n",
            "=================================================================\n",
            "Total params: 403,018\n",
            "Trainable params: 403,018\n",
            "Non-trainable params: 0\n",
            "_________________________________________________________________\n",
            "Epoch 1/10\n",
            "469/469 [==============================] - 41s 86ms/step - loss: 2.2893 - accuracy: 0.0962 - val_loss: 2.2536 - val_accuracy: 0.1384\n",
            "Epoch 2/10\n",
            "469/469 [==============================] - 40s 86ms/step - loss: 2.2401 - accuracy: 0.1507 - val_loss: 2.1884 - val_accuracy: 0.1986\n",
            "Epoch 3/10\n",
            "469/469 [==============================] - 41s 87ms/step - loss: 2.1697 - accuracy: 0.2251 - val_loss: 2.0959 - val_accuracy: 0.3121\n",
            "Epoch 4/10\n",
            "469/469 [==============================] - 40s 86ms/step - loss: 2.0697 - accuracy: 0.3423 - val_loss: 1.9638 - val_accuracy: 0.4231\n",
            "Epoch 5/10\n",
            "469/469 [==============================] - 40s 86ms/step - loss: 1.9296 - accuracy: 0.4605 - val_loss: 1.7790 - val_accuracy: 0.5699\n",
            "Epoch 6/10\n",
            "469/469 [==============================] - 41s 87ms/step - loss: 1.7329 - accuracy: 0.5926 - val_loss: 1.5409 - val_accuracy: 0.6767\n",
            "Epoch 7/10\n",
            "469/469 [==============================] - 41s 86ms/step - loss: 1.4873 - accuracy: 0.6864 - val_loss: 1.2784 - val_accuracy: 0.7284\n",
            "Epoch 8/10\n",
            "469/469 [==============================] - 40s 86ms/step - loss: 1.2411 - accuracy: 0.7270 - val_loss: 1.0450 - val_accuracy: 0.7639\n",
            "Epoch 9/10\n",
            "469/469 [==============================] - 40s 86ms/step - loss: 1.0201 - accuracy: 0.7609 - val_loss: 0.8617 - val_accuracy: 0.8009\n",
            "Epoch 10/10\n",
            "469/469 [==============================] - 40s 86ms/step - loss: 0.8500 - accuracy: 0.7950 - val_loss: 0.7288 - val_accuracy: 0.8281\n",
            "Time Taken to run the model: 405.4889961709996 seconds\n"
          ],
          "name": "stdout"
        }
      ]
    },
    {
      "cell_type": "code",
      "metadata": {
        "id": "lKKnUSgJo0R2",
        "colab": {
          "base_uri": "https://localhost:8080/"
        },
        "outputId": "0cfd173c-b1e3-43c7-cd17-6b7609ec1021"
      },
      "source": [
        "# Write your code here. Use the same architecture as above. \r\n",
        "start = timeit.default_timer()   \r\n",
        "model = Sequential()\r\n",
        "model.add(Conv2D(8, kernel_size=(3, 3), strides=1, padding='valid', activation='relu', input_shape=input_shape))\r\n",
        "model.add(Conv2D(16, (3, 3), strides=1, padding='valid', activation='relu'))\r\n",
        "model.add(Flatten())\r\n",
        "model.add(Dense(32, activation='relu'))\r\n",
        "model.add(Dense(num_classes, activation='softmax'))\r\n",
        "model.summary()\r\n",
        "model.compile(loss=keras.losses.categorical_crossentropy, optimizer=keras.optimizers.Adadelta(), metrics=['accuracy'])\r\n",
        "model.fit(x_train, y_train, batch_size=batch_size, epochs=epochs, verbose=1, validation_data=(x_test, y_test))\r\n",
        "end = timeit.default_timer()\r\n",
        "print(\"Time Taken to run the model:\",end - start, \"seconds\")  \r\n"
      ],
      "execution_count": 26,
      "outputs": [
        {
          "output_type": "stream",
          "text": [
            "Model: \"sequential_5\"\n",
            "_________________________________________________________________\n",
            "Layer (type)                 Output Shape              Param #   \n",
            "=================================================================\n",
            "conv2d_10 (Conv2D)           (None, 26, 26, 8)         80        \n",
            "_________________________________________________________________\n",
            "conv2d_11 (Conv2D)           (None, 24, 24, 16)        1168      \n",
            "_________________________________________________________________\n",
            "flatten_5 (Flatten)          (None, 9216)              0         \n",
            "_________________________________________________________________\n",
            "dense_10 (Dense)             (None, 32)                294944    \n",
            "_________________________________________________________________\n",
            "dense_11 (Dense)             (None, 10)                330       \n",
            "=================================================================\n",
            "Total params: 296,522\n",
            "Trainable params: 296,522\n",
            "Non-trainable params: 0\n",
            "_________________________________________________________________\n",
            "Epoch 1/10\n",
            "469/469 [==============================] - 33s 69ms/step - loss: 2.2604 - accuracy: 0.2239 - val_loss: 2.1536 - val_accuracy: 0.4812\n",
            "Epoch 2/10\n",
            "469/469 [==============================] - 32s 69ms/step - loss: 2.1163 - accuracy: 0.5056 - val_loss: 1.9701 - val_accuracy: 0.5960\n",
            "Epoch 3/10\n",
            "469/469 [==============================] - 32s 69ms/step - loss: 1.9187 - accuracy: 0.6162 - val_loss: 1.7225 - val_accuracy: 0.6733\n",
            "Epoch 4/10\n",
            "469/469 [==============================] - 32s 69ms/step - loss: 1.6654 - accuracy: 0.6792 - val_loss: 1.4449 - val_accuracy: 0.7263\n",
            "Epoch 5/10\n",
            "469/469 [==============================] - 32s 69ms/step - loss: 1.3980 - accuracy: 0.7224 - val_loss: 1.1918 - val_accuracy: 0.7670\n",
            "Epoch 6/10\n",
            "469/469 [==============================] - 32s 69ms/step - loss: 1.1558 - accuracy: 0.7647 - val_loss: 0.9916 - val_accuracy: 0.7979\n",
            "Epoch 7/10\n",
            "469/469 [==============================] - 32s 69ms/step - loss: 0.9751 - accuracy: 0.7878 - val_loss: 0.8446 - val_accuracy: 0.8180\n",
            "Epoch 8/10\n",
            "469/469 [==============================] - 32s 69ms/step - loss: 0.8393 - accuracy: 0.8086 - val_loss: 0.7372 - val_accuracy: 0.8321\n",
            "Epoch 9/10\n",
            "469/469 [==============================] - 32s 69ms/step - loss: 0.7465 - accuracy: 0.8218 - val_loss: 0.6599 - val_accuracy: 0.8444\n",
            "Epoch 10/10\n",
            "469/469 [==============================] - 32s 69ms/step - loss: 0.6711 - accuracy: 0.8357 - val_loss: 0.6025 - val_accuracy: 0.8540\n",
            "Time Taken to run the model: 323.45096540800023 seconds\n"
          ],
          "name": "stdout"
        }
      ]
    },
    {
      "cell_type": "code",
      "metadata": {
        "id": "ddUyN3Fioz_3"
      },
      "source": [
        "# Write your code here. Use the same architecture as above. \r\n",
        "\r\n"
      ],
      "execution_count": null,
      "outputs": []
    },
    {
      "cell_type": "markdown",
      "metadata": {
        "id": "xp-yZFx4oEqt"
      },
      "source": [
        "### Write your findings about influence of padding here?\r\n",
        "\r\n",
        "1.   The addition of padding, extends model training time.\r\n",
        "2.   We train more parameters in the model,if we use padding.\r\n",
        "\r\n",
        "\r\n",
        "```\r\n",
        "with padding \r\n",
        "Total params: 403,018\r\n",
        "loss: 0.8500 - accuracy: 0.7950 - val_loss: 0.7288 - val_accuracy: 0.8281\r\n",
        "Time Taken to run the model: 405.4889961709996 seconds\r\n",
        "\r\n",
        "without padding\r\n",
        "Total params: 296,522\r\n",
        "loss: 0.6711 - accuracy: 0.8357 - val_loss: 0.6025 - val_accuracy: 0.8540\r\n",
        "Time Taken to run the model: 323.45096540800023 seconds\r\n",
        "```\r\n",
        "\r\n",
        "\r\n"
      ]
    },
    {
      "cell_type": "markdown",
      "metadata": {
        "id": "KvGFyAkjczKj"
      },
      "source": [
        "## Part 4: Influence of Pooling\r\n",
        "\r\n",
        "Try the models with different pooling window sizes such as 2x2, 3x3, 4x4 etc.\r\n",
        "\r\n",
        "Analyze the number of model parameters, accuracy and training time"
      ]
    },
    {
      "cell_type": "markdown",
      "metadata": {
        "id": "R1W63cBLczKk"
      },
      "source": [
        "### Model with (3 x 3) Convolution with Pooling (2 x 2) "
      ]
    },
    {
      "cell_type": "code",
      "metadata": {
        "trusted": true,
        "id": "-qOGWya1czKl",
        "colab": {
          "base_uri": "https://localhost:8080/"
        },
        "outputId": "3ee5d5d9-23b5-4ed1-c5ba-cf00f0fa13aa"
      },
      "source": [
        "start = timeit.default_timer()   \n",
        "model = Sequential()\n",
        "model.add(Conv2D(8, kernel_size=(3, 3), activation='relu', input_shape=input_shape))\n",
        "model.add(MaxPooling2D(pool_size=(2, 2)))\n",
        "model.add(Conv2D(16, (3, 3), activation='relu'))\n",
        "model.add(MaxPooling2D(pool_size=(2, 2)))\n",
        "model.add(Flatten())\n",
        "model.add(Dense(32, activation='relu'))\n",
        "model.add(Dense(num_classes, activation='softmax'))\n",
        "model.summary()\n",
        "model.compile(loss=keras.losses.categorical_crossentropy, optimizer=keras.optimizers.Adadelta(), metrics=['accuracy'])\n",
        "model.fit(x_train, y_train, batch_size=batch_size, epochs=epochs, verbose=1, validation_data=(x_test, y_test))\n",
        "end = timeit.default_timer()\n",
        "print(\"Time Taken to run the model:\",end - start, \"seconds\")  "
      ],
      "execution_count": 30,
      "outputs": [
        {
          "output_type": "stream",
          "text": [
            "Model: \"sequential_6\"\n",
            "_________________________________________________________________\n",
            "Layer (type)                 Output Shape              Param #   \n",
            "=================================================================\n",
            "conv2d_12 (Conv2D)           (None, 26, 26, 8)         80        \n",
            "_________________________________________________________________\n",
            "max_pooling2d (MaxPooling2D) (None, 13, 13, 8)         0         \n",
            "_________________________________________________________________\n",
            "conv2d_13 (Conv2D)           (None, 11, 11, 16)        1168      \n",
            "_________________________________________________________________\n",
            "max_pooling2d_1 (MaxPooling2 (None, 5, 5, 16)          0         \n",
            "_________________________________________________________________\n",
            "flatten_6 (Flatten)          (None, 400)               0         \n",
            "_________________________________________________________________\n",
            "dense_12 (Dense)             (None, 32)                12832     \n",
            "_________________________________________________________________\n",
            "dense_13 (Dense)             (None, 10)                330       \n",
            "=================================================================\n",
            "Total params: 14,410\n",
            "Trainable params: 14,410\n",
            "Non-trainable params: 0\n",
            "_________________________________________________________________\n",
            "Epoch 1/10\n",
            "469/469 [==============================] - 18s 38ms/step - loss: 2.3515 - accuracy: 0.0895 - val_loss: 2.3439 - val_accuracy: 0.0922\n",
            "Epoch 2/10\n",
            "469/469 [==============================] - 18s 38ms/step - loss: 2.3378 - accuracy: 0.0937 - val_loss: 2.3278 - val_accuracy: 0.1014\n",
            "Epoch 3/10\n",
            "469/469 [==============================] - 18s 37ms/step - loss: 2.3195 - accuracy: 0.1077 - val_loss: 2.3126 - val_accuracy: 0.1105\n",
            "Epoch 4/10\n",
            "469/469 [==============================] - 18s 37ms/step - loss: 2.3055 - accuracy: 0.1145 - val_loss: 2.2981 - val_accuracy: 0.1171\n",
            "Epoch 5/10\n",
            "469/469 [==============================] - 18s 37ms/step - loss: 2.2923 - accuracy: 0.1236 - val_loss: 2.2838 - val_accuracy: 0.1233\n",
            "Epoch 6/10\n",
            "469/469 [==============================] - 18s 37ms/step - loss: 2.2776 - accuracy: 0.1297 - val_loss: 2.2692 - val_accuracy: 0.1300\n",
            "Epoch 7/10\n",
            "469/469 [==============================] - 18s 37ms/step - loss: 2.2631 - accuracy: 0.1358 - val_loss: 2.2542 - val_accuracy: 0.1389\n",
            "Epoch 8/10\n",
            "469/469 [==============================] - 18s 37ms/step - loss: 2.2477 - accuracy: 0.1457 - val_loss: 2.2387 - val_accuracy: 0.1496\n",
            "Epoch 9/10\n",
            "469/469 [==============================] - 18s 38ms/step - loss: 2.2320 - accuracy: 0.1597 - val_loss: 2.2225 - val_accuracy: 0.1744\n",
            "Epoch 10/10\n",
            "469/469 [==============================] - 18s 37ms/step - loss: 2.2165 - accuracy: 0.1808 - val_loss: 2.2058 - val_accuracy: 0.2001\n",
            "Time Taken to run the model: 176.40380293500039 seconds\n"
          ],
          "name": "stdout"
        }
      ]
    },
    {
      "cell_type": "markdown",
      "metadata": {
        "id": "BUBHv14oczKp"
      },
      "source": [
        "### Model with (3 x 3) Convolution with Pooling (3 x 3) "
      ]
    },
    {
      "cell_type": "code",
      "metadata": {
        "trusted": true,
        "id": "z3iYWjRDczKr",
        "colab": {
          "base_uri": "https://localhost:8080/"
        },
        "outputId": "341fdd93-08d6-4fe0-ff81-6d34e92f56bb"
      },
      "source": [
        "start = timeit.default_timer()   \n",
        "model = Sequential()\n",
        "model.add(Conv2D(8, kernel_size=(3, 3), activation='relu', input_shape=input_shape))\n",
        "model.add(MaxPooling2D(pool_size=(3, 3)))\n",
        "model.add(Conv2D(16, (3, 3), activation='relu'))\n",
        "model.add(MaxPooling2D(pool_size=(3, 3)))\n",
        "model.add(Flatten())\n",
        "model.add(Dense(32, activation='relu'))\n",
        "model.add(Dense(num_classes, activation='softmax'))\n",
        "model.summary()\n",
        "model.compile(loss=keras.losses.categorical_crossentropy, optimizer=keras.optimizers.Adadelta(), metrics=['accuracy'])\n",
        "model.fit(x_train, y_train, batch_size=batch_size, epochs=epochs, verbose=1, validation_data=(x_test, y_test))\n",
        "end = timeit.default_timer()\n",
        "print(\"Time Taken to run the model:\",end - start, \"seconds\")  "
      ],
      "execution_count": 31,
      "outputs": [
        {
          "output_type": "stream",
          "text": [
            "Model: \"sequential_7\"\n",
            "_________________________________________________________________\n",
            "Layer (type)                 Output Shape              Param #   \n",
            "=================================================================\n",
            "conv2d_14 (Conv2D)           (None, 26, 26, 8)         80        \n",
            "_________________________________________________________________\n",
            "max_pooling2d_2 (MaxPooling2 (None, 8, 8, 8)           0         \n",
            "_________________________________________________________________\n",
            "conv2d_15 (Conv2D)           (None, 6, 6, 16)          1168      \n",
            "_________________________________________________________________\n",
            "max_pooling2d_3 (MaxPooling2 (None, 2, 2, 16)          0         \n",
            "_________________________________________________________________\n",
            "flatten_7 (Flatten)          (None, 64)                0         \n",
            "_________________________________________________________________\n",
            "dense_14 (Dense)             (None, 32)                2080      \n",
            "_________________________________________________________________\n",
            "dense_15 (Dense)             (None, 10)                330       \n",
            "=================================================================\n",
            "Total params: 3,658\n",
            "Trainable params: 3,658\n",
            "Non-trainable params: 0\n",
            "_________________________________________________________________\n",
            "Epoch 1/10\n",
            "469/469 [==============================] - 15s 31ms/step - loss: 2.3055 - accuracy: 0.1293 - val_loss: 2.3046 - val_accuracy: 0.1331\n",
            "Epoch 2/10\n",
            "469/469 [==============================] - 14s 30ms/step - loss: 2.3048 - accuracy: 0.1288 - val_loss: 2.3036 - val_accuracy: 0.1343\n",
            "Epoch 3/10\n",
            "469/469 [==============================] - 14s 30ms/step - loss: 2.3033 - accuracy: 0.1315 - val_loss: 2.3026 - val_accuracy: 0.1356\n",
            "Epoch 4/10\n",
            "469/469 [==============================] - 14s 30ms/step - loss: 2.3028 - accuracy: 0.1325 - val_loss: 2.3016 - val_accuracy: 0.1367\n",
            "Epoch 5/10\n",
            "469/469 [==============================] - 14s 30ms/step - loss: 2.3018 - accuracy: 0.1316 - val_loss: 2.3006 - val_accuracy: 0.1378\n",
            "Epoch 6/10\n",
            "469/469 [==============================] - 14s 30ms/step - loss: 2.3008 - accuracy: 0.1336 - val_loss: 2.2996 - val_accuracy: 0.1388\n",
            "Epoch 7/10\n",
            "469/469 [==============================] - 14s 30ms/step - loss: 2.2997 - accuracy: 0.1353 - val_loss: 2.2986 - val_accuracy: 0.1397\n",
            "Epoch 8/10\n",
            "469/469 [==============================] - 14s 30ms/step - loss: 2.2989 - accuracy: 0.1354 - val_loss: 2.2976 - val_accuracy: 0.1405\n",
            "Epoch 9/10\n",
            "469/469 [==============================] - 14s 30ms/step - loss: 2.2977 - accuracy: 0.1371 - val_loss: 2.2966 - val_accuracy: 0.1409\n",
            "Epoch 10/10\n",
            "469/469 [==============================] - 14s 30ms/step - loss: 2.2968 - accuracy: 0.1367 - val_loss: 2.2956 - val_accuracy: 0.1423\n",
            "Time Taken to run the model: 142.85254495199842 seconds\n"
          ],
          "name": "stdout"
        }
      ]
    },
    {
      "cell_type": "markdown",
      "metadata": {
        "id": "jWBHnOVB2T4w"
      },
      "source": [
        "### Model with (3 x 3) Convolution with Pooling (4 x 4) "
      ]
    },
    {
      "cell_type": "code",
      "metadata": {
        "id": "4fsnp2wMpfTP",
        "colab": {
          "base_uri": "https://localhost:8080/"
        },
        "outputId": "f462c1c6-bfb2-47bc-e886-09f13f537308"
      },
      "source": [
        "start = timeit.default_timer()   \r\n",
        "model = Sequential()\r\n",
        "model.add(Conv2D(8, kernel_size=(3, 3), activation='relu', input_shape=input_shape))\r\n",
        "model.add(MaxPooling2D(pool_size=(4, 4)))\r\n",
        "model.add(Conv2D(16, (3, 3), activation='relu'))\r\n",
        "model.add(MaxPooling2D(pool_size=(4, 4)))\r\n",
        "model.add(Flatten())\r\n",
        "model.add(Dense(32, activation='relu'))\r\n",
        "model.add(Dense(num_classes, activation='softmax'))\r\n",
        "model.summary()\r\n",
        "model.compile(loss=keras.losses.categorical_crossentropy, optimizer=keras.optimizers.Adadelta(), metrics=['accuracy'])\r\n",
        "model.fit(x_train, y_train, batch_size=batch_size, epochs=epochs, verbose=1, validation_data=(x_test, y_test))\r\n",
        "end = timeit.default_timer()\r\n",
        "print(\"Time Taken to run the model:\",end - start, \"seconds\") "
      ],
      "execution_count": 32,
      "outputs": [
        {
          "output_type": "stream",
          "text": [
            "Model: \"sequential_8\"\n",
            "_________________________________________________________________\n",
            "Layer (type)                 Output Shape              Param #   \n",
            "=================================================================\n",
            "conv2d_16 (Conv2D)           (None, 26, 26, 8)         80        \n",
            "_________________________________________________________________\n",
            "max_pooling2d_4 (MaxPooling2 (None, 6, 6, 8)           0         \n",
            "_________________________________________________________________\n",
            "conv2d_17 (Conv2D)           (None, 4, 4, 16)          1168      \n",
            "_________________________________________________________________\n",
            "max_pooling2d_5 (MaxPooling2 (None, 1, 1, 16)          0         \n",
            "_________________________________________________________________\n",
            "flatten_8 (Flatten)          (None, 16)                0         \n",
            "_________________________________________________________________\n",
            "dense_16 (Dense)             (None, 32)                544       \n",
            "_________________________________________________________________\n",
            "dense_17 (Dense)             (None, 10)                330       \n",
            "=================================================================\n",
            "Total params: 2,122\n",
            "Trainable params: 2,122\n",
            "Non-trainable params: 0\n",
            "_________________________________________________________________\n",
            "Epoch 1/10\n",
            "469/469 [==============================] - 14s 29ms/step - loss: 2.3540 - accuracy: 0.0992 - val_loss: 2.3476 - val_accuracy: 0.0994\n",
            "Epoch 2/10\n",
            "469/469 [==============================] - 13s 28ms/step - loss: 2.3482 - accuracy: 0.1026 - val_loss: 2.3424 - val_accuracy: 0.1023\n",
            "Epoch 3/10\n",
            "469/469 [==============================] - 13s 28ms/step - loss: 2.3424 - accuracy: 0.1047 - val_loss: 2.3376 - val_accuracy: 0.1038\n",
            "Epoch 4/10\n",
            "469/469 [==============================] - 13s 28ms/step - loss: 2.3380 - accuracy: 0.1046 - val_loss: 2.3333 - val_accuracy: 0.1006\n",
            "Epoch 5/10\n",
            "469/469 [==============================] - 13s 28ms/step - loss: 2.3331 - accuracy: 0.1013 - val_loss: 2.3295 - val_accuracy: 0.1003\n",
            "Epoch 6/10\n",
            "469/469 [==============================] - 13s 28ms/step - loss: 2.3285 - accuracy: 0.0996 - val_loss: 2.3260 - val_accuracy: 0.0979\n",
            "Epoch 7/10\n",
            "469/469 [==============================] - 13s 28ms/step - loss: 2.3266 - accuracy: 0.0970 - val_loss: 2.3228 - val_accuracy: 0.0955\n",
            "Epoch 8/10\n",
            "469/469 [==============================] - 13s 28ms/step - loss: 2.3254 - accuracy: 0.0921 - val_loss: 2.3200 - val_accuracy: 0.0938\n",
            "Epoch 9/10\n",
            "469/469 [==============================] - 13s 29ms/step - loss: 2.3213 - accuracy: 0.0926 - val_loss: 2.3174 - val_accuracy: 0.0920\n",
            "Epoch 10/10\n",
            "469/469 [==============================] - 13s 28ms/step - loss: 2.3184 - accuracy: 0.0869 - val_loss: 2.3151 - val_accuracy: 0.0898\n",
            "Time Taken to run the model: 133.84468112099967 seconds\n"
          ],
          "name": "stdout"
        }
      ]
    },
    {
      "cell_type": "markdown",
      "metadata": {
        "id": "GCBC1uTjoGQB"
      },
      "source": [
        "### Write your findings about influence of pooling here?\r\n",
        "\r\n",
        "1.   if you increase the pooling size,model accuracy getting lower and number of total parameters that we learn decreases\r\n",
        "2.   if your model has small size of pooling, computation time will be high.\r\n",
        "\r\n",
        "\r\n",
        "\r\n",
        "```\r\n",
        "Model with (3 x 3) Convolution with Pooling (2 x 2)\r\n",
        "Total params: 14,410\r\n",
        "loss: 2.2165 - accuracy: 0.1808 - val_loss: 2.2058 - val_accuracy: 0.2001\r\n",
        "Time Taken to run the model: 176.40380293500039 seconds\r\n",
        "\r\n",
        "Model with (3 x 3) Convolution with Pooling (3 x 3)\r\n",
        "Total params: 3,658\r\n",
        "loss: 2.2968 - accuracy: 0.1367 - val_loss: 2.2956 - val_accuracy: 0.1423\r\n",
        "Time Taken to run the model: 142.85254495199842 seconds\r\n",
        "\r\n",
        "Model with (3 x 3) Convolution with Pooling (4 x 4)\r\n",
        "Total params: 2,122\r\n",
        "loss: 2.3184 - accuracy: 0.0869 - val_loss: 2.3151 - val_accuracy: 0.0898\r\n",
        "Time Taken to run the model: 133.84468112099967 seconds\r\n",
        "\r\n",
        "\r\n",
        "```\r\n",
        "\r\n",
        "\r\n"
      ]
    },
    {
      "cell_type": "code",
      "metadata": {
        "id": "f7yrDBr_8PPQ"
      },
      "source": [
        ""
      ],
      "execution_count": null,
      "outputs": []
    }
  ]
}