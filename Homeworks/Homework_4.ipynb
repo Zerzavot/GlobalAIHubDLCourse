{
  "nbformat": 4,
  "nbformat_minor": 0,
  "metadata": {
    "colab": {
      "name": "Homework_4.ipynb",
      "provenance": [],
      "collapsed_sections": []
    },
    "language_info": {
      "mimetype": "text/x-python",
      "nbconvert_exporter": "python",
      "name": "python",
      "file_extension": ".py",
      "version": "3.5.4",
      "pygments_lexer": "ipython3",
      "codemirror_mode": {
        "version": 3,
        "name": "ipython"
      }
    },
    "kernelspec": {
      "name": "python3",
      "display_name": "Python 3",
      "language": "python"
    }
  },
  "cells": [
    {
      "cell_type": "markdown",
      "metadata": {
        "id": "K64BL-JSibBT"
      },
      "source": [
        "# Design Choices in Recurrent Neural Networks"
      ]
    },
    {
      "cell_type": "markdown",
      "metadata": {
        "id": "9qizsy1_ia__"
      },
      "source": [
        "###  Importing packages"
      ]
    },
    {
      "cell_type": "code",
      "metadata": {
        "trusted": true,
        "id": "SQQBH6fFibAA"
      },
      "source": [
        "import re\n",
        "import numpy as np\n",
        "import pandas as pd \n",
        "\n",
        "from sklearn.feature_extraction.text import CountVectorizer\n",
        "from sklearn.model_selection import train_test_split\n",
        "\n",
        "from keras.preprocessing import sequence\n",
        "from keras.preprocessing.text import Tokenizer\n",
        "from keras.preprocessing.sequence import pad_sequences\n",
        "from keras.models import Sequential\n",
        "from keras.layers import Dense, Embedding, LSTM\n",
        "from keras.datasets import imdb\n",
        "\n",
        "from keras.utils.np_utils import to_categorical\n",
        "\n",
        "import warnings\n",
        "warnings.filterwarnings('ignore')\n",
        "import ssl\n",
        "ssl._create_default_https_context = ssl._create_unverified_context"
      ],
      "execution_count": 19,
      "outputs": []
    },
    {
      "cell_type": "markdown",
      "metadata": {
        "id": "iq1zkjoZibAG"
      },
      "source": [
        "### Preparing Dataset"
      ]
    },
    {
      "cell_type": "code",
      "metadata": {
        "trusted": true,
        "id": "4HAT-LWqibAG",
        "colab": {
          "base_uri": "https://localhost:8080/"
        },
        "outputId": "7a8e6ed7-9521-4073-b7a6-5a3f43a911fa"
      },
      "source": [
        "max_features = 1000\n",
        "maxlen = 80  # cut texts after this number of words (among top max_features most common words)\n",
        "batch_size = 32\n",
        "\n",
        "# save np.load\n",
        "#np_load_old = np.load\n",
        "\n",
        "# modify the default parameters of np.load\n",
        "#np.load = lambda *a,**k: np_load_old(*a, allow_pickle=True, **k)\n",
        "\n",
        "print('Loading data...')\n",
        "(x_train, y_train), (x_test, y_test) = imdb.load_data(num_words=max_features)\n",
        "print(len(x_train), 'train sequences')\n",
        "print(len(x_test), 'test sequences')\n",
        "\n",
        "#np.load = np_load_old\n",
        "\n",
        "print('Pad sequences (samples x time)')\n",
        "x_train = sequence.pad_sequences(x_train, maxlen=maxlen)\n",
        "x_test = sequence.pad_sequences(x_test, maxlen=maxlen)\n",
        "print('x_train shape:', x_train.shape)\n",
        "print('x_test shape:', x_test.shape)"
      ],
      "execution_count": 20,
      "outputs": [
        {
          "output_type": "stream",
          "text": [
            "Loading data...\n",
            "25000 train sequences\n",
            "25000 test sequences\n",
            "Pad sequences (samples x time)\n",
            "x_train shape: (25000, 80)\n",
            "x_test shape: (25000, 80)\n"
          ],
          "name": "stdout"
        }
      ]
    },
    {
      "cell_type": "markdown",
      "metadata": {
        "id": "45x9V7tSibBT"
      },
      "source": [
        "## Part 1: Influence of number of nodes\r\n",
        "\r\n",
        "Try the models with different number of nodes such as 32, 64, 128 etc.\r\n",
        "\r\n",
        "Analyze the number of model parameters, accuracy and training time"
      ]
    },
    {
      "cell_type": "markdown",
      "metadata": {
        "id": "jYmu59jHibBU"
      },
      "source": [
        "### LSTM with 8 nodes"
      ]
    },
    {
      "cell_type": "code",
      "metadata": {
        "trusted": true,
        "id": "xBy67aRQibBY",
        "colab": {
          "base_uri": "https://localhost:8080/"
        },
        "outputId": "666aebe8-f28d-463a-9fac-aa69452be646"
      },
      "source": [
        "model = Sequential()\n",
        "model.add(Embedding(max_features, 8))\n",
        "model.add(LSTM(8, dropout=0.0, recurrent_dropout=0.0))\n",
        "model.add(Dense(1, activation='sigmoid'))\n",
        "model.summary()\n",
        "\n",
        "model.compile(loss='binary_crossentropy', optimizer='adam', metrics=['accuracy'])\n",
        "model.fit(x_train, y_train, batch_size=batch_size, epochs=5, validation_data=(x_test, y_test))\n",
        "\n",
        "score, acc = model.evaluate(x_test, y_test, batch_size=batch_size)\n",
        "print('Test score:', score)\n",
        "print('Test accuracy:', acc)"
      ],
      "execution_count": 21,
      "outputs": [
        {
          "output_type": "stream",
          "text": [
            "Model: \"sequential_12\"\n",
            "_________________________________________________________________\n",
            "Layer (type)                 Output Shape              Param #   \n",
            "=================================================================\n",
            "embedding_12 (Embedding)     (None, None, 8)           8000      \n",
            "_________________________________________________________________\n",
            "lstm_17 (LSTM)               (None, 8)                 544       \n",
            "_________________________________________________________________\n",
            "dense_12 (Dense)             (None, 1)                 9         \n",
            "=================================================================\n",
            "Total params: 8,553\n",
            "Trainable params: 8,553\n",
            "Non-trainable params: 0\n",
            "_________________________________________________________________\n",
            "Epoch 1/5\n",
            "782/782 [==============================] - 31s 37ms/step - loss: 0.6070 - accuracy: 0.6509 - val_loss: 0.4365 - val_accuracy: 0.8012\n",
            "Epoch 2/5\n",
            "782/782 [==============================] - 30s 38ms/step - loss: 0.4075 - accuracy: 0.8203 - val_loss: 0.4097 - val_accuracy: 0.8095\n",
            "Epoch 3/5\n",
            "782/782 [==============================] - 29s 37ms/step - loss: 0.3823 - accuracy: 0.8288 - val_loss: 0.3926 - val_accuracy: 0.8196\n",
            "Epoch 4/5\n",
            "782/782 [==============================] - 29s 37ms/step - loss: 0.3746 - accuracy: 0.8341 - val_loss: 0.3920 - val_accuracy: 0.8207\n",
            "Epoch 5/5\n",
            "782/782 [==============================] - 29s 37ms/step - loss: 0.3701 - accuracy: 0.8337 - val_loss: 0.3869 - val_accuracy: 0.8228\n",
            "782/782 [==============================] - 4s 5ms/step - loss: 0.3869 - accuracy: 0.8228\n",
            "Test score: 0.38689520955085754\n",
            "Test accuracy: 0.8228399753570557\n"
          ],
          "name": "stdout"
        }
      ]
    },
    {
      "cell_type": "markdown",
      "metadata": {
        "id": "X9ZD__ogibBb"
      },
      "source": [
        "### LSTM with 16 nodes"
      ]
    },
    {
      "cell_type": "code",
      "metadata": {
        "trusted": true,
        "id": "C5CNadYribBb",
        "colab": {
          "base_uri": "https://localhost:8080/"
        },
        "outputId": "af71ed45-37f3-4bc2-e656-682af3d3c87e"
      },
      "source": [
        "model = Sequential()\n",
        "model.add(Embedding(max_features, 8))\n",
        "model.add(LSTM(16, dropout=0.0, recurrent_dropout=0.0))\n",
        "model.add(Dense(1, activation='sigmoid'))\n",
        "model.summary()\n",
        "\n",
        "model.compile(loss='binary_crossentropy', optimizer='adam', metrics=['accuracy'])\n",
        "model.fit(x_train, y_train, batch_size=batch_size, epochs=5, validation_data=(x_test, y_test))\n",
        "\n",
        "score, acc = model.evaluate(x_test, y_test, batch_size=batch_size)\n",
        "print('Test score:', score)\n",
        "print('Test accuracy:', acc)"
      ],
      "execution_count": 6,
      "outputs": [
        {
          "output_type": "stream",
          "text": [
            "Model: \"sequential_2\"\n",
            "_________________________________________________________________\n",
            "Layer (type)                 Output Shape              Param #   \n",
            "=================================================================\n",
            "embedding_2 (Embedding)      (None, None, 8)           8000      \n",
            "_________________________________________________________________\n",
            "lstm_2 (LSTM)                (None, 16)                1600      \n",
            "_________________________________________________________________\n",
            "dense_2 (Dense)              (None, 1)                 17        \n",
            "=================================================================\n",
            "Total params: 9,617\n",
            "Trainable params: 9,617\n",
            "Non-trainable params: 0\n",
            "_________________________________________________________________\n",
            "Epoch 1/5\n",
            "782/782 [==============================] - 28s 33ms/step - loss: 0.5735 - accuracy: 0.6695 - val_loss: 0.4098 - val_accuracy: 0.8133\n",
            "Epoch 2/5\n",
            "782/782 [==============================] - 26s 33ms/step - loss: 0.3974 - accuracy: 0.8234 - val_loss: 0.4093 - val_accuracy: 0.8142\n",
            "Epoch 3/5\n",
            "782/782 [==============================] - 26s 33ms/step - loss: 0.3870 - accuracy: 0.8255 - val_loss: 0.3922 - val_accuracy: 0.8180\n",
            "Epoch 4/5\n",
            "782/782 [==============================] - 26s 33ms/step - loss: 0.3844 - accuracy: 0.8230 - val_loss: 0.4059 - val_accuracy: 0.8120\n",
            "Epoch 5/5\n",
            "782/782 [==============================] - 26s 33ms/step - loss: 0.3724 - accuracy: 0.8332 - val_loss: 0.3929 - val_accuracy: 0.8189\n",
            "782/782 [==============================] - 5s 6ms/step - loss: 0.3929 - accuracy: 0.8189\n",
            "Test score: 0.39285382628440857\n",
            "Test accuracy: 0.8189200162887573\n"
          ],
          "name": "stdout"
        }
      ]
    },
    {
      "cell_type": "markdown",
      "metadata": {
        "id": "EiWsr5dU_c6K"
      },
      "source": [
        "### LSTM with 32 nodes"
      ]
    },
    {
      "cell_type": "code",
      "metadata": {
        "id": "HtWxrXlSqz_h",
        "colab": {
          "base_uri": "https://localhost:8080/"
        },
        "outputId": "2f1b3996-0934-4ea1-f8d2-4e24aeff5391"
      },
      "source": [
        "# Write your code here. Use the same architecture as above. \r\n",
        "\r\n",
        "model = Sequential()\r\n",
        "model.add(Embedding(max_features, 8))\r\n",
        "model.add(LSTM(32, dropout=0.0, recurrent_dropout=0.0))\r\n",
        "model.add(Dense(1, activation='sigmoid'))\r\n",
        "model.summary()\r\n",
        "\r\n",
        "model.compile(loss='binary_crossentropy', optimizer='adam', metrics=['accuracy'])\r\n",
        "model.fit(x_train, y_train, batch_size=batch_size, epochs=5, validation_data=(x_test, y_test))\r\n",
        "\r\n",
        "score, acc = model.evaluate(x_test, y_test, batch_size=batch_size)\r\n",
        "print('Test score:', score)\r\n",
        "print('Test accuracy:', acc)"
      ],
      "execution_count": 7,
      "outputs": [
        {
          "output_type": "stream",
          "text": [
            "Model: \"sequential_3\"\n",
            "_________________________________________________________________\n",
            "Layer (type)                 Output Shape              Param #   \n",
            "=================================================================\n",
            "embedding_3 (Embedding)      (None, None, 8)           8000      \n",
            "_________________________________________________________________\n",
            "lstm_3 (LSTM)                (None, 32)                5248      \n",
            "_________________________________________________________________\n",
            "dense_3 (Dense)              (None, 1)                 33        \n",
            "=================================================================\n",
            "Total params: 13,281\n",
            "Trainable params: 13,281\n",
            "Non-trainable params: 0\n",
            "_________________________________________________________________\n",
            "Epoch 1/5\n",
            "782/782 [==============================] - 32s 39ms/step - loss: 0.5838 - accuracy: 0.6571 - val_loss: 0.4110 - val_accuracy: 0.8137\n",
            "Epoch 2/5\n",
            "782/782 [==============================] - 30s 38ms/step - loss: 0.4018 - accuracy: 0.8171 - val_loss: 0.4087 - val_accuracy: 0.8188\n",
            "Epoch 3/5\n",
            "782/782 [==============================] - 30s 38ms/step - loss: 0.3881 - accuracy: 0.8262 - val_loss: 0.4036 - val_accuracy: 0.8144\n",
            "Epoch 4/5\n",
            "782/782 [==============================] - 30s 38ms/step - loss: 0.3815 - accuracy: 0.8308 - val_loss: 0.3985 - val_accuracy: 0.8145\n",
            "Epoch 5/5\n",
            "782/782 [==============================] - 30s 38ms/step - loss: 0.3740 - accuracy: 0.8330 - val_loss: 0.3910 - val_accuracy: 0.8220\n",
            "782/782 [==============================] - 6s 8ms/step - loss: 0.3910 - accuracy: 0.8220\n",
            "Test score: 0.3910311460494995\n",
            "Test accuracy: 0.8220000267028809\n"
          ],
          "name": "stdout"
        }
      ]
    },
    {
      "cell_type": "markdown",
      "metadata": {
        "id": "qarCl9CW_dw-"
      },
      "source": [
        "### LSTM with 64 nodes"
      ]
    },
    {
      "cell_type": "code",
      "metadata": {
        "colab": {
          "base_uri": "https://localhost:8080/"
        },
        "id": "St-HngiU_hz1",
        "outputId": "b95b11f4-df67-4c42-aebb-bd9aeef7d4a1"
      },
      "source": [
        "model = Sequential()\n",
        "model.add(Embedding(max_features, 8))\n",
        "model.add(LSTM(64, dropout=0.0, recurrent_dropout=0.0))\n",
        "model.add(Dense(1, activation='sigmoid'))\n",
        "model.summary()\n",
        "\n",
        "model.compile(loss='binary_crossentropy', optimizer='adam', metrics=['accuracy'])\n",
        "model.fit(x_train, y_train, batch_size=batch_size, epochs=5, validation_data=(x_test, y_test))\n",
        "\n",
        "score, acc = model.evaluate(x_test, y_test, batch_size=batch_size)\n",
        "print('Test score:', score)\n",
        "print('Test accuracy:', acc)"
      ],
      "execution_count": 8,
      "outputs": [
        {
          "output_type": "stream",
          "text": [
            "Model: \"sequential_4\"\n",
            "_________________________________________________________________\n",
            "Layer (type)                 Output Shape              Param #   \n",
            "=================================================================\n",
            "embedding_4 (Embedding)      (None, None, 8)           8000      \n",
            "_________________________________________________________________\n",
            "lstm_4 (LSTM)                (None, 64)                18688     \n",
            "_________________________________________________________________\n",
            "dense_4 (Dense)              (None, 1)                 65        \n",
            "=================================================================\n",
            "Total params: 26,753\n",
            "Trainable params: 26,753\n",
            "Non-trainable params: 0\n",
            "_________________________________________________________________\n",
            "Epoch 1/5\n",
            "782/782 [==============================] - 42s 50ms/step - loss: 0.6142 - accuracy: 0.6246 - val_loss: 0.4132 - val_accuracy: 0.8141\n",
            "Epoch 2/5\n",
            "782/782 [==============================] - 41s 53ms/step - loss: 0.3997 - accuracy: 0.8196 - val_loss: 0.4093 - val_accuracy: 0.8142\n",
            "Epoch 3/5\n",
            "782/782 [==============================] - 44s 56ms/step - loss: 0.3865 - accuracy: 0.8288 - val_loss: 0.4023 - val_accuracy: 0.8183\n",
            "Epoch 4/5\n",
            "782/782 [==============================] - 43s 55ms/step - loss: 0.3778 - accuracy: 0.8336 - val_loss: 0.4081 - val_accuracy: 0.8189\n",
            "Epoch 5/5\n",
            "782/782 [==============================] - 43s 55ms/step - loss: 0.3754 - accuracy: 0.8297 - val_loss: 0.3859 - val_accuracy: 0.8209\n",
            "782/782 [==============================] - 10s 13ms/step - loss: 0.3859 - accuracy: 0.8209\n",
            "Test score: 0.3859326243400574\n",
            "Test accuracy: 0.8208799958229065\n"
          ],
          "name": "stdout"
        }
      ]
    },
    {
      "cell_type": "markdown",
      "metadata": {
        "id": "hcG4PXYb_iXW"
      },
      "source": [
        "### LSTM with 128 nodes\n",
        "\n",
        "\n",
        "\n"
      ]
    },
    {
      "cell_type": "code",
      "metadata": {
        "colab": {
          "base_uri": "https://localhost:8080/"
        },
        "id": "4mANHdbu_l9w",
        "outputId": "ca246044-0ead-413f-ff69-7b4a411bcdda"
      },
      "source": [
        "model = Sequential()\n",
        "model.add(Embedding(max_features, 8))\n",
        "model.add(LSTM(128, dropout=0.0, recurrent_dropout=0.0))\n",
        "model.add(Dense(1, activation='sigmoid'))\n",
        "model.summary()\n",
        "\n",
        "model.compile(loss='binary_crossentropy', optimizer='adam', metrics=['accuracy'])\n",
        "model.fit(x_train, y_train, batch_size=batch_size, epochs=5, validation_data=(x_test, y_test))\n",
        "\n",
        "score, acc = model.evaluate(x_test, y_test, batch_size=batch_size)\n",
        "print('Test score:', score)\n",
        "print('Test accuracy:', acc)"
      ],
      "execution_count": 10,
      "outputs": [
        {
          "output_type": "stream",
          "text": [
            "Model: \"sequential_6\"\n",
            "_________________________________________________________________\n",
            "Layer (type)                 Output Shape              Param #   \n",
            "=================================================================\n",
            "embedding_6 (Embedding)      (None, None, 8)           8000      \n",
            "_________________________________________________________________\n",
            "lstm_9 (LSTM)                (None, 128)               70144     \n",
            "_________________________________________________________________\n",
            "dense_6 (Dense)              (None, 1)                 129       \n",
            "=================================================================\n",
            "Total params: 78,273\n",
            "Trainable params: 78,273\n",
            "Non-trainable params: 0\n",
            "_________________________________________________________________\n",
            "Epoch 1/5\n",
            "782/782 [==============================] - 85s 106ms/step - loss: 0.5962 - accuracy: 0.6516 - val_loss: 0.4176 - val_accuracy: 0.8133\n",
            "Epoch 2/5\n",
            "782/782 [==============================] - 81s 104ms/step - loss: 0.4032 - accuracy: 0.8217 - val_loss: 0.4148 - val_accuracy: 0.8166\n",
            "Epoch 3/5\n",
            "782/782 [==============================] - 81s 104ms/step - loss: 0.3897 - accuracy: 0.8262 - val_loss: 0.4018 - val_accuracy: 0.8167\n",
            "Epoch 4/5\n",
            "782/782 [==============================] - 81s 104ms/step - loss: 0.3774 - accuracy: 0.8319 - val_loss: 0.3874 - val_accuracy: 0.8219\n",
            "Epoch 5/5\n",
            "782/782 [==============================] - 85s 109ms/step - loss: 0.3640 - accuracy: 0.8402 - val_loss: 0.3855 - val_accuracy: 0.8191\n",
            "782/782 [==============================] - 20s 26ms/step - loss: 0.3855 - accuracy: 0.8191\n",
            "Test score: 0.3855207860469818\n",
            "Test accuracy: 0.8190799951553345\n"
          ],
          "name": "stdout"
        }
      ]
    },
    {
      "cell_type": "markdown",
      "metadata": {
        "id": "kFur07amrA4Z"
      },
      "source": [
        "### Write your findings about number of nodes here?\r\n",
        "\r\n",
        "1.   Finding 1\r\n",
        "2.   Finding 2\r\n",
        "\r\n",
        "\r\n",
        "\r\n",
        "\r\n",
        "```\r\n",
        "LSTM with 8 nodes\r\n",
        "loss: 0.3701 - accuracy: 0.8337 - val_loss: 0.3869 - val_accuracy: 0.8228\r\n",
        "Test score: 0.38689520955085754\r\n",
        "Test accuracy: 0.8228399753570557\r\n",
        "\r\n",
        "\r\n",
        "LSTM with 16 nodes\r\n",
        "loss: 0.3724 - accuracy: 0.8332 - val_loss: 0.3929 - val_accuracy: 0.8189\r\n",
        "Test score: 0.39285382628440857\r\n",
        "Test accuracy: 0.8189200162887573\r\n",
        "\r\n",
        "\r\n",
        "LSTM with 32 nodes\r\n",
        "loss: 0.3740 - accuracy: 0.8330 - val_loss: 0.3910 - val_accuracy: 0.8220\r\n",
        "Test score: 0.3910311460494995\r\n",
        "Test accuracy: 0.8220000267028809\r\n",
        "\r\n",
        "\r\n",
        "LSTM with 64 nodes\r\n",
        "loss: 0.3754 - accuracy: 0.8297 - val_loss: 0.3859 - val_accuracy: 0.8209\r\n",
        "Test score: 0.3859326243400574\r\n",
        "Test accuracy: 0.8208799958229065\r\n",
        "\r\n",
        "\r\n",
        "LSTM with 128 nodes\r\n",
        "loss: 0.3640 - accuracy: 0.8402 - val_loss: 0.3855 - val_accuracy: 0.8191\r\n",
        "Test score: 0.3855207860469818\r\n",
        "Test accuracy: 0.8190799951553345\r\n",
        "\r\n",
        "```\r\n",
        "\r\n"
      ]
    },
    {
      "cell_type": "markdown",
      "metadata": {
        "id": "CB8nJBhFibBd"
      },
      "source": [
        "## Part 2: Influence of Embedding\r\n",
        "\r\n",
        "[here](https://keras.io/api/layers/core_layers/embedding/)\r\n"
      ]
    },
    {
      "cell_type": "code",
      "metadata": {
        "trusted": true,
        "id": "rRHQ89RiibBf",
        "colab": {
          "base_uri": "https://localhost:8080/"
        },
        "outputId": "78746c12-f303-40dc-f150-89a8be59e3d8"
      },
      "source": [
        "model = Sequential()\n",
        "model.add(Embedding(max_features, 4))\n",
        "model.add(LSTM(16, dropout=0.0, recurrent_dropout=0.0))\n",
        "model.add(Dense(1, activation='sigmoid'))\n",
        "model.summary()\n",
        "\n",
        "model.compile(loss='binary_crossentropy', optimizer='adam', metrics=['accuracy'])\n",
        "model.fit(x_train, y_train, batch_size=batch_size, epochs=5, validation_data=(x_test, y_test))\n",
        "\n",
        "score, acc = model.evaluate(x_test, y_test, batch_size=batch_size)\n",
        "print('Test score:', score)\n",
        "print('Test accuracy:', acc)"
      ],
      "execution_count": 22,
      "outputs": [
        {
          "output_type": "stream",
          "text": [
            "Model: \"sequential_13\"\n",
            "_________________________________________________________________\n",
            "Layer (type)                 Output Shape              Param #   \n",
            "=================================================================\n",
            "embedding_13 (Embedding)     (None, None, 4)           4000      \n",
            "_________________________________________________________________\n",
            "lstm_18 (LSTM)               (None, 16)                1344      \n",
            "_________________________________________________________________\n",
            "dense_13 (Dense)             (None, 1)                 17        \n",
            "=================================================================\n",
            "Total params: 5,361\n",
            "Trainable params: 5,361\n",
            "Non-trainable params: 0\n",
            "_________________________________________________________________\n",
            "Epoch 1/5\n",
            "782/782 [==============================] - 29s 35ms/step - loss: 0.6004 - accuracy: 0.6392 - val_loss: 0.4126 - val_accuracy: 0.8093\n",
            "Epoch 2/5\n",
            "782/782 [==============================] - 27s 34ms/step - loss: 0.4081 - accuracy: 0.8163 - val_loss: 0.3999 - val_accuracy: 0.8186\n",
            "Epoch 3/5\n",
            "782/782 [==============================] - 27s 34ms/step - loss: 0.3897 - accuracy: 0.8263 - val_loss: 0.3921 - val_accuracy: 0.8216\n",
            "Epoch 4/5\n",
            "782/782 [==============================] - 27s 35ms/step - loss: 0.3881 - accuracy: 0.8286 - val_loss: 0.4021 - val_accuracy: 0.8113\n",
            "Epoch 5/5\n",
            "782/782 [==============================] - 26s 34ms/step - loss: 0.3820 - accuracy: 0.8277 - val_loss: 0.3973 - val_accuracy: 0.8196\n",
            "782/782 [==============================] - 4s 5ms/step - loss: 0.3973 - accuracy: 0.8196\n",
            "Test score: 0.39734503626823425\n",
            "Test accuracy: 0.8196399807929993\n"
          ],
          "name": "stdout"
        }
      ]
    },
    {
      "cell_type": "code",
      "metadata": {
        "id": "LI5WWTvbr6vV"
      },
      "source": [
        "# Write your code here. Use the same architecture as above. \r\n",
        "\r\n",
        "model = Sequential()\r\n",
        "model.add(Embedding(max_features, 16))\r\n",
        "model.add(LSTM(16, dropout=0.0, recurrent_dropout=0.0))\r\n",
        "model.add(Dense(1, activation='sigmoid'))\r\n",
        "model.summary()\r\n",
        "\r\n",
        "model.compile(loss='binary_crossentropy', optimizer='adam', metrics=['accuracy'])\r\n",
        "model.fit(x_train, y_train, batch_size=batch_size, epochs=5, validation_data=(x_test, y_test))\r\n",
        "\r\n",
        "score, acc = model.evaluate(x_test, y_test, batch_size=batch_size)\r\n",
        "print('Test score:', score)\r\n",
        "print('Test accuracy:', acc)"
      ],
      "execution_count": 12,
      "outputs": []
    },
    {
      "cell_type": "code",
      "metadata": {
        "id": "UVnNJ6Q7r8OD"
      },
      "source": [
        "# Write your code here. Use the same architecture as above. \r\n",
        "\r\n",
        "model = Sequential()\r\n",
        "model.add(Embedding(max_features, 32))\r\n",
        "model.add(LSTM(16, dropout=0.0, recurrent_dropout=0.0))\r\n",
        "model.add(Dense(1, activation='sigmoid'))\r\n",
        "model.summary()\r\n",
        "\r\n",
        "model.compile(loss='binary_crossentropy', optimizer='adam', metrics=['accuracy'])\r\n",
        "model.fit(x_train, y_train, batch_size=batch_size, epochs=5, validation_data=(x_test, y_test))\r\n",
        "\r\n",
        "score, acc = model.evaluate(x_test, y_test, batch_size=batch_size)\r\n",
        "print('Test score:', score)\r\n",
        "print('Test accuracy:', acc)"
      ],
      "execution_count": 13,
      "outputs": []
    },
    {
      "cell_type": "markdown",
      "metadata": {
        "id": "bMqv2Kf1r3VP"
      },
      "source": [
        "### Write your findings about number of embedding features here?\r\n",
        "\r\n",
        "1.   Finding 1\r\n",
        "2.   Finding 2\r\n"
      ]
    },
    {
      "cell_type": "markdown",
      "metadata": {
        "id": "5ENmvb0BibBi"
      },
      "source": [
        "## Part 3: Influence of Dropout\r\n",
        "\r\n",
        "Try the models with different rates of dropout from 0 to 1\r\n",
        "\r\n",
        "Analyze the number of model parameters, accuracy and training time"
      ]
    },
    {
      "cell_type": "markdown",
      "metadata": {
        "id": "HXpsYJzNibBj"
      },
      "source": [
        "### Dropout with rate 0.4"
      ]
    },
    {
      "cell_type": "code",
      "metadata": {
        "trusted": true,
        "id": "pBQ4317BibBk",
        "colab": {
          "base_uri": "https://localhost:8080/"
        },
        "outputId": "31bd24fe-4b4f-4bd9-a22d-64edb6535bbb"
      },
      "source": [
        "model = Sequential()\n",
        "model.add(Embedding(max_features, 32))\n",
        "model.add(LSTM(8, dropout=0.4, recurrent_dropout=0.5))\n",
        "model.add(Dense(1, activation='sigmoid'))\n",
        "model.summary()\n",
        "\n",
        "model.compile(loss='binary_crossentropy', optimizer='adam', metrics=['accuracy'])\n",
        "model.fit(x_train, y_train, batch_size=batch_size, epochs=5, validation_data=(x_test, y_test))\n",
        "\n",
        "score, acc = model.evaluate(x_test, y_test, batch_size=batch_size)\n",
        "print('Test score:', score)\n",
        "print('Test accuracy:', acc)"
      ],
      "execution_count": 23,
      "outputs": [
        {
          "output_type": "stream",
          "text": [
            "Model: \"sequential_14\"\n",
            "_________________________________________________________________\n",
            "Layer (type)                 Output Shape              Param #   \n",
            "=================================================================\n",
            "embedding_14 (Embedding)     (None, None, 32)          32000     \n",
            "_________________________________________________________________\n",
            "lstm_19 (LSTM)               (None, 8)                 1312      \n",
            "_________________________________________________________________\n",
            "dense_14 (Dense)             (None, 1)                 9         \n",
            "=================================================================\n",
            "Total params: 33,321\n",
            "Trainable params: 33,321\n",
            "Non-trainable params: 0\n",
            "_________________________________________________________________\n",
            "Epoch 1/5\n",
            "782/782 [==============================] - 61s 74ms/step - loss: 0.5974 - accuracy: 0.6678 - val_loss: 0.4242 - val_accuracy: 0.8086\n",
            "Epoch 2/5\n",
            "782/782 [==============================] - 58s 74ms/step - loss: 0.4294 - accuracy: 0.8048 - val_loss: 0.3964 - val_accuracy: 0.8167\n",
            "Epoch 3/5\n",
            "782/782 [==============================] - 59s 76ms/step - loss: 0.4111 - accuracy: 0.8176 - val_loss: 0.3992 - val_accuracy: 0.8177\n",
            "Epoch 4/5\n",
            "782/782 [==============================] - 60s 77ms/step - loss: 0.3966 - accuracy: 0.8170 - val_loss: 0.3892 - val_accuracy: 0.8210\n",
            "Epoch 5/5\n",
            "782/782 [==============================] - 60s 77ms/step - loss: 0.3825 - accuracy: 0.8280 - val_loss: 0.3994 - val_accuracy: 0.8238\n",
            "782/782 [==============================] - 7s 9ms/step - loss: 0.3994 - accuracy: 0.8238\n",
            "Test score: 0.399381160736084\n",
            "Test accuracy: 0.8238400220870972\n"
          ],
          "name": "stdout"
        }
      ]
    },
    {
      "cell_type": "markdown",
      "metadata": {
        "id": "OwU8g3QiXzAl"
      },
      "source": [
        "### Dropout with rate 0.5"
      ]
    },
    {
      "cell_type": "code",
      "metadata": {
        "trusted": true,
        "id": "rEHxPCN7ibBo",
        "colab": {
          "base_uri": "https://localhost:8080/"
        },
        "outputId": "a2d80d35-b9e0-48d7-c7cd-e629a99c989d"
      },
      "source": [
        "# Write your code here. Use the same architecture as above. \n",
        "\n",
        "model = Sequential()\n",
        "model.add(Embedding(max_features, 32))\n",
        "model.add(LSTM(8, dropout=0.5, recurrent_dropout=0.5))\n",
        "model.add(Dense(1, activation='sigmoid'))\n",
        "model.summary()\n",
        "\n",
        "model.compile(loss='binary_crossentropy', optimizer='adam', metrics=['accuracy'])\n",
        "model.fit(x_train, y_train, batch_size=batch_size, epochs=5, validation_data=(x_test, y_test))\n",
        "\n",
        "score, acc = model.evaluate(x_test, y_test, batch_size=batch_size)\n",
        "print('Test score:', score)\n",
        "print('Test accuracy:', acc)"
      ],
      "execution_count": 24,
      "outputs": [
        {
          "output_type": "stream",
          "text": [
            "Model: \"sequential_15\"\n",
            "_________________________________________________________________\n",
            "Layer (type)                 Output Shape              Param #   \n",
            "=================================================================\n",
            "embedding_15 (Embedding)     (None, None, 32)          32000     \n",
            "_________________________________________________________________\n",
            "lstm_20 (LSTM)               (None, 8)                 1312      \n",
            "_________________________________________________________________\n",
            "dense_15 (Dense)             (None, 1)                 9         \n",
            "=================================================================\n",
            "Total params: 33,321\n",
            "Trainable params: 33,321\n",
            "Non-trainable params: 0\n",
            "_________________________________________________________________\n",
            "Epoch 1/5\n",
            "782/782 [==============================] - 62s 75ms/step - loss: 0.6208 - accuracy: 0.6478 - val_loss: 0.4435 - val_accuracy: 0.7991\n",
            "Epoch 2/5\n",
            "782/782 [==============================] - 58s 74ms/step - loss: 0.4440 - accuracy: 0.7956 - val_loss: 0.4270 - val_accuracy: 0.8108\n",
            "Epoch 3/5\n",
            "782/782 [==============================] - 58s 74ms/step - loss: 0.4111 - accuracy: 0.8128 - val_loss: 0.3927 - val_accuracy: 0.8195\n",
            "Epoch 4/5\n",
            "782/782 [==============================] - 57s 73ms/step - loss: 0.3994 - accuracy: 0.8180 - val_loss: 0.4253 - val_accuracy: 0.8140\n",
            "Epoch 5/5\n",
            "782/782 [==============================] - 57s 73ms/step - loss: 0.3889 - accuracy: 0.8246 - val_loss: 0.3931 - val_accuracy: 0.8173\n",
            "782/782 [==============================] - 7s 9ms/step - loss: 0.3931 - accuracy: 0.8173\n",
            "Test score: 0.39307069778442383\n",
            "Test accuracy: 0.8172799944877625\n"
          ],
          "name": "stdout"
        }
      ]
    },
    {
      "cell_type": "markdown",
      "metadata": {
        "id": "zwpWcs4sX1NM"
      },
      "source": [
        "### Dropout with rate 0.7"
      ]
    },
    {
      "cell_type": "code",
      "metadata": {
        "id": "--A0IdGbsAa-",
        "colab": {
          "base_uri": "https://localhost:8080/"
        },
        "outputId": "dd0a1689-c528-498f-9169-2647451a8fab"
      },
      "source": [
        "# Write your code here. Use the same architecture as above. \r\n",
        "model = Sequential()\r\n",
        "model.add(Embedding(max_features, 32))\r\n",
        "model.add(LSTM(8, dropout=0.7, recurrent_dropout=0.5))\r\n",
        "model.add(Dense(1, activation='sigmoid'))\r\n",
        "model.summary()\r\n",
        "\r\n",
        "model.compile(loss='binary_crossentropy', optimizer='adam', metrics=['accuracy'])\r\n",
        "model.fit(x_train, y_train, batch_size=batch_size, epochs=5, validation_data=(x_test, y_test))\r\n",
        "\r\n",
        "score, acc = model.evaluate(x_test, y_test, batch_size=batch_size)\r\n",
        "print('Test score:', score)\r\n",
        "print('Test accuracy:', acc)\r\n"
      ],
      "execution_count": 25,
      "outputs": [
        {
          "output_type": "stream",
          "text": [
            "Model: \"sequential_16\"\n",
            "_________________________________________________________________\n",
            "Layer (type)                 Output Shape              Param #   \n",
            "=================================================================\n",
            "embedding_16 (Embedding)     (None, None, 32)          32000     \n",
            "_________________________________________________________________\n",
            "lstm_21 (LSTM)               (None, 8)                 1312      \n",
            "_________________________________________________________________\n",
            "dense_16 (Dense)             (None, 1)                 9         \n",
            "=================================================================\n",
            "Total params: 33,321\n",
            "Trainable params: 33,321\n",
            "Non-trainable params: 0\n",
            "_________________________________________________________________\n",
            "Epoch 1/5\n",
            "782/782 [==============================] - 62s 75ms/step - loss: 0.6181 - accuracy: 0.6420 - val_loss: 0.4303 - val_accuracy: 0.8059\n",
            "Epoch 2/5\n",
            "782/782 [==============================] - 58s 74ms/step - loss: 0.4516 - accuracy: 0.7892 - val_loss: 0.4036 - val_accuracy: 0.8106\n",
            "Epoch 3/5\n",
            "782/782 [==============================] - 57s 73ms/step - loss: 0.4337 - accuracy: 0.7985 - val_loss: 0.4307 - val_accuracy: 0.8091\n",
            "Epoch 4/5\n",
            "782/782 [==============================] - 57s 73ms/step - loss: 0.4240 - accuracy: 0.8040 - val_loss: 0.4026 - val_accuracy: 0.8196\n",
            "Epoch 5/5\n",
            "782/782 [==============================] - 58s 74ms/step - loss: 0.4092 - accuracy: 0.8164 - val_loss: 0.3962 - val_accuracy: 0.8185\n",
            "782/782 [==============================] - 7s 9ms/step - loss: 0.3962 - accuracy: 0.8185\n",
            "Test score: 0.39616283774375916\n",
            "Test accuracy: 0.8184800148010254\n"
          ],
          "name": "stdout"
        }
      ]
    },
    {
      "cell_type": "markdown",
      "metadata": {
        "id": "bK0QJhngsH_t"
      },
      "source": [
        "### Write your findings about influence of dropout rate here?\r\n",
        "\r\n",
        "1.   Finding 1\r\n",
        "2.   Finding 2\r\n",
        "\r\n",
        "\r\n",
        "\r\n",
        "```\r\n",
        "Dropout with rate 0.4\r\n",
        "Test score: 0.399381160736084\r\n",
        "Test accuracy: 0.8238400220870972\r\n",
        "\r\n",
        "Dropout with rate 0.5\r\n",
        "Test score: 0.39307069778442383\r\n",
        "Test accuracy: 0.8172799944877625\r\n",
        "\r\n",
        "Dropout with rate 0.7\r\n",
        "Test score: 0.39616283774375916\r\n",
        "Test accuracy: 0.8184800148010254\r\n",
        "\r\n",
        "```\r\n",
        "\r\n",
        "\r\n"
      ]
    },
    {
      "cell_type": "markdown",
      "metadata": {
        "id": "VZu33HjEibBq"
      },
      "source": [
        "## Part 4: Multilayered RNNs\r\n",
        "\r\n",
        "Try the models with different number of layers from smaller to larger.\r\n",
        "\r\n",
        "Analyze the number of model parameters, accuracy and training time"
      ]
    },
    {
      "cell_type": "markdown",
      "metadata": {
        "id": "T26reJlTibBq"
      },
      "source": [
        "### RNN with 2 layer LSTM"
      ]
    },
    {
      "cell_type": "code",
      "metadata": {
        "trusted": true,
        "id": "LScH30z1ibBr",
        "colab": {
          "base_uri": "https://localhost:8080/"
        },
        "outputId": "60184873-9d3b-4d9e-ff4e-b081ee20e853"
      },
      "source": [
        "model = Sequential()\n",
        "model.add(Embedding(max_features, 8))\n",
        "model.add(LSTM(8, dropout=0.0, recurrent_dropout=0.0, return_sequences=True))\n",
        "model.add(LSTM(8, dropout=0.0, recurrent_dropout=0.0, return_sequences=True))\n",
        "model.add(LSTM(8, dropout=0.0, recurrent_dropout=0.0))\n",
        "model.add(Dense(1, activation='sigmoid'))\n",
        "model.summary()\n",
        "\n",
        "model.compile(loss='binary_crossentropy', optimizer='adam', metrics=['accuracy'])\n",
        "model.fit(x_train, y_train, batch_size=batch_size, epochs=5, validation_data=(x_test, y_test))\n",
        "\n",
        "score, acc = model.evaluate(x_test, y_test, batch_size=batch_size)\n",
        "print('Test score:', score)\n",
        "print('Test accuracy:', acc)"
      ],
      "execution_count": 26,
      "outputs": [
        {
          "output_type": "stream",
          "text": [
            "Model: \"sequential_17\"\n",
            "_________________________________________________________________\n",
            "Layer (type)                 Output Shape              Param #   \n",
            "=================================================================\n",
            "embedding_17 (Embedding)     (None, None, 8)           8000      \n",
            "_________________________________________________________________\n",
            "lstm_22 (LSTM)               (None, None, 8)           544       \n",
            "_________________________________________________________________\n",
            "lstm_23 (LSTM)               (None, None, 8)           544       \n",
            "_________________________________________________________________\n",
            "lstm_24 (LSTM)               (None, 8)                 544       \n",
            "_________________________________________________________________\n",
            "dense_17 (Dense)             (None, 1)                 9         \n",
            "=================================================================\n",
            "Total params: 9,641\n",
            "Trainable params: 9,641\n",
            "Non-trainable params: 0\n",
            "_________________________________________________________________\n",
            "Epoch 1/5\n",
            "782/782 [==============================] - 79s 95ms/step - loss: 0.5858 - accuracy: 0.6630 - val_loss: 0.4217 - val_accuracy: 0.8092\n",
            "Epoch 2/5\n",
            "782/782 [==============================] - 76s 97ms/step - loss: 0.4143 - accuracy: 0.8148 - val_loss: 0.4020 - val_accuracy: 0.8154\n",
            "Epoch 3/5\n",
            "782/782 [==============================] - 76s 98ms/step - loss: 0.3941 - accuracy: 0.8222 - val_loss: 0.4103 - val_accuracy: 0.8101\n",
            "Epoch 4/5\n",
            "782/782 [==============================] - 77s 98ms/step - loss: 0.3929 - accuracy: 0.8244 - val_loss: 0.4080 - val_accuracy: 0.8175\n",
            "Epoch 5/5\n",
            "782/782 [==============================] - 77s 98ms/step - loss: 0.3759 - accuracy: 0.8314 - val_loss: 0.3961 - val_accuracy: 0.8185\n",
            "782/782 [==============================] - 10s 12ms/step - loss: 0.3961 - accuracy: 0.8185\n",
            "Test score: 0.3961097002029419\n",
            "Test accuracy: 0.8184800148010254\n"
          ],
          "name": "stdout"
        }
      ]
    },
    {
      "cell_type": "markdown",
      "metadata": {
        "id": "9dcVD_Q-ibBt"
      },
      "source": [
        "### RNN with 3 layer LSTM"
      ]
    },
    {
      "cell_type": "code",
      "metadata": {
        "trusted": true,
        "id": "27GyLcMTibBv",
        "colab": {
          "base_uri": "https://localhost:8080/"
        },
        "outputId": "dcae26e4-e465-45b6-94c1-298825b4f1f8"
      },
      "source": [
        "# Write your code here. Use the same architecture as above. \n",
        "\n",
        "model = Sequential()\n",
        "model.add(Embedding(max_features, 8))\n",
        "model.add(LSTM(8, dropout=0.0, recurrent_dropout=0.0, return_sequences=True))\n",
        "model.add(LSTM(8, dropout=0.0, recurrent_dropout=0.0, return_sequences=True))\n",
        "model.add(LSTM(8, dropout=0.0, recurrent_dropout=0.0, return_sequences=True))\n",
        "model.add(LSTM(8, dropout=0.0, recurrent_dropout=0.0))\n",
        "model.add(Dense(1, activation='sigmoid'))\n",
        "model.summary()\n",
        "\n",
        "model.compile(loss='binary_crossentropy', optimizer='adam', metrics=['accuracy'])\n",
        "model.fit(x_train, y_train, batch_size=batch_size, epochs=5, validation_data=(x_test, y_test))\n",
        "\n",
        "score, acc = model.evaluate(x_test, y_test, batch_size=batch_size)\n",
        "print('Test score:', score)\n",
        "print('Test accuracy:', acc)"
      ],
      "execution_count": 27,
      "outputs": [
        {
          "output_type": "stream",
          "text": [
            "Model: \"sequential_18\"\n",
            "_________________________________________________________________\n",
            "Layer (type)                 Output Shape              Param #   \n",
            "=================================================================\n",
            "embedding_18 (Embedding)     (None, None, 8)           8000      \n",
            "_________________________________________________________________\n",
            "lstm_25 (LSTM)               (None, None, 8)           544       \n",
            "_________________________________________________________________\n",
            "lstm_26 (LSTM)               (None, None, 8)           544       \n",
            "_________________________________________________________________\n",
            "lstm_27 (LSTM)               (None, None, 8)           544       \n",
            "_________________________________________________________________\n",
            "lstm_28 (LSTM)               (None, 8)                 544       \n",
            "_________________________________________________________________\n",
            "dense_18 (Dense)             (None, 1)                 9         \n",
            "=================================================================\n",
            "Total params: 10,185\n",
            "Trainable params: 10,185\n",
            "Non-trainable params: 0\n",
            "_________________________________________________________________\n",
            "Epoch 1/5\n",
            "782/782 [==============================] - 105s 126ms/step - loss: 0.5868 - accuracy: 0.6581 - val_loss: 0.4272 - val_accuracy: 0.8049\n",
            "Epoch 2/5\n",
            "782/782 [==============================] - 98s 126ms/step - loss: 0.4132 - accuracy: 0.8147 - val_loss: 0.4082 - val_accuracy: 0.8121\n",
            "Epoch 3/5\n",
            "782/782 [==============================] - 101s 129ms/step - loss: 0.4021 - accuracy: 0.8200 - val_loss: 0.4011 - val_accuracy: 0.8179\n",
            "Epoch 4/5\n",
            "782/782 [==============================] - 103s 132ms/step - loss: 0.3885 - accuracy: 0.8261 - val_loss: 0.3996 - val_accuracy: 0.8166\n",
            "Epoch 5/5\n",
            "782/782 [==============================] - 102s 131ms/step - loss: 0.3802 - accuracy: 0.8309 - val_loss: 0.3919 - val_accuracy: 0.8216\n",
            "782/782 [==============================] - 13s 16ms/step - loss: 0.3919 - accuracy: 0.8216\n",
            "Test score: 0.3919239342212677\n",
            "Test accuracy: 0.8216000199317932\n"
          ],
          "name": "stdout"
        }
      ]
    },
    {
      "cell_type": "code",
      "metadata": {
        "colab": {
          "base_uri": "https://localhost:8080/"
        },
        "id": "69t0M456d59R",
        "outputId": "6f2612c8-2c7a-4828-9fdd-1c38c9a26aab"
      },
      "source": [
        "# Write your code here. Use the same architecture as above. \n",
        "\n",
        "model = Sequential()\n",
        "model.add(Embedding(max_features, 8))\n",
        "model.add(LSTM(8, dropout=0.0, recurrent_dropout=0.0, return_sequences=True))\n",
        "model.add(LSTM(8, dropout=0.0, recurrent_dropout=0.0, return_sequences=True))\n",
        "model.add(LSTM(8, dropout=0.0, recurrent_dropout=0.0, return_sequences=True))\n",
        "model.add(LSTM(8, dropout=0.0, recurrent_dropout=0.0, return_sequences=True))\n",
        "model.add(LSTM(8, dropout=0.0, recurrent_dropout=0.0, return_sequences=True))\n",
        "model.add(LSTM(8, dropout=0.0, recurrent_dropout=0.0, return_sequences=True))\n",
        "model.add(LSTM(8, dropout=0.0, recurrent_dropout=0.0, return_sequences=True))\n",
        "model.add(LSTM(8, dropout=0.0, recurrent_dropout=0.0))\n",
        "model.add(Dense(1, activation='sigmoid'))\n",
        "model.summary()\n",
        "\n",
        "model.compile(loss='binary_crossentropy', optimizer='adam', metrics=['accuracy'])\n",
        "model.fit(x_train, y_train, batch_size=batch_size, epochs=5, validation_data=(x_test, y_test))\n",
        "\n",
        "score, acc = model.evaluate(x_test, y_test, batch_size=batch_size)\n",
        "print('Test score:', score)\n",
        "print('Test accuracy:', acc)"
      ],
      "execution_count": 28,
      "outputs": [
        {
          "output_type": "stream",
          "text": [
            "Model: \"sequential_19\"\n",
            "_________________________________________________________________\n",
            "Layer (type)                 Output Shape              Param #   \n",
            "=================================================================\n",
            "embedding_19 (Embedding)     (None, None, 8)           8000      \n",
            "_________________________________________________________________\n",
            "lstm_29 (LSTM)               (None, None, 8)           544       \n",
            "_________________________________________________________________\n",
            "lstm_30 (LSTM)               (None, None, 8)           544       \n",
            "_________________________________________________________________\n",
            "lstm_31 (LSTM)               (None, None, 8)           544       \n",
            "_________________________________________________________________\n",
            "lstm_32 (LSTM)               (None, None, 8)           544       \n",
            "_________________________________________________________________\n",
            "lstm_33 (LSTM)               (None, None, 8)           544       \n",
            "_________________________________________________________________\n",
            "lstm_34 (LSTM)               (None, None, 8)           544       \n",
            "_________________________________________________________________\n",
            "lstm_35 (LSTM)               (None, None, 8)           544       \n",
            "_________________________________________________________________\n",
            "lstm_36 (LSTM)               (None, 8)                 544       \n",
            "_________________________________________________________________\n",
            "dense_19 (Dense)             (None, 1)                 9         \n",
            "=================================================================\n",
            "Total params: 12,361\n",
            "Trainable params: 12,361\n",
            "Non-trainable params: 0\n",
            "_________________________________________________________________\n",
            "Epoch 1/5\n",
            "782/782 [==============================] - 205s 245ms/step - loss: 0.6353 - accuracy: 0.6014 - val_loss: 0.4609 - val_accuracy: 0.7854\n",
            "Epoch 2/5\n",
            "782/782 [==============================] - 190s 243ms/step - loss: 0.4548 - accuracy: 0.7901 - val_loss: 0.4557 - val_accuracy: 0.7895\n",
            "Epoch 3/5\n",
            "782/782 [==============================] - 191s 244ms/step - loss: 0.4169 - accuracy: 0.8140 - val_loss: 0.4297 - val_accuracy: 0.8020\n",
            "Epoch 4/5\n",
            "782/782 [==============================] - 192s 246ms/step - loss: 0.4027 - accuracy: 0.8209 - val_loss: 0.4103 - val_accuracy: 0.8111\n",
            "Epoch 5/5\n",
            "782/782 [==============================] - 195s 249ms/step - loss: 0.3841 - accuracy: 0.8310 - val_loss: 0.4006 - val_accuracy: 0.8150\n",
            "782/782 [==============================] - 24s 31ms/step - loss: 0.4006 - accuracy: 0.8150\n",
            "Test score: 0.4006102979183197\n",
            "Test accuracy: 0.8149600028991699\n"
          ],
          "name": "stdout"
        }
      ]
    },
    {
      "cell_type": "markdown",
      "metadata": {
        "id": "gjD_fTTCibBx"
      },
      "source": [
        "### Write your findings about number of layers here?\r\n",
        "\r\n",
        "1.   Finding 1\r\n",
        "2.   Finding 2\r\n",
        "\r\n",
        "\r\n",
        "```\r\n",
        "RNN with 2 layer LSTM\r\n",
        "Total params: 9,641\r\n",
        "Test score: 0.3961097002029419\r\n",
        "Test accuracy: 0.8184800148010254\r\n",
        "\r\n",
        "RNN with 3 layer LSTM\r\n",
        "Total params: 10,185\r\n",
        "Test score: 0.3919239342212677\r\n",
        "Test accuracy: 0.8216000199317932\r\n",
        "\r\n",
        "RNN with 7 layer LSTM\r\n",
        "Total params: 12,361\r\n",
        "Test score: 0.4006102979183197\r\n",
        "Test accuracy: 0.8149600028991699\r\n",
        "\r\n",
        "```\r\n",
        "\r\n",
        "\r\n"
      ]
    },
    {
      "cell_type": "code",
      "metadata": {
        "id": "rIdsk9lGseo4"
      },
      "source": [
        ""
      ],
      "execution_count": 27,
      "outputs": []
    }
  ]
}