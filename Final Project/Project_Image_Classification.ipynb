{
  "nbformat": 4,
  "nbformat_minor": 0,
  "metadata": {
    "anaconda-cloud": {},
    "colab": {
      "name": "Project_Image_Classification.ipynb",
      "provenance": [],
      "collapsed_sections": []
    },
    "hide_input": false,
    "kernelspec": {
      "display_name": "Python 3",
      "language": "python",
      "name": "python3"
    },
    "language_info": {
      "codemirror_mode": {
        "name": "ipython",
        "version": 3
      },
      "file_extension": ".py",
      "mimetype": "text/x-python",
      "name": "python",
      "nbconvert_exporter": "python",
      "pygments_lexer": "ipython3",
      "version": "3.7.3"
    },
    "accelerator": "GPU"
  },
  "cells": [
    {
      "cell_type": "markdown",
      "metadata": {
        "id": "jNci3SsyOvpk"
      },
      "source": [
        "# Project - Image Classification"
      ]
    },
    {
      "cell_type": "markdown",
      "metadata": {
        "id": "7oGkFF4WOxAD"
      },
      "source": [
        "Hola !\n",
        "\n",
        "Objective of this project is to implement the following models for the CIFAR100 image classification dataset."
      ]
    },
    {
      "cell_type": "markdown",
      "metadata": {
        "id": "4u-hdsQCOjF8"
      },
      "source": [
        "### Importing packages "
      ]
    },
    {
      "cell_type": "code",
      "metadata": {
        "id": "KqKvuMOvPVgo"
      },
      "source": [
        "# Import neccessary packages here\n",
        "import warnings\n",
        "warnings.filterwarnings('ignore')\n",
        "\n",
        "import numpy as np\n",
        "import matplotlib.pyplot as plt\n",
        "import keras\n",
        "from keras.datasets import mnist\n",
        "from keras.models import Sequential,model_from_json\n",
        "from keras.layers import Dense\n",
        "from keras.optimizers import RMSprop\n",
        "import pylab as plt\n",
        "import tensorflow as tf\n",
        "from tensorflow.keras.datasets import cifar10\n",
        "from tensorflow.keras.models import Sequential\n",
        "from tensorflow.keras.layers import Dense, Flatten, Conv2D, MaxPooling2D\n",
        "from tensorflow.keras.losses import sparse_categorical_crossentropy\n",
        "from tensorflow.keras.optimizers import Adam\n",
        "import matplotlib.pyplot as plt\n",
        "import pickle\n",
        "import pandas as pd\n",
        "import numpy as np\n",
        "import matplotlib.pyplot as plt\n",
        "from pylab import rcParams\n",
        "%matplotlib inline\n",
        "import keras\n",
        "from keras.utils import to_categorical"
      ],
      "execution_count": 2,
      "outputs": []
    },
    {
      "cell_type": "markdown",
      "metadata": {
        "id": "T4DYSrBqPYGV"
      },
      "source": [
        "### Load data"
      ]
    },
    {
      "cell_type": "code",
      "metadata": {
        "colab": {
          "base_uri": "https://localhost:8080/"
        },
        "id": "aGSzkTjCvcGy",
        "outputId": "313f54ac-4438-4e77-ace9-a94b2381e564"
      },
      "source": [
        "from google.colab import drive\n",
        "drive.mount(\"/content/drive\")"
      ],
      "execution_count": 3,
      "outputs": [
        {
          "output_type": "stream",
          "text": [
            "Mounted at /content/drive\n"
          ],
          "name": "stdout"
        }
      ]
    },
    {
      "cell_type": "code",
      "metadata": {
        "colab": {
          "base_uri": "https://localhost:8080/"
        },
        "id": "RbVPCAaTvIz1",
        "outputId": "e3950803-e4eb-43a8-b333-29335bd2bd04"
      },
      "source": [
        "ls \"/content/drive/My Drive/GlobalAI/datasets/cifar-100-python/\""
      ],
      "execution_count": 4,
      "outputs": [
        {
          "output_type": "stream",
          "text": [
            "file.txt~  meta  test  train\n"
          ],
          "name": "stdout"
        }
      ]
    },
    {
      "cell_type": "code",
      "metadata": {
        "id": "qD4Z3kaqugOb"
      },
      "source": [
        "#function to read files present in the Python version of the dataset\n",
        "def unpickle(file):\n",
        "    with open(file, 'rb') as fo:\n",
        "        myDict = pickle.load(fo, encoding='latin1')\n",
        "    return myDict"
      ],
      "execution_count": 5,
      "outputs": []
    },
    {
      "cell_type": "code",
      "metadata": {
        "colab": {
          "base_uri": "https://localhost:8080/"
        },
        "id": "WpqPQ0IXwdmN",
        "outputId": "e944538c-07c3-4ea9-e3a3-b645f0dee512"
      },
      "source": [
        "tr= \"/content/drive/My Drive/GlobalAI/datasets/cifar-100-python/train\"\n",
        "trainData = unpickle(tr)#type of items in each file\n",
        "for item in trainData:\n",
        "    print(item, type(trainData[item]))"
      ],
      "execution_count": 6,
      "outputs": [
        {
          "output_type": "stream",
          "text": [
            "filenames <class 'list'>\n",
            "batch_label <class 'str'>\n",
            "fine_labels <class 'list'>\n",
            "coarse_labels <class 'list'>\n",
            "data <class 'numpy.ndarray'>\n"
          ],
          "name": "stdout"
        }
      ]
    },
    {
      "cell_type": "code",
      "metadata": {
        "colab": {
          "base_uri": "https://localhost:8080/"
        },
        "id": "oEy3-8tA0Mws",
        "outputId": "d0eeae86-7268-4de8-a391-9581b44ca8d8"
      },
      "source": [
        "print(len(trainData['data']))\n",
        "print(len(trainData['data'][0]))"
      ],
      "execution_count": 7,
      "outputs": [
        {
          "output_type": "stream",
          "text": [
            "50000\n",
            "3072\n"
          ],
          "name": "stdout"
        }
      ]
    },
    {
      "cell_type": "markdown",
      "metadata": {
        "id": "Lybk1fz20VX1"
      },
      "source": [
        "There are 100 different fine labels for the images ranging from 0 to 99."
      ]
    },
    {
      "cell_type": "code",
      "metadata": {
        "colab": {
          "base_uri": "https://localhost:8080/"
        },
        "id": "V3z3mOfv0QuH",
        "outputId": "43bb8104-56e7-4c30-a2ea-4677a90d155c"
      },
      "source": [
        "print(np.unique(trainData['fine_labels']))"
      ],
      "execution_count": 8,
      "outputs": [
        {
          "output_type": "stream",
          "text": [
            "[ 0  1  2  3  4  5  6  7  8  9 10 11 12 13 14 15 16 17 18 19 20 21 22 23\n",
            " 24 25 26 27 28 29 30 31 32 33 34 35 36 37 38 39 40 41 42 43 44 45 46 47\n",
            " 48 49 50 51 52 53 54 55 56 57 58 59 60 61 62 63 64 65 66 67 68 69 70 71\n",
            " 72 73 74 75 76 77 78 79 80 81 82 83 84 85 86 87 88 89 90 91 92 93 94 95\n",
            " 96 97 98 99]\n"
          ],
          "name": "stdout"
        }
      ]
    },
    {
      "cell_type": "code",
      "metadata": {
        "colab": {
          "base_uri": "https://localhost:8080/"
        },
        "id": "NTMEL_Vn0hdB",
        "outputId": "5ea75593-348b-4861-9abb-1379664e96d6"
      },
      "source": [
        "te=\"/content/drive/My Drive/GlobalAI/datasets/cifar-100-python/test\"\n",
        "me=\"/content/drive/My Drive/GlobalAI/datasets/cifar-100-python/meta\"\n",
        "\n",
        "testData = unpickle(te)\n",
        "metaData = unpickle(me)#metaData\n",
        "print(\"Fine labels:\", metaData['fine_label_names'], \"\\n\")\n",
        "print(\"Coarse labels:\", metaData['coarse_label_names'])"
      ],
      "execution_count": 9,
      "outputs": [
        {
          "output_type": "stream",
          "text": [
            "Fine labels: ['apple', 'aquarium_fish', 'baby', 'bear', 'beaver', 'bed', 'bee', 'beetle', 'bicycle', 'bottle', 'bowl', 'boy', 'bridge', 'bus', 'butterfly', 'camel', 'can', 'castle', 'caterpillar', 'cattle', 'chair', 'chimpanzee', 'clock', 'cloud', 'cockroach', 'couch', 'crab', 'crocodile', 'cup', 'dinosaur', 'dolphin', 'elephant', 'flatfish', 'forest', 'fox', 'girl', 'hamster', 'house', 'kangaroo', 'keyboard', 'lamp', 'lawn_mower', 'leopard', 'lion', 'lizard', 'lobster', 'man', 'maple_tree', 'motorcycle', 'mountain', 'mouse', 'mushroom', 'oak_tree', 'orange', 'orchid', 'otter', 'palm_tree', 'pear', 'pickup_truck', 'pine_tree', 'plain', 'plate', 'poppy', 'porcupine', 'possum', 'rabbit', 'raccoon', 'ray', 'road', 'rocket', 'rose', 'sea', 'seal', 'shark', 'shrew', 'skunk', 'skyscraper', 'snail', 'snake', 'spider', 'squirrel', 'streetcar', 'sunflower', 'sweet_pepper', 'table', 'tank', 'telephone', 'television', 'tiger', 'tractor', 'train', 'trout', 'tulip', 'turtle', 'wardrobe', 'whale', 'willow_tree', 'wolf', 'woman', 'worm'] \n",
            "\n",
            "Coarse labels: ['aquatic_mammals', 'fish', 'flowers', 'food_containers', 'fruit_and_vegetables', 'household_electrical_devices', 'household_furniture', 'insects', 'large_carnivores', 'large_man-made_outdoor_things', 'large_natural_outdoor_scenes', 'large_omnivores_and_herbivores', 'medium_mammals', 'non-insect_invertebrates', 'people', 'reptiles', 'small_mammals', 'trees', 'vehicles_1', 'vehicles_2']\n"
          ],
          "name": "stdout"
        }
      ]
    },
    {
      "cell_type": "code",
      "metadata": {
        "colab": {
          "base_uri": "https://localhost:8080/"
        },
        "id": "UX9cEBnd1Agj",
        "outputId": "b077c04d-3f59-4132-f60b-1096d2b217da"
      },
      "source": [
        "#storing coarse labels along with its number code in a dataframe\n",
        "\n",
        "category = pd.DataFrame(metaData['coarse_label_names'], columns=['SuperClass'])#storing fine labels along with its number code in a dataframe\n",
        "subCategory = pd.DataFrame(metaData['fine_label_names'], columns=['SubClass'])\n",
        "\n",
        "print(category)\n",
        "print(subCategory)"
      ],
      "execution_count": 10,
      "outputs": [
        {
          "output_type": "stream",
          "text": [
            "                        SuperClass\n",
            "0                  aquatic_mammals\n",
            "1                             fish\n",
            "2                          flowers\n",
            "3                  food_containers\n",
            "4             fruit_and_vegetables\n",
            "5     household_electrical_devices\n",
            "6              household_furniture\n",
            "7                          insects\n",
            "8                 large_carnivores\n",
            "9    large_man-made_outdoor_things\n",
            "10    large_natural_outdoor_scenes\n",
            "11  large_omnivores_and_herbivores\n",
            "12                  medium_mammals\n",
            "13        non-insect_invertebrates\n",
            "14                          people\n",
            "15                        reptiles\n",
            "16                   small_mammals\n",
            "17                           trees\n",
            "18                      vehicles_1\n",
            "19                      vehicles_2\n",
            "         SubClass\n",
            "0           apple\n",
            "1   aquarium_fish\n",
            "2            baby\n",
            "3            bear\n",
            "4          beaver\n",
            "..            ...\n",
            "95          whale\n",
            "96    willow_tree\n",
            "97           wolf\n",
            "98          woman\n",
            "99           worm\n",
            "\n",
            "[100 rows x 1 columns]\n"
          ],
          "name": "stdout"
        }
      ]
    },
    {
      "cell_type": "code",
      "metadata": {
        "colab": {
          "base_uri": "https://localhost:8080/"
        },
        "id": "rGfRcPt-1O37",
        "outputId": "cb08dc68-64f5-49e7-fc0a-f104579950d6"
      },
      "source": [
        "X_train = trainData['data']\n",
        "X_train"
      ],
      "execution_count": 11,
      "outputs": [
        {
          "output_type": "execute_result",
          "data": {
            "text/plain": [
              "array([[255, 255, 255, ...,  10,  59,  79],\n",
              "       [255, 253, 253, ..., 253, 253, 255],\n",
              "       [250, 248, 247, ..., 194, 207, 228],\n",
              "       ...,\n",
              "       [248, 240, 236, ..., 180, 174, 205],\n",
              "       [156, 151, 151, ..., 114, 107, 126],\n",
              "       [ 31,  30,  31, ...,  72,  69,  67]], dtype=uint8)"
            ]
          },
          "metadata": {
            "tags": []
          },
          "execution_count": 11
        }
      ]
    },
    {
      "cell_type": "code",
      "metadata": {
        "id": "s6YQMdKU1dQ3"
      },
      "source": [
        "#4D array input for building the CNN model using Keras\n",
        "X_train = X_train.reshape(len(X_train),3,32,32).transpose(0,2,3,1)\n",
        "#X_train"
      ],
      "execution_count": 12,
      "outputs": []
    },
    {
      "cell_type": "code",
      "metadata": {
        "id": "W7rQOCYJ1i9A"
      },
      "source": [
        "#transforming the testing dataset\n",
        "X_test = testData['data']\n",
        "X_test = X_test.reshape(len(X_test),3,32,32).transpose(0,2,3,1)\n",
        "\n",
        "y_train = trainData['fine_labels']\n",
        "y_test = testData['fine_labels']"
      ],
      "execution_count": 13,
      "outputs": []
    },
    {
      "cell_type": "code",
      "metadata": {
        "id": "j16qHxqQ1rL5"
      },
      "source": [
        "#number of classes in the dataset\n",
        "n_classes = 100\n",
        "\n",
        "y_train = to_categorical(y_train, n_classes)\n",
        "y_test = to_categorical(y_test, n_classes)"
      ],
      "execution_count": 14,
      "outputs": []
    },
    {
      "cell_type": "code",
      "metadata": {
        "colab": {
          "base_uri": "https://localhost:8080/"
        },
        "id": "LwJi6-8y3gt7",
        "outputId": "14f60e23-313e-4fea-b5ea-5d041b3b8d28"
      },
      "source": [
        "X_test.shape"
      ],
      "execution_count": 15,
      "outputs": [
        {
          "output_type": "execute_result",
          "data": {
            "text/plain": [
              "(10000, 32, 32, 3)"
            ]
          },
          "metadata": {
            "tags": []
          },
          "execution_count": 15
        }
      ]
    },
    {
      "cell_type": "code",
      "metadata": {
        "colab": {
          "base_uri": "https://localhost:8080/"
        },
        "id": "aFvT9H9v34yO",
        "outputId": "1ada6596-03ec-4d63-bb81-9e648b106edd"
      },
      "source": [
        "y_test.shape"
      ],
      "execution_count": 16,
      "outputs": [
        {
          "output_type": "execute_result",
          "data": {
            "text/plain": [
              "(10000, 100)"
            ]
          },
          "metadata": {
            "tags": []
          },
          "execution_count": 16
        }
      ]
    },
    {
      "cell_type": "markdown",
      "metadata": {
        "id": "oivf0DssOjGE"
      },
      "source": [
        "###  Training parameters"
      ]
    },
    {
      "cell_type": "code",
      "metadata": {
        "collapsed": true,
        "id": "X-sPYR9sOjGF"
      },
      "source": [
        "# Mention the training parameters such as epochs, learning rate, number of samples etc.\n",
        "# Model configuration\n",
        "batch_size = 50\n",
        "img_width, img_height, img_num_channels = 32, 32, 3\n",
        "loss_function = sparse_categorical_crossentropy\n",
        "no_classes = 100\n",
        "no_epochs = 100\n",
        "\n",
        "\n",
        "# Shape of the data = 32,32,3\n",
        "input_shape = (img_width, img_height, img_num_channels)"
      ],
      "execution_count": 17,
      "outputs": []
    },
    {
      "cell_type": "code",
      "metadata": {
        "id": "kZfGKqetgqMl"
      },
      "source": [
        ""
      ],
      "execution_count": 8,
      "outputs": []
    },
    {
      "cell_type": "markdown",
      "metadata": {
        "id": "V2Iopu5yZd09"
      },
      "source": [
        "## Training CNN for CIFAR100"
      ]
    },
    {
      "cell_type": "code",
      "metadata": {
        "id": "7Nab-y7IaI2f",
        "colab": {
          "base_uri": "https://localhost:8080/"
        },
        "outputId": "d6a49545-5330-43b9-b845-9c2310352660"
      },
      "source": [
        "# Design the model architecture here\n",
        "# Create the model\n",
        "model = Sequential()\n",
        "model.add(Conv2D(32, kernel_size=(3, 3), activation='relu', input_shape=input_shape))\n",
        "model.add(MaxPooling2D(pool_size=(2, 2)))\n",
        "model.add(Conv2D(64, kernel_size=(3, 3), activation='relu'))\n",
        "model.add(MaxPooling2D(pool_size=(2, 2)))\n",
        "model.add(Conv2D(128, kernel_size=(3, 3), activation='relu'))\n",
        "model.add(MaxPooling2D(pool_size=(2, 2)))\n",
        "model.add(Flatten())\n",
        "model.add(Dense(256, activation='relu'))\n",
        "model.add(Dense(128, activation='relu'))\n",
        "model.add(Dense(no_classes, activation='softmax'))\n",
        "\n",
        "model.summary()"
      ],
      "execution_count": 47,
      "outputs": [
        {
          "output_type": "stream",
          "text": [
            "Model: \"sequential_3\"\n",
            "_________________________________________________________________\n",
            "Layer (type)                 Output Shape              Param #   \n",
            "=================================================================\n",
            "conv2d_9 (Conv2D)            (None, 30, 30, 32)        896       \n",
            "_________________________________________________________________\n",
            "max_pooling2d_9 (MaxPooling2 (None, 15, 15, 32)        0         \n",
            "_________________________________________________________________\n",
            "conv2d_10 (Conv2D)           (None, 13, 13, 64)        18496     \n",
            "_________________________________________________________________\n",
            "max_pooling2d_10 (MaxPooling (None, 6, 6, 64)          0         \n",
            "_________________________________________________________________\n",
            "conv2d_11 (Conv2D)           (None, 4, 4, 128)         73856     \n",
            "_________________________________________________________________\n",
            "max_pooling2d_11 (MaxPooling (None, 2, 2, 128)         0         \n",
            "_________________________________________________________________\n",
            "flatten_3 (Flatten)          (None, 512)               0         \n",
            "_________________________________________________________________\n",
            "dense_9 (Dense)              (None, 256)               131328    \n",
            "_________________________________________________________________\n",
            "dense_10 (Dense)             (None, 128)               32896     \n",
            "_________________________________________________________________\n",
            "dense_11 (Dense)             (None, 100)               12900     \n",
            "=================================================================\n",
            "Total params: 270,372\n",
            "Trainable params: 270,372\n",
            "Non-trainable params: 0\n",
            "_________________________________________________________________\n"
          ],
          "name": "stdout"
        }
      ]
    },
    {
      "cell_type": "markdown",
      "metadata": {
        "id": "kYHgAO4Qbxdc"
      },
      "source": [
        "### Compile"
      ]
    },
    {
      "cell_type": "code",
      "metadata": {
        "id": "GypCNf5Obysn",
        "colab": {
          "base_uri": "https://localhost:8080/"
        },
        "outputId": "8c52b14c-d475-47ba-c5e3-b01df47576e3"
      },
      "source": [
        "# Compile the model architecture here\n",
        "# Compile the model\n",
        "model.compile(loss='categorical_crossentropy',\n",
        "              optimizer='adam',\n",
        "              metrics=['accuracy'])\n",
        "\n",
        "# Fit data to model\n",
        "history = model.fit(X_train, y_train,\n",
        "            batch_size=batch_size,\n",
        "            epochs=no_epochs,\n",
        "            verbose=1,\n",
        "            validation_data=(X_test, y_test))\n",
        "\n",
        "\n",
        "\n",
        "score, acc = model.evaluate(X_test, y_test, batch_size=batch_size)\n",
        "print('Test score:', score)\n",
        "print('Test accuracy:', acc)"
      ],
      "execution_count": 48,
      "outputs": [
        {
          "output_type": "stream",
          "text": [
            "Epoch 1/100\n",
            "1000/1000 [==============================] - 64s 64ms/step - loss: 4.4995 - accuracy: 0.0653 - val_loss: 3.4586 - val_accuracy: 0.1793\n",
            "Epoch 2/100\n",
            "1000/1000 [==============================] - 64s 64ms/step - loss: 3.3561 - accuracy: 0.1912 - val_loss: 3.1495 - val_accuracy: 0.2288\n",
            "Epoch 3/100\n",
            "1000/1000 [==============================] - 64s 64ms/step - loss: 3.0191 - accuracy: 0.2535 - val_loss: 3.0886 - val_accuracy: 0.2507\n",
            "Epoch 4/100\n",
            "1000/1000 [==============================] - 64s 64ms/step - loss: 2.7963 - accuracy: 0.2960 - val_loss: 2.9250 - val_accuracy: 0.2834\n",
            "Epoch 5/100\n",
            "1000/1000 [==============================] - 65s 65ms/step - loss: 2.6312 - accuracy: 0.3329 - val_loss: 2.8783 - val_accuracy: 0.2999\n",
            "Epoch 6/100\n",
            "1000/1000 [==============================] - 65s 65ms/step - loss: 2.4708 - accuracy: 0.3672 - val_loss: 2.8692 - val_accuracy: 0.3060\n",
            "Epoch 7/100\n",
            "1000/1000 [==============================] - 65s 65ms/step - loss: 2.3378 - accuracy: 0.3932 - val_loss: 2.9407 - val_accuracy: 0.3036\n",
            "Epoch 8/100\n",
            "1000/1000 [==============================] - 65s 65ms/step - loss: 2.2111 - accuracy: 0.4196 - val_loss: 2.8903 - val_accuracy: 0.3165\n",
            "Epoch 9/100\n",
            "1000/1000 [==============================] - 65s 65ms/step - loss: 2.1074 - accuracy: 0.4397 - val_loss: 2.9372 - val_accuracy: 0.3082\n",
            "Epoch 10/100\n",
            "1000/1000 [==============================] - 65s 65ms/step - loss: 2.0023 - accuracy: 0.4659 - val_loss: 2.9624 - val_accuracy: 0.3122\n",
            "Epoch 11/100\n",
            "1000/1000 [==============================] - 64s 64ms/step - loss: 1.8824 - accuracy: 0.4912 - val_loss: 3.0557 - val_accuracy: 0.3111\n",
            "Epoch 12/100\n",
            "1000/1000 [==============================] - 65s 65ms/step - loss: 1.8385 - accuracy: 0.4989 - val_loss: 3.0766 - val_accuracy: 0.3103\n",
            "Epoch 13/100\n",
            "1000/1000 [==============================] - 64s 64ms/step - loss: 1.7410 - accuracy: 0.5193 - val_loss: 3.1659 - val_accuracy: 0.3160\n",
            "Epoch 14/100\n",
            "1000/1000 [==============================] - 65s 65ms/step - loss: 1.6733 - accuracy: 0.5405 - val_loss: 3.3140 - val_accuracy: 0.3091\n",
            "Epoch 15/100\n",
            "1000/1000 [==============================] - 65s 65ms/step - loss: 1.5988 - accuracy: 0.5552 - val_loss: 3.2789 - val_accuracy: 0.3066\n",
            "Epoch 16/100\n",
            "1000/1000 [==============================] - 65s 65ms/step - loss: 1.5149 - accuracy: 0.5787 - val_loss: 3.4136 - val_accuracy: 0.3061\n",
            "Epoch 17/100\n",
            "1000/1000 [==============================] - 65s 65ms/step - loss: 1.5197 - accuracy: 0.5721 - val_loss: 3.4524 - val_accuracy: 0.3057\n",
            "Epoch 18/100\n",
            "1000/1000 [==============================] - 65s 65ms/step - loss: 1.4513 - accuracy: 0.5891 - val_loss: 3.6474 - val_accuracy: 0.2883\n",
            "Epoch 19/100\n",
            "1000/1000 [==============================] - 65s 65ms/step - loss: 1.4075 - accuracy: 0.6021 - val_loss: 3.6573 - val_accuracy: 0.2965\n",
            "Epoch 20/100\n",
            "1000/1000 [==============================] - 65s 65ms/step - loss: 1.3750 - accuracy: 0.6131 - val_loss: 3.7906 - val_accuracy: 0.3016\n",
            "Epoch 21/100\n",
            "1000/1000 [==============================] - 65s 65ms/step - loss: 1.3174 - accuracy: 0.6246 - val_loss: 3.8244 - val_accuracy: 0.2942\n",
            "Epoch 22/100\n",
            "1000/1000 [==============================] - 65s 65ms/step - loss: 1.2964 - accuracy: 0.6334 - val_loss: 3.9288 - val_accuracy: 0.2918\n",
            "Epoch 23/100\n",
            "1000/1000 [==============================] - 65s 65ms/step - loss: 1.2432 - accuracy: 0.6440 - val_loss: 3.9941 - val_accuracy: 0.2893\n",
            "Epoch 24/100\n",
            "1000/1000 [==============================] - 65s 65ms/step - loss: 1.2598 - accuracy: 0.6398 - val_loss: 3.9966 - val_accuracy: 0.2992\n",
            "Epoch 25/100\n",
            "1000/1000 [==============================] - 65s 65ms/step - loss: 1.2130 - accuracy: 0.6507 - val_loss: 4.2609 - val_accuracy: 0.2846\n",
            "Epoch 26/100\n",
            "1000/1000 [==============================] - 65s 65ms/step - loss: 1.1924 - accuracy: 0.6565 - val_loss: 4.2059 - val_accuracy: 0.2921\n",
            "Epoch 27/100\n",
            "1000/1000 [==============================] - 65s 65ms/step - loss: 1.1498 - accuracy: 0.6690 - val_loss: 4.2872 - val_accuracy: 0.2856\n",
            "Epoch 28/100\n",
            "1000/1000 [==============================] - 64s 64ms/step - loss: 1.1488 - accuracy: 0.6696 - val_loss: 4.3827 - val_accuracy: 0.2890\n",
            "Epoch 29/100\n",
            "1000/1000 [==============================] - 64s 64ms/step - loss: 1.1138 - accuracy: 0.6762 - val_loss: 4.4852 - val_accuracy: 0.2861\n",
            "Epoch 30/100\n",
            "1000/1000 [==============================] - 64s 64ms/step - loss: 1.0977 - accuracy: 0.6795 - val_loss: 4.5367 - val_accuracy: 0.2830\n",
            "Epoch 31/100\n",
            "1000/1000 [==============================] - 65s 65ms/step - loss: 1.0812 - accuracy: 0.6857 - val_loss: 4.6347 - val_accuracy: 0.2915\n",
            "Epoch 32/100\n",
            "1000/1000 [==============================] - 65s 65ms/step - loss: 1.0380 - accuracy: 0.6996 - val_loss: 4.7929 - val_accuracy: 0.2900\n",
            "Epoch 33/100\n",
            "1000/1000 [==============================] - 64s 64ms/step - loss: 1.0713 - accuracy: 0.6891 - val_loss: 4.9011 - val_accuracy: 0.2768\n",
            "Epoch 34/100\n",
            "1000/1000 [==============================] - 65s 65ms/step - loss: 1.0508 - accuracy: 0.6995 - val_loss: 4.9824 - val_accuracy: 0.2910\n",
            "Epoch 35/100\n",
            "1000/1000 [==============================] - 64s 64ms/step - loss: 1.0071 - accuracy: 0.7087 - val_loss: 4.9993 - val_accuracy: 0.2920\n",
            "Epoch 36/100\n",
            "1000/1000 [==============================] - 65s 65ms/step - loss: 0.9963 - accuracy: 0.7067 - val_loss: 5.0392 - val_accuracy: 0.2827\n",
            "Epoch 37/100\n",
            "1000/1000 [==============================] - 64s 64ms/step - loss: 1.0064 - accuracy: 0.7044 - val_loss: 5.0479 - val_accuracy: 0.2800\n",
            "Epoch 38/100\n",
            "1000/1000 [==============================] - 64s 64ms/step - loss: 0.9845 - accuracy: 0.7149 - val_loss: 5.0672 - val_accuracy: 0.2869\n",
            "Epoch 39/100\n",
            "1000/1000 [==============================] - 65s 65ms/step - loss: 0.9554 - accuracy: 0.7207 - val_loss: 5.2142 - val_accuracy: 0.2913\n",
            "Epoch 40/100\n",
            "1000/1000 [==============================] - 65s 65ms/step - loss: 0.9654 - accuracy: 0.7199 - val_loss: 5.2046 - val_accuracy: 0.2877\n",
            "Epoch 41/100\n",
            "1000/1000 [==============================] - 64s 64ms/step - loss: 0.9806 - accuracy: 0.7153 - val_loss: 5.4117 - val_accuracy: 0.2789\n",
            "Epoch 42/100\n",
            "1000/1000 [==============================] - 65s 65ms/step - loss: 0.9668 - accuracy: 0.7196 - val_loss: 5.2991 - val_accuracy: 0.2863\n",
            "Epoch 43/100\n",
            "1000/1000 [==============================] - 64s 64ms/step - loss: 0.9661 - accuracy: 0.7151 - val_loss: 5.4517 - val_accuracy: 0.2894\n",
            "Epoch 44/100\n",
            "1000/1000 [==============================] - 65s 65ms/step - loss: 0.9764 - accuracy: 0.7179 - val_loss: 5.4999 - val_accuracy: 0.2811\n",
            "Epoch 45/100\n",
            "1000/1000 [==============================] - 64s 64ms/step - loss: 0.9342 - accuracy: 0.7287 - val_loss: 5.3802 - val_accuracy: 0.2843\n",
            "Epoch 46/100\n",
            "1000/1000 [==============================] - 64s 64ms/step - loss: 0.9076 - accuracy: 0.7321 - val_loss: 5.6208 - val_accuracy: 0.2768\n",
            "Epoch 47/100\n",
            "1000/1000 [==============================] - 64s 64ms/step - loss: 0.9184 - accuracy: 0.7353 - val_loss: 5.8741 - val_accuracy: 0.2651\n",
            "Epoch 48/100\n",
            "1000/1000 [==============================] - 65s 65ms/step - loss: 0.9583 - accuracy: 0.7285 - val_loss: 5.7727 - val_accuracy: 0.2784\n",
            "Epoch 49/100\n",
            "1000/1000 [==============================] - 65s 65ms/step - loss: 0.9073 - accuracy: 0.7360 - val_loss: 5.7636 - val_accuracy: 0.2778\n",
            "Epoch 50/100\n",
            "1000/1000 [==============================] - 65s 65ms/step - loss: 0.9213 - accuracy: 0.7372 - val_loss: 5.8547 - val_accuracy: 0.2701\n",
            "Epoch 51/100\n",
            "1000/1000 [==============================] - 65s 65ms/step - loss: 0.8685 - accuracy: 0.7476 - val_loss: 5.9591 - val_accuracy: 0.2778\n",
            "Epoch 52/100\n",
            "1000/1000 [==============================] - 65s 65ms/step - loss: 0.8994 - accuracy: 0.7387 - val_loss: 5.8817 - val_accuracy: 0.2786\n",
            "Epoch 53/100\n",
            "1000/1000 [==============================] - 65s 65ms/step - loss: 0.8881 - accuracy: 0.7475 - val_loss: 5.9680 - val_accuracy: 0.2777\n",
            "Epoch 54/100\n",
            "1000/1000 [==============================] - 65s 65ms/step - loss: 0.8600 - accuracy: 0.7503 - val_loss: 6.0946 - val_accuracy: 0.2780\n",
            "Epoch 55/100\n",
            "1000/1000 [==============================] - 64s 64ms/step - loss: 0.8643 - accuracy: 0.7492 - val_loss: 5.9040 - val_accuracy: 0.2739\n",
            "Epoch 56/100\n",
            "1000/1000 [==============================] - 65s 65ms/step - loss: 0.8864 - accuracy: 0.7442 - val_loss: 6.2025 - val_accuracy: 0.2790\n",
            "Epoch 57/100\n",
            "1000/1000 [==============================] - 64s 64ms/step - loss: 0.8799 - accuracy: 0.7462 - val_loss: 6.0743 - val_accuracy: 0.2781\n",
            "Epoch 58/100\n",
            "1000/1000 [==============================] - 64s 64ms/step - loss: 0.8382 - accuracy: 0.7578 - val_loss: 6.1842 - val_accuracy: 0.2759\n",
            "Epoch 59/100\n",
            "1000/1000 [==============================] - 65s 65ms/step - loss: 0.8563 - accuracy: 0.7523 - val_loss: 6.1640 - val_accuracy: 0.2793\n",
            "Epoch 60/100\n",
            "1000/1000 [==============================] - 65s 65ms/step - loss: 0.8476 - accuracy: 0.7555 - val_loss: 6.2964 - val_accuracy: 0.2745\n",
            "Epoch 61/100\n",
            "1000/1000 [==============================] - 65s 65ms/step - loss: 0.8396 - accuracy: 0.7594 - val_loss: 6.3936 - val_accuracy: 0.2687\n",
            "Epoch 62/100\n",
            "1000/1000 [==============================] - 64s 64ms/step - loss: 0.8163 - accuracy: 0.7649 - val_loss: 6.4528 - val_accuracy: 0.2764\n",
            "Epoch 63/100\n",
            "1000/1000 [==============================] - 64s 64ms/step - loss: 0.8454 - accuracy: 0.7582 - val_loss: 6.2967 - val_accuracy: 0.2678\n",
            "Epoch 64/100\n",
            "1000/1000 [==============================] - 65s 65ms/step - loss: 0.8172 - accuracy: 0.7638 - val_loss: 6.3725 - val_accuracy: 0.2732\n",
            "Epoch 65/100\n",
            "1000/1000 [==============================] - 65s 65ms/step - loss: 0.8330 - accuracy: 0.7584 - val_loss: 6.4850 - val_accuracy: 0.2715\n",
            "Epoch 66/100\n",
            "1000/1000 [==============================] - 65s 65ms/step - loss: 0.8997 - accuracy: 0.7458 - val_loss: 6.6439 - val_accuracy: 0.2713\n",
            "Epoch 67/100\n",
            "1000/1000 [==============================] - 64s 64ms/step - loss: 0.8518 - accuracy: 0.7621 - val_loss: 6.5732 - val_accuracy: 0.2693\n",
            "Epoch 68/100\n",
            "1000/1000 [==============================] - 65s 65ms/step - loss: 0.8604 - accuracy: 0.7532 - val_loss: 6.7018 - val_accuracy: 0.2713\n",
            "Epoch 69/100\n",
            "1000/1000 [==============================] - 65s 65ms/step - loss: 0.8276 - accuracy: 0.7648 - val_loss: 6.3694 - val_accuracy: 0.2719\n",
            "Epoch 70/100\n",
            "1000/1000 [==============================] - 65s 65ms/step - loss: 0.8703 - accuracy: 0.7557 - val_loss: 6.5256 - val_accuracy: 0.2710\n",
            "Epoch 71/100\n",
            "1000/1000 [==============================] - 65s 65ms/step - loss: 0.8056 - accuracy: 0.7686 - val_loss: 6.9825 - val_accuracy: 0.2735\n",
            "Epoch 72/100\n",
            "1000/1000 [==============================] - 65s 65ms/step - loss: 0.8089 - accuracy: 0.7689 - val_loss: 6.8741 - val_accuracy: 0.2690\n",
            "Epoch 73/100\n",
            "1000/1000 [==============================] - 65s 65ms/step - loss: 0.7833 - accuracy: 0.7772 - val_loss: 6.7669 - val_accuracy: 0.2658\n",
            "Epoch 74/100\n",
            "1000/1000 [==============================] - 65s 65ms/step - loss: 0.8520 - accuracy: 0.7604 - val_loss: 6.6001 - val_accuracy: 0.2727\n",
            "Epoch 75/100\n",
            "1000/1000 [==============================] - 65s 65ms/step - loss: 0.8431 - accuracy: 0.7613 - val_loss: 6.9436 - val_accuracy: 0.2661\n",
            "Epoch 76/100\n",
            "1000/1000 [==============================] - 66s 66ms/step - loss: 0.8197 - accuracy: 0.7685 - val_loss: 6.8006 - val_accuracy: 0.2686\n",
            "Epoch 77/100\n",
            "1000/1000 [==============================] - 65s 65ms/step - loss: 0.7720 - accuracy: 0.7755 - val_loss: 6.8907 - val_accuracy: 0.2637\n",
            "Epoch 78/100\n",
            "1000/1000 [==============================] - 65s 65ms/step - loss: 0.8328 - accuracy: 0.7653 - val_loss: 6.7185 - val_accuracy: 0.2651\n",
            "Epoch 79/100\n",
            "1000/1000 [==============================] - 65s 65ms/step - loss: 0.7765 - accuracy: 0.7798 - val_loss: 6.6624 - val_accuracy: 0.2752\n",
            "Epoch 80/100\n",
            "1000/1000 [==============================] - 66s 66ms/step - loss: 0.8417 - accuracy: 0.7634 - val_loss: 7.1001 - val_accuracy: 0.2688\n",
            "Epoch 81/100\n",
            "1000/1000 [==============================] - 66s 66ms/step - loss: 0.8290 - accuracy: 0.7668 - val_loss: 7.0815 - val_accuracy: 0.2781\n",
            "Epoch 82/100\n",
            "1000/1000 [==============================] - 67s 67ms/step - loss: 0.7930 - accuracy: 0.7759 - val_loss: 6.8655 - val_accuracy: 0.2741\n",
            "Epoch 83/100\n",
            "1000/1000 [==============================] - 69s 69ms/step - loss: 0.8103 - accuracy: 0.7723 - val_loss: 6.8640 - val_accuracy: 0.2753\n",
            "Epoch 84/100\n",
            "1000/1000 [==============================] - 68s 68ms/step - loss: 0.7822 - accuracy: 0.7783 - val_loss: 7.3111 - val_accuracy: 0.2703\n",
            "Epoch 85/100\n",
            "1000/1000 [==============================] - 68s 68ms/step - loss: 0.7783 - accuracy: 0.7805 - val_loss: 7.1516 - val_accuracy: 0.2638\n",
            "Epoch 86/100\n",
            "1000/1000 [==============================] - 68s 68ms/step - loss: 0.8008 - accuracy: 0.7758 - val_loss: 6.8489 - val_accuracy: 0.2717\n",
            "Epoch 87/100\n",
            "1000/1000 [==============================] - 68s 68ms/step - loss: 0.8227 - accuracy: 0.7721 - val_loss: 7.0806 - val_accuracy: 0.2732\n",
            "Epoch 88/100\n",
            "1000/1000 [==============================] - 68s 68ms/step - loss: 0.7800 - accuracy: 0.7766 - val_loss: 6.7366 - val_accuracy: 0.2668\n",
            "Epoch 89/100\n",
            "1000/1000 [==============================] - 67s 67ms/step - loss: 0.8350 - accuracy: 0.7700 - val_loss: 7.2906 - val_accuracy: 0.2731\n",
            "Epoch 90/100\n",
            "1000/1000 [==============================] - 69s 69ms/step - loss: 0.7942 - accuracy: 0.7759 - val_loss: 7.4432 - val_accuracy: 0.2649\n",
            "Epoch 91/100\n",
            "1000/1000 [==============================] - 67s 67ms/step - loss: 0.8424 - accuracy: 0.7639 - val_loss: 7.2983 - val_accuracy: 0.2716\n",
            "Epoch 92/100\n",
            "1000/1000 [==============================] - 66s 66ms/step - loss: 0.7771 - accuracy: 0.7801 - val_loss: 7.3042 - val_accuracy: 0.2680\n",
            "Epoch 93/100\n",
            "1000/1000 [==============================] - 67s 67ms/step - loss: 0.7914 - accuracy: 0.7793 - val_loss: 7.1578 - val_accuracy: 0.2672\n",
            "Epoch 94/100\n",
            "1000/1000 [==============================] - 66s 66ms/step - loss: 0.7599 - accuracy: 0.7855 - val_loss: 7.2244 - val_accuracy: 0.2694\n",
            "Epoch 95/100\n",
            "1000/1000 [==============================] - 67s 67ms/step - loss: 0.7494 - accuracy: 0.7890 - val_loss: 7.5914 - val_accuracy: 0.2686\n",
            "Epoch 96/100\n",
            "1000/1000 [==============================] - 66s 66ms/step - loss: 0.8065 - accuracy: 0.7753 - val_loss: 7.3485 - val_accuracy: 0.2696\n",
            "Epoch 97/100\n",
            "1000/1000 [==============================] - 66s 66ms/step - loss: 0.7911 - accuracy: 0.7824 - val_loss: 7.4229 - val_accuracy: 0.2701\n",
            "Epoch 98/100\n",
            "1000/1000 [==============================] - 66s 66ms/step - loss: 0.7634 - accuracy: 0.7846 - val_loss: 7.5776 - val_accuracy: 0.2633\n",
            "Epoch 99/100\n",
            "1000/1000 [==============================] - 66s 66ms/step - loss: 0.7868 - accuracy: 0.7820 - val_loss: 7.4521 - val_accuracy: 0.2662\n",
            "Epoch 100/100\n",
            "1000/1000 [==============================] - 66s 66ms/step - loss: 0.8395 - accuracy: 0.7663 - val_loss: 7.5811 - val_accuracy: 0.2697\n",
            "200/200 [==============================] - 4s 22ms/step - loss: 7.5811 - accuracy: 0.2697\n",
            "Test score: 7.581129550933838\n",
            "Test accuracy: 0.26969999074935913\n"
          ],
          "name": "stdout"
        }
      ]
    },
    {
      "cell_type": "markdown",
      "metadata": {
        "id": "yjfLW20PasaS"
      },
      "source": [
        "### Training"
      ]
    },
    {
      "cell_type": "code",
      "metadata": {
        "id": "7DReRBpjatbG"
      },
      "source": [
        "# Train the transfer learning model here\n",
        "from keras.applications import ResNet101\n",
        "import keras\n",
        "import tensorflow as tf\n",
        "from keras.models import Model,Sequential, Input, load_model\n",
        "from keras.layers import Dense, Dropout, Flatten, Conv2D, MaxPool2D, BatchNormalization, AveragePooling2D, GlobalAveragePooling2D\n",
        "\n",
        "\n",
        "\n",
        "def get_model_resnet101():\n",
        "    densenet = ResNet101(weights='imagenet', include_top=False, input_shape=(32, 32, 3))\n",
        "\n",
        "    input = Input(shape=(32, 32, 3))\n",
        "    x = Conv2D(3, (3, 3), padding='same')(input)\n",
        "    \n",
        "    x = densenet(x)\n",
        "    \n",
        "    x = GlobalAveragePooling2D()(x)\n",
        "    x = BatchNormalization(momentum=0.9)(x)\n",
        "    x = Dropout(0.5)(x)\n",
        "    x = Dense(256, activation='relu')(x)\n",
        "    x = BatchNormalization(momentum=0.9)(x)\n",
        "    x = Dropout(0.5)(x)\n",
        "    \n",
        "  \n",
        "  \n",
        "    # multi output\n",
        "    output = Dense(100,activation = 'softmax', name='root')(x)\n",
        " \n",
        "\n",
        "    # model\n",
        "    model = Model(input,output)\n",
        "    \n",
        "    \n",
        "    optimizer = tf.keras.optimizers.SGD( learning_rate=0.001,decay=1e-6 ,momentum=0.0, nesterov=False, name=\"SGD\") \n",
        "    \n",
        "    model.compile(loss='categorical_crossentropy', optimizer=optimizer, metrics=['accuracy'])\n",
        "    model.summary()\n",
        "    \n",
        "    return model\n"
      ],
      "execution_count": 18,
      "outputs": []
    },
    {
      "cell_type": "code",
      "metadata": {
        "colab": {
          "base_uri": "https://localhost:8080/"
        },
        "id": "Mr7Px1m086tz",
        "outputId": "3a3a96ed-607a-4995-cc7a-8b747299f4e1"
      },
      "source": [
        "model=get_model_resnet101()"
      ],
      "execution_count": 19,
      "outputs": [
        {
          "output_type": "stream",
          "text": [
            "Downloading data from https://storage.googleapis.com/tensorflow/keras-applications/resnet/resnet101_weights_tf_dim_ordering_tf_kernels_notop.h5\n",
            "171450368/171446536 [==============================] - 2s 0us/step\n",
            "Model: \"model\"\n",
            "_________________________________________________________________\n",
            "Layer (type)                 Output Shape              Param #   \n",
            "=================================================================\n",
            "input_2 (InputLayer)         [(None, 32, 32, 3)]       0         \n",
            "_________________________________________________________________\n",
            "conv2d (Conv2D)              (None, 32, 32, 3)         84        \n",
            "_________________________________________________________________\n",
            "resnet101 (Functional)       (None, 1, 1, 2048)        42658176  \n",
            "_________________________________________________________________\n",
            "global_average_pooling2d (Gl (None, 2048)              0         \n",
            "_________________________________________________________________\n",
            "batch_normalization (BatchNo (None, 2048)              8192      \n",
            "_________________________________________________________________\n",
            "dropout (Dropout)            (None, 2048)              0         \n",
            "_________________________________________________________________\n",
            "dense (Dense)                (None, 256)               524544    \n",
            "_________________________________________________________________\n",
            "batch_normalization_1 (Batch (None, 256)               1024      \n",
            "_________________________________________________________________\n",
            "dropout_1 (Dropout)          (None, 256)               0         \n",
            "_________________________________________________________________\n",
            "root (Dense)                 (None, 100)               25700     \n",
            "=================================================================\n",
            "Total params: 43,217,720\n",
            "Trainable params: 43,107,768\n",
            "Non-trainable params: 109,952\n",
            "_________________________________________________________________\n"
          ],
          "name": "stdout"
        }
      ]
    },
    {
      "cell_type": "code",
      "metadata": {
        "colab": {
          "base_uri": "https://localhost:8080/"
        },
        "id": "eNiEek8h_zO2",
        "outputId": "22b0d41b-37fa-4535-e6c9-642d9a636888"
      },
      "source": [
        "model.compile(loss='categorical_crossentropy',\n",
        "              optimizer='adam',\n",
        "              metrics=['accuracy'])\n",
        "\n",
        "# Fit data to model\n",
        "hist = model.fit(X_train, y_train,\n",
        "            batch_size=batch_size,\n",
        "            epochs=50,\n",
        "            verbose=1,\n",
        "            validation_data=(X_test, y_test))\n",
        "\n",
        "\n",
        "\n",
        "score, acc = model.evaluate(X_test, y_test, batch_size=batch_size)\n",
        "print('Test score:', score)\n",
        "print('Test accuracy:', acc)"
      ],
      "execution_count": 20,
      "outputs": [
        {
          "output_type": "stream",
          "text": [
            "Epoch 1/50\n",
            "1000/1000 [==============================] - 129s 87ms/step - loss: 5.1530 - accuracy: 0.0110 - val_loss: 38.1680 - val_accuracy: 0.0169\n",
            "Epoch 2/50\n",
            "1000/1000 [==============================] - 85s 85ms/step - loss: 4.8389 - accuracy: 0.0124 - val_loss: 5.8944 - val_accuracy: 0.0120\n",
            "Epoch 3/50\n",
            "1000/1000 [==============================] - 86s 86ms/step - loss: 4.7268 - accuracy: 0.0134 - val_loss: 4.5716 - val_accuracy: 0.0179\n",
            "Epoch 4/50\n",
            "1000/1000 [==============================] - 86s 86ms/step - loss: 4.5882 - accuracy: 0.0188 - val_loss: 5.1415 - val_accuracy: 0.0399\n",
            "Epoch 5/50\n",
            "1000/1000 [==============================] - 85s 85ms/step - loss: 4.3960 - accuracy: 0.0303 - val_loss: 4.2312 - val_accuracy: 0.0337\n",
            "Epoch 6/50\n",
            "1000/1000 [==============================] - 86s 86ms/step - loss: 4.2827 - accuracy: 0.0399 - val_loss: 5.3365 - val_accuracy: 0.0136\n",
            "Epoch 7/50\n",
            "1000/1000 [==============================] - 86s 86ms/step - loss: 4.1705 - accuracy: 0.0450 - val_loss: 4.0963 - val_accuracy: 0.0550\n",
            "Epoch 8/50\n",
            "1000/1000 [==============================] - 85s 85ms/step - loss: 4.0178 - accuracy: 0.0594 - val_loss: 3.8813 - val_accuracy: 0.0819\n",
            "Epoch 9/50\n",
            "1000/1000 [==============================] - 85s 85ms/step - loss: 3.8566 - accuracy: 0.0757 - val_loss: 3.8619 - val_accuracy: 0.0854\n",
            "Epoch 10/50\n",
            "1000/1000 [==============================] - 85s 85ms/step - loss: 3.7193 - accuracy: 0.0952 - val_loss: 3.8995 - val_accuracy: 0.1335\n",
            "Epoch 11/50\n",
            "1000/1000 [==============================] - 85s 85ms/step - loss: 3.6162 - accuracy: 0.1129 - val_loss: 3.6492 - val_accuracy: 0.1441\n",
            "Epoch 12/50\n",
            "1000/1000 [==============================] - 85s 85ms/step - loss: 3.6079 - accuracy: 0.1190 - val_loss: 3.4840 - val_accuracy: 0.1384\n",
            "Epoch 13/50\n",
            "1000/1000 [==============================] - 85s 85ms/step - loss: 3.5108 - accuracy: 0.1341 - val_loss: 3.4389 - val_accuracy: 0.1618\n",
            "Epoch 14/50\n",
            "1000/1000 [==============================] - 85s 85ms/step - loss: 3.4430 - accuracy: 0.1505 - val_loss: 3.2701 - val_accuracy: 0.2156\n",
            "Epoch 15/50\n",
            "1000/1000 [==============================] - 85s 85ms/step - loss: 3.2173 - accuracy: 0.1903 - val_loss: 6.1390 - val_accuracy: 0.1680\n",
            "Epoch 16/50\n",
            "1000/1000 [==============================] - 85s 85ms/step - loss: 3.2691 - accuracy: 0.1881 - val_loss: 7.0631 - val_accuracy: 0.1332\n",
            "Epoch 17/50\n",
            "1000/1000 [==============================] - 85s 85ms/step - loss: 3.3981 - accuracy: 0.1756 - val_loss: 3.7899 - val_accuracy: 0.2471\n",
            "Epoch 18/50\n",
            "1000/1000 [==============================] - 86s 86ms/step - loss: 3.2073 - accuracy: 0.2046 - val_loss: 3.5879 - val_accuracy: 0.2742\n",
            "Epoch 19/50\n",
            "1000/1000 [==============================] - 86s 86ms/step - loss: 3.0232 - accuracy: 0.2390 - val_loss: 3.7559 - val_accuracy: 0.2722\n",
            "Epoch 20/50\n",
            "1000/1000 [==============================] - 86s 86ms/step - loss: 2.9258 - accuracy: 0.2567 - val_loss: 2.8312 - val_accuracy: 0.3067\n",
            "Epoch 21/50\n",
            "1000/1000 [==============================] - 86s 86ms/step - loss: 2.9090 - accuracy: 0.2674 - val_loss: 39.8673 - val_accuracy: 0.2977\n",
            "Epoch 22/50\n",
            "1000/1000 [==============================] - 87s 87ms/step - loss: 3.0901 - accuracy: 0.2366 - val_loss: 519.2424 - val_accuracy: 0.2559\n",
            "Epoch 23/50\n",
            "1000/1000 [==============================] - 86s 86ms/step - loss: 3.0143 - accuracy: 0.2400 - val_loss: 3.9049 - val_accuracy: 0.1716\n",
            "Epoch 24/50\n",
            "1000/1000 [==============================] - 86s 86ms/step - loss: 3.2592 - accuracy: 0.2008 - val_loss: 3.7368 - val_accuracy: 0.2398\n",
            "Epoch 25/50\n",
            "1000/1000 [==============================] - 86s 86ms/step - loss: 3.2561 - accuracy: 0.1999 - val_loss: 39.7541 - val_accuracy: 0.2859\n",
            "Epoch 26/50\n",
            "1000/1000 [==============================] - 86s 86ms/step - loss: 2.9129 - accuracy: 0.2618 - val_loss: 75.1125 - val_accuracy: 0.2815\n",
            "Epoch 27/50\n",
            "1000/1000 [==============================] - 86s 86ms/step - loss: 2.7647 - accuracy: 0.2918 - val_loss: 483.8691 - val_accuracy: 0.3283\n",
            "Epoch 28/50\n",
            "1000/1000 [==============================] - 86s 86ms/step - loss: 2.6662 - accuracy: 0.3091 - val_loss: 361.6640 - val_accuracy: 0.3399\n",
            "Epoch 29/50\n",
            "1000/1000 [==============================] - 86s 86ms/step - loss: 2.7315 - accuracy: 0.2986 - val_loss: 86.0761 - val_accuracy: 0.3086\n",
            "Epoch 30/50\n",
            "1000/1000 [==============================] - 86s 86ms/step - loss: 2.6914 - accuracy: 0.3069 - val_loss: 419.9937 - val_accuracy: 0.3462\n",
            "Epoch 31/50\n",
            "1000/1000 [==============================] - 86s 86ms/step - loss: 2.8185 - accuracy: 0.2885 - val_loss: 3025.4844 - val_accuracy: 0.3047\n",
            "Epoch 32/50\n",
            "1000/1000 [==============================] - 85s 85ms/step - loss: 2.7655 - accuracy: 0.2955 - val_loss: 461.1124 - val_accuracy: 0.3371\n",
            "Epoch 33/50\n",
            "1000/1000 [==============================] - 86s 86ms/step - loss: 2.6429 - accuracy: 0.3218 - val_loss: 3.6401 - val_accuracy: 0.3465\n",
            "Epoch 34/50\n",
            "1000/1000 [==============================] - 86s 86ms/step - loss: 2.5859 - accuracy: 0.3318 - val_loss: 14.8120 - val_accuracy: 0.3036\n",
            "Epoch 35/50\n",
            "1000/1000 [==============================] - 86s 86ms/step - loss: 2.6921 - accuracy: 0.3127 - val_loss: 4.7612 - val_accuracy: 0.3573\n",
            "Epoch 36/50\n",
            "1000/1000 [==============================] - 86s 86ms/step - loss: 2.4591 - accuracy: 0.3619 - val_loss: 4.5358 - val_accuracy: 0.2159\n",
            "Epoch 37/50\n",
            "1000/1000 [==============================] - 86s 86ms/step - loss: 3.0503 - accuracy: 0.2488 - val_loss: 3.3478 - val_accuracy: 0.3223\n",
            "Epoch 38/50\n",
            "1000/1000 [==============================] - 85s 85ms/step - loss: 2.7376 - accuracy: 0.3048 - val_loss: 49.7202 - val_accuracy: 0.3375\n",
            "Epoch 39/50\n",
            "1000/1000 [==============================] - 85s 85ms/step - loss: 2.8928 - accuracy: 0.2779 - val_loss: 2.7644 - val_accuracy: 0.3088\n",
            "Epoch 40/50\n",
            "1000/1000 [==============================] - 85s 85ms/step - loss: 2.9024 - accuracy: 0.2757 - val_loss: 33.4052 - val_accuracy: 0.3242\n",
            "Epoch 41/50\n",
            "1000/1000 [==============================] - 86s 86ms/step - loss: 2.6101 - accuracy: 0.3242 - val_loss: 5.7347 - val_accuracy: 0.3566\n",
            "Epoch 42/50\n",
            "1000/1000 [==============================] - 86s 86ms/step - loss: 2.5828 - accuracy: 0.3362 - val_loss: 2.8747 - val_accuracy: 0.3002\n",
            "Epoch 43/50\n",
            "1000/1000 [==============================] - 85s 85ms/step - loss: 2.6469 - accuracy: 0.3186 - val_loss: 2.5099 - val_accuracy: 0.3549\n",
            "Epoch 44/50\n",
            "1000/1000 [==============================] - 86s 86ms/step - loss: 2.5656 - accuracy: 0.3407 - val_loss: 2.5294 - val_accuracy: 0.3660\n",
            "Epoch 45/50\n",
            "1000/1000 [==============================] - 86s 86ms/step - loss: 2.4112 - accuracy: 0.3701 - val_loss: 19.3800 - val_accuracy: 0.3645\n",
            "Epoch 46/50\n",
            "1000/1000 [==============================] - 85s 85ms/step - loss: 2.3239 - accuracy: 0.3908 - val_loss: 3.3247 - val_accuracy: 0.2432\n",
            "Epoch 47/50\n",
            "1000/1000 [==============================] - 85s 85ms/step - loss: 2.5644 - accuracy: 0.3510 - val_loss: 42.4503 - val_accuracy: 0.3471\n",
            "Epoch 48/50\n",
            "1000/1000 [==============================] - 85s 85ms/step - loss: 2.4715 - accuracy: 0.3602 - val_loss: 79.2472 - val_accuracy: 0.2892\n",
            "Epoch 49/50\n",
            "1000/1000 [==============================] - 85s 85ms/step - loss: 2.8866 - accuracy: 0.2835 - val_loss: 17.5179 - val_accuracy: 0.3413\n",
            "Epoch 50/50\n",
            "1000/1000 [==============================] - 85s 85ms/step - loss: 2.4277 - accuracy: 0.3663 - val_loss: 17.3634 - val_accuracy: 0.3765\n",
            "200/200 [==============================] - 5s 23ms/step - loss: 17.3634 - accuracy: 0.3765\n",
            "Test score: 17.36338996887207\n",
            "Test accuracy: 0.3765000104904175\n"
          ],
          "name": "stdout"
        }
      ]
    },
    {
      "cell_type": "code",
      "metadata": {
        "id": "zJx-1R8Ma0E_",
        "colab": {
          "base_uri": "https://localhost:8080/",
          "height": 700
        },
        "outputId": "abce5de3-2226-4c3a-d126-14bba4997a05"
      },
      "source": [
        "\n",
        "plt.figure(figsize=(15,5))\n",
        "plt.plot(hist.history['accuracy'],color=\"blue\")\n",
        "plt.plot(hist.history['val_accuracy'],color=\"red\")\n",
        "plt.title('model accuracy ~SGD')\n",
        "plt.ylabel('accuracy')\n",
        "plt.xlabel('epoch')\n",
        "plt.legend(['train', 'test'], loc='upper left')\n",
        "\n",
        "plt.figure(figsize=(15,5))\n",
        "plt.plot(hist.history['loss'],color=\"blue\")\n",
        "plt.plot(hist.history['val_loss'],color=\"red\")\n",
        "plt.title('model loss ~SGD')\n",
        "plt.ylabel('loss')\n",
        "plt.xlabel('epoch')\n",
        "plt.legend(['train', 'test'], loc='upper left')"
      ],
      "execution_count": 21,
      "outputs": [
        {
          "output_type": "execute_result",
          "data": {
            "text/plain": [
              "<matplotlib.legend.Legend at 0x7f786628ed10>"
            ]
          },
          "metadata": {
            "tags": []
          },
          "execution_count": 21
        },
        {
          "output_type": "display_data",
          "data": {
            "image/png": "[encoded data removed]",
            "text/plain": [
              "<Figure size 1080x360 with 1 Axes>"
            ]
          },
          "metadata": {
            "tags": [],
            "needs_background": "light"
          }
        },
        {
          "output_type": "display_data",
          "data": {
            "image/png": "[encoded data removed]",
            "text/plain": [
              "<Figure size 1080x360 with 1 Axes>"
            ]
          },
          "metadata": {
            "tags": [],
            "needs_background": "light"
          }
        }
      ]
    },
    {
      "cell_type": "markdown",
      "metadata": {
        "id": "eRIqFHKvsHbu"
      },
      "source": [
        "\n",
        "If we train the model with more epochs, we can get a better result. "
      ]
    },
    {
      "cell_type": "code",
      "metadata": {
        "id": "xhJ3dbrEsGjs"
      },
      "source": [
        ""
      ],
      "execution_count": null,
      "outputs": []
    },
    {
      "cell_type": "markdown",
      "metadata": {
        "id": "J1EyKd5DcOHw"
      },
      "source": [
        "### Save"
      ]
    },
    {
      "cell_type": "code",
      "metadata": {
        "colab": {
          "base_uri": "https://localhost:8080/"
        },
        "id": "8YKRMOnvGY2m",
        "outputId": "9a2a264b-dc71-4afe-cff2-9cdaa76033d6"
      },
      "source": [
        "!pip install pyyaml h5py  # Required to save models in HDF5 format"
      ],
      "execution_count": 22,
      "outputs": [
        {
          "output_type": "stream",
          "text": [
            "Requirement already satisfied: pyyaml in /usr/local/lib/python3.7/dist-packages (3.13)\n",
            "Requirement already satisfied: h5py in /usr/local/lib/python3.7/dist-packages (2.10.0)\n",
            "Requirement already satisfied: six in /usr/local/lib/python3.7/dist-packages (from h5py) (1.15.0)\n",
            "Requirement already satisfied: numpy>=1.7 in /usr/local/lib/python3.7/dist-packages (from h5py) (1.19.5)\n"
          ],
          "name": "stdout"
        }
      ]
    },
    {
      "cell_type": "code",
      "metadata": {
        "id": "VD_wilQPcLKW"
      },
      "source": [
        "# Save the model to disk\n",
        "model_wei=model.save_weights(\"/content/drive/My Drive/GlobalAI/modelCifar.h5\")\n"
      ],
      "execution_count": 26,
      "outputs": []
    },
    {
      "cell_type": "markdown",
      "metadata": {
        "id": "tCGh7MtgG4kp"
      },
      "source": [
        "### Recreate the exact same model"
      ]
    },
    {
      "cell_type": "markdown",
      "metadata": {
        "id": "xKk6SIOObg-P"
      },
      "source": [
        "### Further Fun\n",
        "\n",
        "\n",
        "\n",
        "*   Experiment with different model architectures\n",
        "*   Play with different parameters such as convolution size, pooling, padding, striding, epochs, dropout etc.\n",
        "*   Train a Dense Neural Network as baseline and compare the performance\n",
        "\n"
      ]
    },
    {
      "cell_type": "code",
      "metadata": {
        "id": "-ycEo2HEdKHp"
      },
      "source": [
        ""
      ],
      "execution_count": null,
      "outputs": []
    }
  ]
}