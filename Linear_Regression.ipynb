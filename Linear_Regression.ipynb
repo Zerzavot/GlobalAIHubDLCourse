{
  "cells": [
    {
      "cell_type": "markdown",
      "metadata": {
        "id": "view-in-github",
        "colab_type": "text"
      },
      "source": [
        "<a href=\"https://colab.research.google.com/github/Zerzavot/GlobalAIHubDLCourse/blob/main/Linear_Regression.ipynb\" target=\"_parent\"><img src=\"https://colab.research.google.com/assets/colab-badge.svg\" alt=\"Open In Colab\"/></a>"
      ]
    },
    {
      "cell_type": "markdown",
      "source": [
        "## Linear Regression\n",
        "Linear regression is used to construct a linear relationship between input variable(s) and an output variable.\n",
        "\n",
        "$$y = \\beta_0 + \\beta_1x_1 + \\beta_2x_2 + \\dots + \\beta_kx_k$$\n",
        "\n",
        "\n",
        "Lets use the following data for exercises"
      ],
      "metadata": {
        "id": "ZRU5lv6Az9rf"
      }
    },
    {
      "cell_type": "markdown",
      "source": [
        "### Simple Linear Regression\n",
        "\n",
        "When there is only one input variable it is called simple linear regression\n",
        "\n",
        "$$y = \\beta_0 + \\beta_1x$$\n"
      ],
      "metadata": {
        "id": "qUsGxeqI1hJt"
      }
    },
    {
      "cell_type": "code",
      "execution_count": null,
      "metadata": {
        "colab": {
          "base_uri": "https://localhost:8080/",
          "height": 279
        },
        "id": "lIYdn1woOS1n",
        "outputId": "0b0fa19d-1c85-4b84-9d9e-02c3ded28c7b"
      },
      "outputs": [
        {
          "output_type": "display_data",
          "data": {
            "text/plain": [
              "<Figure size 432x288 with 1 Axes>"
            ],
            "image/png": "[encoded data removed]"
          },
          "metadata": {
            "needs_background": "light"
          }
        }
      ],
      "source": [
        "import numpy as np\n",
        "import matplotlib.pyplot as plt\n",
        "np.random.seed(42)\n",
        "x = np.linspace(0,3,30)\n",
        "y = 2*x + 3 + np.random.randn(x.size)\n",
        "\n",
        "plt.plot(x,y,\"*b\")\n",
        "plt.xlabel(\"x\")\n",
        "plt.ylabel(\"y\")\n",
        "plt.grid(True)"
      ]
    },
    {
      "cell_type": "markdown",
      "source": [
        "**Exercise**\n",
        "\n",
        "Given an input vector $x$ and coefficient vector $\\beta_0$ and $\\beta_1$ calculate and return predicted values of $\\hat{y}$ using following formula \n",
        "$$\\hat{y} = \\beta_0 + \\beta_1x$$"
      ],
      "metadata": {
        "id": "eVC5wTpM1oPO"
      }
    },
    {
      "cell_type": "code",
      "source": [
        "def predict_first(x,beta0,beta1):\n",
        "    return beta0 + beta1*x"
      ],
      "metadata": {
        "id": "J23YJaBQ1wdb"
      },
      "execution_count": null,
      "outputs": []
    },
    {
      "cell_type": "code",
      "source": [
        "beta0 = 1\n",
        "beta1 = 2\n",
        "\n",
        "ypred = predict_first(x, beta0, beta1)\n",
        "print(ypred[5])"
      ],
      "metadata": {
        "id": "1b76QwBZ139A",
        "colab": {
          "base_uri": "https://localhost:8080/"
        },
        "outputId": "820b4ae8-6fcf-43fc-d201-4a1af0f4ffa5"
      },
      "execution_count": null,
      "outputs": [
        {
          "output_type": "stream",
          "name": "stdout",
          "text": [
            "2.0344827586206895\n"
          ]
        }
      ]
    },
    {
      "cell_type": "markdown",
      "source": [
        "**Exercise**\n",
        "\n",
        "In the second problem, you are going to predicted the $\\hat{y}$ values again. but this time you are going to use matrix multiplication. Assume you have an input matrix $X$ of shape $m*k$ and parameter vector $\\beta$ of size $k$. Calculate the predictions as follows:\n",
        "$$\\hat{y} = X\\beta $$\n",
        "Use the `np.dot()` function for matrix multiplication\n",
        "\n",
        "For the given dataset, you need to add columns of ones to the input vector $x$ so you will have a matrix of shape $30*2$. You can use `np.c_[]` function to combine vectors or matrices.\n"
      ],
      "metadata": {
        "id": "PxVFrnUx4rJU"
      }
    },
    {
      "cell_type": "code",
      "source": [
        "X = np.c_[np.ones(x.shape), x]  # write your command here\n",
        "\n",
        "print(X[3,:])\n",
        "# should printout [1.         0.31034483]"
      ],
      "metadata": {
        "id": "bCiZS6sU2B0r",
        "colab": {
          "base_uri": "https://localhost:8080/"
        },
        "outputId": "7898c642-1eda-49a0-dd6a-0c46c6d1abb4"
      },
      "execution_count": null,
      "outputs": [
        {
          "output_type": "stream",
          "name": "stdout",
          "text": [
            "[1.         0.31034483]\n"
          ]
        }
      ]
    },
    {
      "cell_type": "code",
      "source": [
        "def predict(X,beta):\n",
        "    return np.dot(X,beta)"
      ],
      "metadata": {
        "id": "3SgkHitF_z23"
      },
      "execution_count": null,
      "outputs": []
    },
    {
      "cell_type": "code",
      "source": [
        "np.random.seed(42)\n",
        "beta = np.random.random(X.shape[1])\n",
        "yhat = predict(X,beta)\n",
        "print(yhat[5])\n",
        "# should printout 0.8662888980249054"
      ],
      "metadata": {
        "id": "FnY_t1Ok_-cY",
        "colab": {
          "base_uri": "https://localhost:8080/"
        },
        "outputId": "8e189ad1-a62c-4e4b-86f5-26c0afab6d18"
      },
      "execution_count": null,
      "outputs": [
        {
          "output_type": "stream",
          "name": "stdout",
          "text": [
            "0.8662888980249054\n"
          ]
        }
      ]
    },
    {
      "cell_type": "markdown",
      "source": [
        "## Evaluation Metrics\n",
        "\n",
        "Evaluation metrics are used to measure the goodness of a model. For regression models a few of the performance metrics are listed below:"
      ],
      "metadata": {
        "id": "y7IOf4GoADwi"
      }
    },
    {
      "cell_type": "markdown",
      "source": [
        "### Mean Squared Error (MSE)\n",
        "\n",
        "$$mse = \\frac{1}{n}\\sum_{i=1}^{n} (y^i - \\hat{y}^i)^2$$"
      ],
      "metadata": {
        "id": "4uTGAv0hFqdt"
      }
    },
    {
      "cell_type": "markdown",
      "source": [
        "### Mean Absoulte Error (MAE)\n",
        "\n",
        "$$mae = \\frac{1}{n}\\sum_{i=1}^{n} |y^i - \\hat{y}^i|$$\n"
      ],
      "metadata": {
        "id": "JhBFrHoyF0qq"
      }
    },
    {
      "cell_type": "markdown",
      "source": [
        "### Mean Absolute Percentage Error (MAPE)\n",
        "\n",
        "$$mape = \\left(\\frac{1}{n}\\sum_{i=1}^{n} \\frac{|y^i - \\hat{y}^i|}{|y^i|}\\right)*100$$"
      ],
      "metadata": {
        "id": "FkPcgLktF-1V"
      }
    },
    {
      "cell_type": "markdown",
      "source": [
        "### $R^2$ Score\n",
        "\n",
        "$$R^2 = 1 - \\frac{SSE}{SST} = 1 - \\frac{\\sum(y^i-\\hat{y}^i)^2}{\\sum(y^i - \\bar{y})^2}$$"
      ],
      "metadata": {
        "id": "WOOrUBXzGHyO"
      }
    },
    {
      "cell_type": "markdown",
      "source": [
        "**Exercise**\n",
        "\n",
        "Write a function to calculate the performance functions"
      ],
      "metadata": {
        "id": "jIx5c3cDJdgY"
      }
    },
    {
      "cell_type": "code",
      "source": [
        "def mse(y,ypred):\n",
        "    return np.mean((y- ypred)**2)\n",
        "\n",
        "def mae(y,ypred):\n",
        "    return np.mean(np.abs(y-ypred))\n",
        "\n",
        "def mape(y,ypred):\n",
        "    return np.mean(np.abs(y-ypred)/np.abs(y))*100\n",
        "\n",
        "## Homework Problem 1\n",
        "def r2 (y, ypred):\n",
        "    pass"
      ],
      "metadata": {
        "id": "f8mtR2f4G36J"
      },
      "execution_count": null,
      "outputs": []
    },
    {
      "cell_type": "code",
      "source": [
        "np.random.seed(42)\n",
        "beta = np.random.random(X.shape[1])\n",
        "yhat = predict(X,beta)\n",
        "\n",
        "print(\"mse :\", mse(y,yhat))\n",
        "print(\"mae :\", mae(y,yhat))\n",
        "print(\"mape :\", mape(y,yhat))"
      ],
      "metadata": {
        "id": "r7KeawI6GsUO",
        "colab": {
          "base_uri": "https://localhost:8080/"
        },
        "outputId": "3178cb63-d199-45c9-9e2d-b2ee39483828"
      },
      "execution_count": null,
      "outputs": [
        {
          "output_type": "stream",
          "name": "stdout",
          "text": [
            "mse : 17.18425929439018\n",
            "mae : 4.011241525686726\n",
            "mape : 70.24040053349047\n"
          ]
        }
      ]
    },
    {
      "cell_type": "markdown",
      "source": [
        "## Gradient Descent\n",
        "\n",
        "Gradient descent is a nonlinar optimization algorithm which can be used to calculate the parameters of a regression model. \n",
        "Assume you have a linear regression model below\n",
        "\n",
        "$$y = \\beta_0 + \\beta_1x_1 + \\beta_2x_2 + \\dots + \\beta_kx_k$$\n",
        "\n",
        "and the loss function defined as \n",
        "$$L = \\frac{1}{2n}\\sum_{i=1}^{n} (\\hat{y}^i - y^i)^2$$\n",
        "\n",
        "gradients of $\\beta_i$ can be calculated as follows:\n",
        "\n",
        "$$\\frac{\\partial L}{\\partial \\beta_0} = \\frac{1}{n}\\sum_{i=1}^{n} (\\hat{y}^i - y^i)$$\n",
        "$$\\frac{\\partial L}{\\partial \\beta_1} = \\frac{1}{n}\\sum_{i=1}^{n} (\\hat{y}^i - y^i)x_{1}^î$$\n",
        "$$\\vdots$$\n",
        "$$\\frac{\\partial L}{\\partial \\beta_k} = \\frac{1}{n}\\sum_{i=1}^{n} (\\hat{y}^i - y^i)x_{k}^i$$"
      ],
      "metadata": {
        "id": "Ydwikgz8HIL8"
      }
    },
    {
      "cell_type": "markdown",
      "source": [
        "**Exercise**\n",
        "\n",
        "Write a function that will calculate the derivative of parameters. Input parameters of your function should be; input matrix $X$ of shape $n*k$, target variable vector $y$ of size $n$ and the coefficient vector $\\beta$ of size $k$. Your output should be gradient vector of coefficients $\\partial L/\\partial \\beta$ of size $k$"
      ],
      "metadata": {
        "id": "30JqcB6wJqow"
      }
    },
    {
      "cell_type": "code",
      "source": [
        "def gradient_beta(X,y,beta):\n",
        "    ypred = predict(X, beta)\n",
        "    return np.dot(X.T, ypred - y)/y.size"
      ],
      "metadata": {
        "id": "u1TcdpaCIcrd"
      },
      "execution_count": null,
      "outputs": []
    },
    {
      "cell_type": "code",
      "source": [
        "np.random.seed(42)\n",
        "beta = np.random.random(X.shape[1])\n",
        "beta_grad = gradient_beta(X,y,beta)\n",
        "print(beta_grad)"
      ],
      "metadata": {
        "id": "fOIfWPLiJzD5",
        "colab": {
          "base_uri": "https://localhost:8080/"
        },
        "outputId": "42158eda-3ece-44ca-92e8-b1fc4e7ee4ff"
      },
      "execution_count": null,
      "outputs": [
        {
          "output_type": "stream",
          "name": "stdout",
          "text": [
            "[-4.01124153 -6.58576749]\n"
          ]
        }
      ]
    },
    {
      "cell_type": "markdown",
      "source": [
        "Parameters are updated according to following formula\n",
        "\n",
        "$$\\beta_0^{new} = \\beta_0^{old} - \\alpha\\frac{\\partial L}{\\partial \\beta_0}$$\n",
        "$$\\beta_1^{new} = \\beta_1^{old} - \\alpha\\frac{\\partial L}{\\partial \\beta_1}$$\n",
        "$$\\vdots$$\n",
        "$$\\beta_k^{new} = \\beta_k^{old} - \\alpha\\frac{\\partial L}{\\partial \\beta_k}$$"
      ],
      "metadata": {
        "id": "3K-1fs5SJ6U0"
      }
    },
    {
      "cell_type": "code",
      "source": [
        "def update_weights(beta, gradient_beta, alpha):\n",
        "    return beta - alpha*gradient_beta\n",
        "\n",
        "    \n",
        "np.random.seed(42)\n",
        "beta = np.random.random(X.shape[1])\n",
        "dbeta = gradient_beta(X,y,beta)\n",
        "alpha = 0.1\n",
        "update_weights(beta,dbeta, alpha)"
      ],
      "metadata": {
        "id": "_Hq3kdlDKFEa",
        "colab": {
          "base_uri": "https://localhost:8080/"
        },
        "outputId": "3f45ba14-c780-4e08-edf0-fea65b4f41d3"
      },
      "execution_count": null,
      "outputs": [
        {
          "output_type": "execute_result",
          "data": {
            "text/plain": [
              "array([0.77566427, 1.60929106])"
            ]
          },
          "metadata": {},
          "execution_count": 54
        }
      ]
    },
    {
      "cell_type": "markdown",
      "source": [
        "The pseudocode for gradient descent algorithm can be summarized below\n",
        "\n",
        "1. Initialize random values for parameters\n",
        "2. Calculate the gradients\n",
        "3. Update parameters\n",
        "4. Repeat steps 2-3"
      ],
      "metadata": {
        "id": "aIKa-LjHYw-I"
      }
    },
    {
      "cell_type": "markdown",
      "source": [
        "**Exercise**\n",
        "\n",
        "Now you need to combine all the components together to estimate the coefficients of a linear model. Input parameters of the function will be input matrix $X$ of shape $n*k$ and target vector $y$ of size $n$. Learning parameter $\\alpha$ and maximum number of iterations"
      ],
      "metadata": {
        "id": "a8LLPUXwZi6y"
      }
    },
    {
      "cell_type": "code",
      "source": [
        "def model_fit(X,y,alpha,max_iter):\n",
        "    beta = np.random.random(X.shape[1])\n",
        "    for i in range(max_iter):\n",
        "        beta_grad = gradient_beta(X,y,beta)\n",
        "        beta = update_weights(beta, beta_grad, alpha)\n",
        "    \n",
        "    return beta\n",
        "\n",
        "model_fit(X,y,0.1,1000)"
      ],
      "metadata": {
        "id": "ITjVaL1dYwdo",
        "colab": {
          "base_uri": "https://localhost:8080/"
        },
        "outputId": "15dfcaff-2dc2-4da8-edbd-864ce3986fb2"
      },
      "execution_count": null,
      "outputs": [
        {
          "output_type": "execute_result",
          "data": {
            "text/plain": [
              "array([3.32137836, 1.6603165 ])"
            ]
          },
          "metadata": {},
          "execution_count": 55
        }
      ]
    },
    {
      "cell_type": "markdown",
      "source": [
        "## Ordinary Least Squares\n",
        "\n",
        "Another way to calculate the parameters of the linear regression is to used normal function as follows:\n",
        "\n",
        "$$\\beta = (X^TX)^{-1}X^Ty$$"
      ],
      "metadata": {
        "id": "EF1vyYAPZ-KL"
      }
    },
    {
      "cell_type": "markdown",
      "source": [
        "**Exercise**"
      ],
      "metadata": {
        "id": "LOmUGofeczIh"
      }
    },
    {
      "cell_type": "code",
      "source": [
        "def model_fit_ols(X,y):\n",
        "    return np.linalg.inv(X.T.dot(X)).dot(X.T).dot(y)\n",
        "\n",
        "model_fit_ols(X,y)"
      ],
      "metadata": {
        "id": "JU2KEwqzZ4OC",
        "colab": {
          "base_uri": "https://localhost:8080/"
        },
        "outputId": "3f042106-8911-4e35-dfcb-82164f60daef"
      },
      "execution_count": null,
      "outputs": [
        {
          "output_type": "execute_result",
          "data": {
            "text/plain": [
              "array([3.32137836, 1.6603165 ])"
            ]
          },
          "metadata": {},
          "execution_count": 56
        }
      ]
    },
    {
      "cell_type": "markdown",
      "source": [
        "## Regularization"
      ],
      "metadata": {
        "id": "aVXuxiIKc39L"
      }
    },
    {
      "cell_type": "code",
      "source": [
        "import matplotlib.pyplot as plt\n",
        "from matplotlib.widgets import Slider\n",
        "\n",
        "np.random.seed(42)\n",
        "x = np.linspace(-3,3,10)\n",
        "y = 2*x + 3 + np.random.randn(x.size)\n",
        "\n",
        "plt.plot(x,y, \"*\")\n",
        "plt.grid()"
      ],
      "metadata": {
        "id": "373L3fVegqD3",
        "outputId": "aebecc27-112c-41a7-ebd9-cafe99fee95d",
        "colab": {
          "base_uri": "https://localhost:8080/",
          "height": 267
        }
      },
      "execution_count": null,
      "outputs": [
        {
          "output_type": "display_data",
          "data": {
            "text/plain": [
              "<Figure size 432x288 with 1 Axes>"
            ],
            "image/png": "[encoded data removed]"
          },
          "metadata": {
            "needs_background": "light"
          }
        }
      ]
    },
    {
      "cell_type": "code",
      "source": [
        "from sklearn.preprocessing import PolynomialFeatures\n",
        "from sklearn.linear_model import LinearRegression\n",
        "from sklearn.linear_model import Lasso\n",
        "from sklearn.metrics import r2_score\n",
        "\n",
        "\n",
        "x_test = np.linspace(-3,3,100)\n",
        "y_test = 2*x_test + 3\n",
        "#mdl = LinearRegression()\n",
        "mdl =  Lasso(alpha =  1)\n",
        "def fun(k):\n",
        "    poly = PolynomialFeatures(degree=k)\n",
        "    x_poly = poly.fit_transform(x.reshape(-1,1))\n",
        "    x_test_poly = poly.transform(x_test.reshape(-1,1))\n",
        "    mdl.fit(x_poly,y)  \n",
        "    ypred = mdl.predict(x_test_poly)\n",
        "    plt.plot(x,y, \"*b\")  \n",
        "    plt.plot(x_test, ypred, \"r\")\n",
        "    plt.ylim([-3,11])\n",
        "    plt.grid()\n",
        "    print(\"Train:\", r2_score(y, mdl.predict(x_poly)))\n",
        "    print(\"Test: \", r2_score(y_test,ypred))\n",
        "\n",
        "fun(13)"
      ],
      "metadata": {
        "id": "q5AQROUThVOX",
        "outputId": "8acf72a8-28ea-408d-92b0-967a5d6a99d7",
        "colab": {
          "base_uri": "https://localhost:8080/",
          "height": 356
        }
      },
      "execution_count": null,
      "outputs": [
        {
          "output_type": "stream",
          "name": "stderr",
          "text": [
            "/usr/local/lib/python3.7/dist-packages/sklearn/linear_model/_coordinate_descent.py:648: ConvergenceWarning: Objective did not converge. You might want to increase the number of iterations, check the scale of the features or consider increasing regularisation. Duality gap: 1.091e+01, tolerance: 1.499e-02\n",
            "  coef_, l1_reg, l2_reg, X, y, max_iter, tol, rng, random, positive\n"
          ]
        },
        {
          "output_type": "stream",
          "name": "stdout",
          "text": [
            "Train: 0.9218125843449034\n",
            "Test:  0.9003815454157585\n"
          ]
        },
        {
          "output_type": "display_data",
          "data": {
            "text/plain": [
              "<Figure size 432x288 with 1 Axes>"
            ],
            "image/png": "[encoded data removed]"
          },
          "metadata": {
            "needs_background": "light"
          }
        }
      ]
    },
    {
      "cell_type": "code",
      "source": [
        "import pandas as pd\n",
        "\n",
        "house = pd.read_csv(\"house.csv\")\n",
        "house.head()"
      ],
      "metadata": {
        "colab": {
          "base_uri": "https://localhost:8080/",
          "height": 300
        },
        "id": "NsFYEDlEZiSi",
        "outputId": "fd56b9fb-9912-4387-a271-8ab4152bcc15"
      },
      "execution_count": null,
      "outputs": [
        {
          "output_type": "execute_result",
          "data": {
            "text/plain": [
              "   Id  MSSubClass MSZoning  LotFrontage  LotArea Street Alley LotShape  \\\n",
              "0   1          60       RL         65.0     8450   Pave   NaN      Reg   \n",
              "1   2          20       RL         80.0     9600   Pave   NaN      Reg   \n",
              "2   3          60       RL         68.0    11250   Pave   NaN      IR1   \n",
              "3   4          70       RL         60.0     9550   Pave   NaN      IR1   \n",
              "4   5          60       RL         84.0    14260   Pave   NaN      IR1   \n",
              "\n",
              "  LandContour Utilities  ... PoolArea PoolQC Fence MiscFeature MiscVal MoSold  \\\n",
              "0         Lvl    AllPub  ...        0    NaN   NaN         NaN       0      2   \n",
              "1         Lvl    AllPub  ...        0    NaN   NaN         NaN       0      5   \n",
              "2         Lvl    AllPub  ...        0    NaN   NaN         NaN       0      9   \n",
              "3         Lvl    AllPub  ...        0    NaN   NaN         NaN       0      2   \n",
              "4         Lvl    AllPub  ...        0    NaN   NaN         NaN       0     12   \n",
              "\n",
              "  YrSold  SaleType  SaleCondition  SalePrice  \n",
              "0   2008        WD         Normal     208500  \n",
              "1   2007        WD         Normal     181500  \n",
              "2   2008        WD         Normal     223500  \n",
              "3   2006        WD        Abnorml     140000  \n",
              "4   2008        WD         Normal     250000  \n",
              "\n",
              "[5 rows x 81 columns]"
            ],
            "text/html": [
              "\n",
              "  <div id=\"df-2485131c-7a4c-44d8-b332-c6cb9833881b\">\n",
              "    <div class=\"colab-df-container\">\n",
              "      <div>\n",
              "<style scoped>\n",
              "    .dataframe tbody tr th:only-of-type {\n",
              "        vertical-align: middle;\n",
              "    }\n",
              "\n",
              "    .dataframe tbody tr th {\n",
              "        vertical-align: top;\n",
              "    }\n",
              "\n",
              "    .dataframe thead th {\n",
              "        text-align: right;\n",
              "    }\n",
              "</style>\n",
              "<table border=\"1\" class=\"dataframe\">\n",
              "  <thead>\n",
              "    <tr style=\"text-align: right;\">\n",
              "      <th></th>\n",
              "      <th>Id</th>\n",
              "      <th>MSSubClass</th>\n",
              "      <th>MSZoning</th>\n",
              "      <th>LotFrontage</th>\n",
              "      <th>LotArea</th>\n",
              "      <th>Street</th>\n",
              "      <th>Alley</th>\n",
              "      <th>LotShape</th>\n",
              "      <th>LandContour</th>\n",
              "      <th>Utilities</th>\n",
              "      <th>...</th>\n",
              "      <th>PoolArea</th>\n",
              "      <th>PoolQC</th>\n",
              "      <th>Fence</th>\n",
              "      <th>MiscFeature</th>\n",
              "      <th>MiscVal</th>\n",
              "      <th>MoSold</th>\n",
              "      <th>YrSold</th>\n",
              "      <th>SaleType</th>\n",
              "      <th>SaleCondition</th>\n",
              "      <th>SalePrice</th>\n",
              "    </tr>\n",
              "  </thead>\n",
              "  <tbody>\n",
              "    <tr>\n",
              "      <th>0</th>\n",
              "      <td>1</td>\n",
              "      <td>60</td>\n",
              "      <td>RL</td>\n",
              "      <td>65.0</td>\n",
              "      <td>8450</td>\n",
              "      <td>Pave</td>\n",
              "      <td>NaN</td>\n",
              "      <td>Reg</td>\n",
              "      <td>Lvl</td>\n",
              "      <td>AllPub</td>\n",
              "      <td>...</td>\n",
              "      <td>0</td>\n",
              "      <td>NaN</td>\n",
              "      <td>NaN</td>\n",
              "      <td>NaN</td>\n",
              "      <td>0</td>\n",
              "      <td>2</td>\n",
              "      <td>2008</td>\n",
              "      <td>WD</td>\n",
              "      <td>Normal</td>\n",
              "      <td>208500</td>\n",
              "    </tr>\n",
              "    <tr>\n",
              "      <th>1</th>\n",
              "      <td>2</td>\n",
              "      <td>20</td>\n",
              "      <td>RL</td>\n",
              "      <td>80.0</td>\n",
              "      <td>9600</td>\n",
              "      <td>Pave</td>\n",
              "      <td>NaN</td>\n",
              "      <td>Reg</td>\n",
              "      <td>Lvl</td>\n",
              "      <td>AllPub</td>\n",
              "      <td>...</td>\n",
              "      <td>0</td>\n",
              "      <td>NaN</td>\n",
              "      <td>NaN</td>\n",
              "      <td>NaN</td>\n",
              "      <td>0</td>\n",
              "      <td>5</td>\n",
              "      <td>2007</td>\n",
              "      <td>WD</td>\n",
              "      <td>Normal</td>\n",
              "      <td>181500</td>\n",
              "    </tr>\n",
              "    <tr>\n",
              "      <th>2</th>\n",
              "      <td>3</td>\n",
              "      <td>60</td>\n",
              "      <td>RL</td>\n",
              "      <td>68.0</td>\n",
              "      <td>11250</td>\n",
              "      <td>Pave</td>\n",
              "      <td>NaN</td>\n",
              "      <td>IR1</td>\n",
              "      <td>Lvl</td>\n",
              "      <td>AllPub</td>\n",
              "      <td>...</td>\n",
              "      <td>0</td>\n",
              "      <td>NaN</td>\n",
              "      <td>NaN</td>\n",
              "      <td>NaN</td>\n",
              "      <td>0</td>\n",
              "      <td>9</td>\n",
              "      <td>2008</td>\n",
              "      <td>WD</td>\n",
              "      <td>Normal</td>\n",
              "      <td>223500</td>\n",
              "    </tr>\n",
              "    <tr>\n",
              "      <th>3</th>\n",
              "      <td>4</td>\n",
              "      <td>70</td>\n",
              "      <td>RL</td>\n",
              "      <td>60.0</td>\n",
              "      <td>9550</td>\n",
              "      <td>Pave</td>\n",
              "      <td>NaN</td>\n",
              "      <td>IR1</td>\n",
              "      <td>Lvl</td>\n",
              "      <td>AllPub</td>\n",
              "      <td>...</td>\n",
              "      <td>0</td>\n",
              "      <td>NaN</td>\n",
              "      <td>NaN</td>\n",
              "      <td>NaN</td>\n",
              "      <td>0</td>\n",
              "      <td>2</td>\n",
              "      <td>2006</td>\n",
              "      <td>WD</td>\n",
              "      <td>Abnorml</td>\n",
              "      <td>140000</td>\n",
              "    </tr>\n",
              "    <tr>\n",
              "      <th>4</th>\n",
              "      <td>5</td>\n",
              "      <td>60</td>\n",
              "      <td>RL</td>\n",
              "      <td>84.0</td>\n",
              "      <td>14260</td>\n",
              "      <td>Pave</td>\n",
              "      <td>NaN</td>\n",
              "      <td>IR1</td>\n",
              "      <td>Lvl</td>\n",
              "      <td>AllPub</td>\n",
              "      <td>...</td>\n",
              "      <td>0</td>\n",
              "      <td>NaN</td>\n",
              "      <td>NaN</td>\n",
              "      <td>NaN</td>\n",
              "      <td>0</td>\n",
              "      <td>12</td>\n",
              "      <td>2008</td>\n",
              "      <td>WD</td>\n",
              "      <td>Normal</td>\n",
              "      <td>250000</td>\n",
              "    </tr>\n",
              "  </tbody>\n",
              "</table>\n",
              "<p>5 rows × 81 columns</p>\n",
              "</div>\n",
              "      <button class=\"colab-df-convert\" onclick=\"convertToInteractive('df-2485131c-7a4c-44d8-b332-c6cb9833881b')\"\n",
              "              title=\"Convert this dataframe to an interactive table.\"\n",
              "              style=\"display:none;\">\n",
              "        \n",
              "  <svg xmlns=\"http://www.w3.org/2000/svg\" height=\"24px\"viewBox=\"0 0 24 24\"\n",
              "       width=\"24px\">\n",
              "    <path d=\"M0 0h24v24H0V0z\" fill=\"none\"/>\n",
              "    <path d=\"M18.56 5.44l.94 2.06.94-2.06 2.06-.94-2.06-.94-.94-2.06-.94 2.06-2.06.94zm-11 1L8.5 8.5l.94-2.06 2.06-.94-2.06-.94L8.5 2.5l-.94 2.06-2.06.94zm10 10l.94 2.06.94-2.06 2.06-.94-2.06-.94-.94-2.06-.94 2.06-2.06.94z\"/><path d=\"M17.41 7.96l-1.37-1.37c-.4-.4-.92-.59-1.43-.59-.52 0-1.04.2-1.43.59L10.3 9.45l-7.72 7.72c-.78.78-.78 2.05 0 2.83L4 21.41c.39.39.9.59 1.41.59.51 0 1.02-.2 1.41-.59l7.78-7.78 2.81-2.81c.8-.78.8-2.07 0-2.86zM5.41 20L4 18.59l7.72-7.72 1.47 1.35L5.41 20z\"/>\n",
              "  </svg>\n",
              "      </button>\n",
              "      \n",
              "  <style>\n",
              "    .colab-df-container {\n",
              "      display:flex;\n",
              "      flex-wrap:wrap;\n",
              "      gap: 12px;\n",
              "    }\n",
              "\n",
              "    .colab-df-convert {\n",
              "      background-color: #E8F0FE;\n",
              "      border: none;\n",
              "      border-radius: 50%;\n",
              "      cursor: pointer;\n",
              "      display: none;\n",
              "      fill: #1967D2;\n",
              "      height: 32px;\n",
              "      padding: 0 0 0 0;\n",
              "      width: 32px;\n",
              "    }\n",
              "\n",
              "    .colab-df-convert:hover {\n",
              "      background-color: #E2EBFA;\n",
              "      box-shadow: 0px 1px 2px rgba(60, 64, 67, 0.3), 0px 1px 3px 1px rgba(60, 64, 67, 0.15);\n",
              "      fill: #174EA6;\n",
              "    }\n",
              "\n",
              "    [theme=dark] .colab-df-convert {\n",
              "      background-color: #3B4455;\n",
              "      fill: #D2E3FC;\n",
              "    }\n",
              "\n",
              "    [theme=dark] .colab-df-convert:hover {\n",
              "      background-color: #434B5C;\n",
              "      box-shadow: 0px 1px 3px 1px rgba(0, 0, 0, 0.15);\n",
              "      filter: drop-shadow(0px 1px 2px rgba(0, 0, 0, 0.3));\n",
              "      fill: #FFFFFF;\n",
              "    }\n",
              "  </style>\n",
              "\n",
              "      <script>\n",
              "        const buttonEl =\n",
              "          document.querySelector('#df-2485131c-7a4c-44d8-b332-c6cb9833881b button.colab-df-convert');\n",
              "        buttonEl.style.display =\n",
              "          google.colab.kernel.accessAllowed ? 'block' : 'none';\n",
              "\n",
              "        async function convertToInteractive(key) {\n",
              "          const element = document.querySelector('#df-2485131c-7a4c-44d8-b332-c6cb9833881b');\n",
              "          const dataTable =\n",
              "            await google.colab.kernel.invokeFunction('convertToInteractive',\n",
              "                                                     [key], {});\n",
              "          if (!dataTable) return;\n",
              "\n",
              "          const docLinkHtml = 'Like what you see? Visit the ' +\n",
              "            '<a target=\"_blank\" href=https://colab.research.google.com/notebooks/data_table.ipynb>data table notebook</a>'\n",
              "            + ' to learn more about interactive tables.';\n",
              "          element.innerHTML = '';\n",
              "          dataTable['output_type'] = 'display_data';\n",
              "          await google.colab.output.renderOutput(dataTable, element);\n",
              "          const docLink = document.createElement('div');\n",
              "          docLink.innerHTML = docLinkHtml;\n",
              "          element.appendChild(docLink);\n",
              "        }\n",
              "      </script>\n",
              "    </div>\n",
              "  </div>\n",
              "  "
            ]
          },
          "metadata": {},
          "execution_count": 59
        }
      ]
    },
    {
      "cell_type": "code",
      "source": [
        "house.columns"
      ],
      "metadata": {
        "colab": {
          "base_uri": "https://localhost:8080/"
        },
        "id": "tEptGL-bb9HG",
        "outputId": "cb863d8f-c14f-46d2-ecb5-0e81d555186b"
      },
      "execution_count": null,
      "outputs": [
        {
          "output_type": "execute_result",
          "data": {
            "text/plain": [
              "Index(['Id', 'MSSubClass', 'MSZoning', 'LotFrontage', 'LotArea', 'Street',\n",
              "       'Alley', 'LotShape', 'LandContour', 'Utilities', 'LotConfig',\n",
              "       'LandSlope', 'Neighborhood', 'Condition1', 'Condition2', 'BldgType',\n",
              "       'HouseStyle', 'OverallQual', 'OverallCond', 'YearBuilt', 'YearRemodAdd',\n",
              "       'RoofStyle', 'RoofMatl', 'Exterior1st', 'Exterior2nd', 'MasVnrType',\n",
              "       'MasVnrArea', 'ExterQual', 'ExterCond', 'Foundation', 'BsmtQual',\n",
              "       'BsmtCond', 'BsmtExposure', 'BsmtFinType1', 'BsmtFinSF1',\n",
              "       'BsmtFinType2', 'BsmtFinSF2', 'BsmtUnfSF', 'TotalBsmtSF', 'Heating',\n",
              "       'HeatingQC', 'CentralAir', 'Electrical', '1stFlrSF', '2ndFlrSF',\n",
              "       'LowQualFinSF', 'GrLivArea', 'BsmtFullBath', 'BsmtHalfBath', 'FullBath',\n",
              "       'HalfBath', 'BedroomAbvGr', 'KitchenAbvGr', 'KitchenQual',\n",
              "       'TotRmsAbvGrd', 'Functional', 'Fireplaces', 'FireplaceQu', 'GarageType',\n",
              "       'GarageYrBlt', 'GarageFinish', 'GarageCars', 'GarageArea', 'GarageQual',\n",
              "       'GarageCond', 'PavedDrive', 'WoodDeckSF', 'OpenPorchSF',\n",
              "       'EnclosedPorch', '3SsnPorch', 'ScreenPorch', 'PoolArea', 'PoolQC',\n",
              "       'Fence', 'MiscFeature', 'MiscVal', 'MoSold', 'YrSold', 'SaleType',\n",
              "       'SaleCondition', 'SalePrice'],\n",
              "      dtype='object')"
            ]
          },
          "metadata": {},
          "execution_count": 60
        }
      ]
    },
    {
      "cell_type": "code",
      "source": [
        "df = house[[\"LotArea\", \"Street\", \"LandSlope\", \"SalePrice\"]]\n",
        "df.head()"
      ],
      "metadata": {
        "colab": {
          "base_uri": "https://localhost:8080/",
          "height": 206
        },
        "id": "9o5pqmEaaP38",
        "outputId": "c34c4d02-0357-4402-9e21-2f9f29da8af1"
      },
      "execution_count": null,
      "outputs": [
        {
          "output_type": "execute_result",
          "data": {
            "text/plain": [
              "   LotArea Street LandSlope  SalePrice\n",
              "0     8450   Pave       Gtl     208500\n",
              "1     9600   Pave       Gtl     181500\n",
              "2    11250   Pave       Gtl     223500\n",
              "3     9550   Pave       Gtl     140000\n",
              "4    14260   Pave       Gtl     250000"
            ],
            "text/html": [
              "\n",
              "  <div id=\"df-c1e9b6bb-f5c0-467f-bed3-40c6ef756581\">\n",
              "    <div class=\"colab-df-container\">\n",
              "      <div>\n",
              "<style scoped>\n",
              "    .dataframe tbody tr th:only-of-type {\n",
              "        vertical-align: middle;\n",
              "    }\n",
              "\n",
              "    .dataframe tbody tr th {\n",
              "        vertical-align: top;\n",
              "    }\n",
              "\n",
              "    .dataframe thead th {\n",
              "        text-align: right;\n",
              "    }\n",
              "</style>\n",
              "<table border=\"1\" class=\"dataframe\">\n",
              "  <thead>\n",
              "    <tr style=\"text-align: right;\">\n",
              "      <th></th>\n",
              "      <th>LotArea</th>\n",
              "      <th>Street</th>\n",
              "      <th>LandSlope</th>\n",
              "      <th>SalePrice</th>\n",
              "    </tr>\n",
              "  </thead>\n",
              "  <tbody>\n",
              "    <tr>\n",
              "      <th>0</th>\n",
              "      <td>8450</td>\n",
              "      <td>Pave</td>\n",
              "      <td>Gtl</td>\n",
              "      <td>208500</td>\n",
              "    </tr>\n",
              "    <tr>\n",
              "      <th>1</th>\n",
              "      <td>9600</td>\n",
              "      <td>Pave</td>\n",
              "      <td>Gtl</td>\n",
              "      <td>181500</td>\n",
              "    </tr>\n",
              "    <tr>\n",
              "      <th>2</th>\n",
              "      <td>11250</td>\n",
              "      <td>Pave</td>\n",
              "      <td>Gtl</td>\n",
              "      <td>223500</td>\n",
              "    </tr>\n",
              "    <tr>\n",
              "      <th>3</th>\n",
              "      <td>9550</td>\n",
              "      <td>Pave</td>\n",
              "      <td>Gtl</td>\n",
              "      <td>140000</td>\n",
              "    </tr>\n",
              "    <tr>\n",
              "      <th>4</th>\n",
              "      <td>14260</td>\n",
              "      <td>Pave</td>\n",
              "      <td>Gtl</td>\n",
              "      <td>250000</td>\n",
              "    </tr>\n",
              "  </tbody>\n",
              "</table>\n",
              "</div>\n",
              "      <button class=\"colab-df-convert\" onclick=\"convertToInteractive('df-c1e9b6bb-f5c0-467f-bed3-40c6ef756581')\"\n",
              "              title=\"Convert this dataframe to an interactive table.\"\n",
              "              style=\"display:none;\">\n",
              "        \n",
              "  <svg xmlns=\"http://www.w3.org/2000/svg\" height=\"24px\"viewBox=\"0 0 24 24\"\n",
              "       width=\"24px\">\n",
              "    <path d=\"M0 0h24v24H0V0z\" fill=\"none\"/>\n",
              "    <path d=\"M18.56 5.44l.94 2.06.94-2.06 2.06-.94-2.06-.94-.94-2.06-.94 2.06-2.06.94zm-11 1L8.5 8.5l.94-2.06 2.06-.94-2.06-.94L8.5 2.5l-.94 2.06-2.06.94zm10 10l.94 2.06.94-2.06 2.06-.94-2.06-.94-.94-2.06-.94 2.06-2.06.94z\"/><path d=\"M17.41 7.96l-1.37-1.37c-.4-.4-.92-.59-1.43-.59-.52 0-1.04.2-1.43.59L10.3 9.45l-7.72 7.72c-.78.78-.78 2.05 0 2.83L4 21.41c.39.39.9.59 1.41.59.51 0 1.02-.2 1.41-.59l7.78-7.78 2.81-2.81c.8-.78.8-2.07 0-2.86zM5.41 20L4 18.59l7.72-7.72 1.47 1.35L5.41 20z\"/>\n",
              "  </svg>\n",
              "      </button>\n",
              "      \n",
              "  <style>\n",
              "    .colab-df-container {\n",
              "      display:flex;\n",
              "      flex-wrap:wrap;\n",
              "      gap: 12px;\n",
              "    }\n",
              "\n",
              "    .colab-df-convert {\n",
              "      background-color: #E8F0FE;\n",
              "      border: none;\n",
              "      border-radius: 50%;\n",
              "      cursor: pointer;\n",
              "      display: none;\n",
              "      fill: #1967D2;\n",
              "      height: 32px;\n",
              "      padding: 0 0 0 0;\n",
              "      width: 32px;\n",
              "    }\n",
              "\n",
              "    .colab-df-convert:hover {\n",
              "      background-color: #E2EBFA;\n",
              "      box-shadow: 0px 1px 2px rgba(60, 64, 67, 0.3), 0px 1px 3px 1px rgba(60, 64, 67, 0.15);\n",
              "      fill: #174EA6;\n",
              "    }\n",
              "\n",
              "    [theme=dark] .colab-df-convert {\n",
              "      background-color: #3B4455;\n",
              "      fill: #D2E3FC;\n",
              "    }\n",
              "\n",
              "    [theme=dark] .colab-df-convert:hover {\n",
              "      background-color: #434B5C;\n",
              "      box-shadow: 0px 1px 3px 1px rgba(0, 0, 0, 0.15);\n",
              "      filter: drop-shadow(0px 1px 2px rgba(0, 0, 0, 0.3));\n",
              "      fill: #FFFFFF;\n",
              "    }\n",
              "  </style>\n",
              "\n",
              "      <script>\n",
              "        const buttonEl =\n",
              "          document.querySelector('#df-c1e9b6bb-f5c0-467f-bed3-40c6ef756581 button.colab-df-convert');\n",
              "        buttonEl.style.display =\n",
              "          google.colab.kernel.accessAllowed ? 'block' : 'none';\n",
              "\n",
              "        async function convertToInteractive(key) {\n",
              "          const element = document.querySelector('#df-c1e9b6bb-f5c0-467f-bed3-40c6ef756581');\n",
              "          const dataTable =\n",
              "            await google.colab.kernel.invokeFunction('convertToInteractive',\n",
              "                                                     [key], {});\n",
              "          if (!dataTable) return;\n",
              "\n",
              "          const docLinkHtml = 'Like what you see? Visit the ' +\n",
              "            '<a target=\"_blank\" href=https://colab.research.google.com/notebooks/data_table.ipynb>data table notebook</a>'\n",
              "            + ' to learn more about interactive tables.';\n",
              "          element.innerHTML = '';\n",
              "          dataTable['output_type'] = 'display_data';\n",
              "          await google.colab.output.renderOutput(dataTable, element);\n",
              "          const docLink = document.createElement('div');\n",
              "          docLink.innerHTML = docLinkHtml;\n",
              "          element.appendChild(docLink);\n",
              "        }\n",
              "      </script>\n",
              "    </div>\n",
              "  </div>\n",
              "  "
            ]
          },
          "metadata": {},
          "execution_count": 61
        }
      ]
    },
    {
      "cell_type": "code",
      "source": [
        "df.isnull().sum()"
      ],
      "metadata": {
        "id": "VYEn9xUuceLF",
        "colab": {
          "base_uri": "https://localhost:8080/"
        },
        "outputId": "e0e541fa-cc5e-44e6-825f-85b150a4dcad"
      },
      "execution_count": null,
      "outputs": [
        {
          "output_type": "execute_result",
          "data": {
            "text/plain": [
              "LotArea      0\n",
              "Street       0\n",
              "LandSlope    0\n",
              "SalePrice    0\n",
              "dtype: int64"
            ]
          },
          "metadata": {},
          "execution_count": 62
        }
      ]
    },
    {
      "cell_type": "code",
      "source": [
        "X = df[[\"LotArea\", \"Street\", \"LandSlope\"]]\n",
        "y = df[\"SalePrice\"]\n",
        "X[\"LandSlope\"].unique()"
      ],
      "metadata": {
        "id": "sWVz3lnlc39D",
        "colab": {
          "base_uri": "https://localhost:8080/"
        },
        "outputId": "e96b5f84-9a3a-428b-d0b7-12b9c4dc3bf0"
      },
      "execution_count": null,
      "outputs": [
        {
          "output_type": "execute_result",
          "data": {
            "text/plain": [
              "array(['Gtl', 'Mod', 'Sev'], dtype=object)"
            ]
          },
          "metadata": {},
          "execution_count": 64
        }
      ]
    },
    {
      "cell_type": "code",
      "source": [
        "mdl = LinearRegression()\n",
        "X = pd.get_dummies(X, drop_first = True)\n",
        "X.head()\n",
        "mdl.fit(X,y)\n",
        "print(mdl.coef_)\n",
        "print(mdl.intercept_)"
      ],
      "metadata": {
        "id": "yl9Ac2fRd3K7",
        "colab": {
          "base_uri": "https://localhost:8080/"
        },
        "outputId": "0d97dfa5-ba0a-4a19-d623-1fda823c2f24"
      },
      "execution_count": null,
      "outputs": [
        {
          "output_type": "stream",
          "name": "stdout",
          "text": [
            "[ 0.00000000e+00  2.92775816e+00  1.23040019e+05  7.58330785e+03\n",
            " -1.34993174e+05]\n",
            "28460.47299016008\n"
          ]
        }
      ]
    },
    {
      "cell_type": "code",
      "source": [
        "X.head()"
      ],
      "metadata": {
        "id": "PqJxkVolgEm4",
        "colab": {
          "base_uri": "https://localhost:8080/",
          "height": 206
        },
        "outputId": "99ecfdf8-437e-411a-984d-6e084a094886"
      },
      "execution_count": null,
      "outputs": [
        {
          "output_type": "execute_result",
          "data": {
            "text/plain": [
              "   LotArea  Street_Pave  LandSlope_Mod  LandSlope_Sev\n",
              "0     8450            1              0              0\n",
              "1     9600            1              0              0\n",
              "2    11250            1              0              0\n",
              "3     9550            1              0              0\n",
              "4    14260            1              0              0"
            ],
            "text/html": [
              "\n",
              "  <div id=\"df-f049b3a6-cde9-4c9b-b09f-17a0ec1ef543\">\n",
              "    <div class=\"colab-df-container\">\n",
              "      <div>\n",
              "<style scoped>\n",
              "    .dataframe tbody tr th:only-of-type {\n",
              "        vertical-align: middle;\n",
              "    }\n",
              "\n",
              "    .dataframe tbody tr th {\n",
              "        vertical-align: top;\n",
              "    }\n",
              "\n",
              "    .dataframe thead th {\n",
              "        text-align: right;\n",
              "    }\n",
              "</style>\n",
              "<table border=\"1\" class=\"dataframe\">\n",
              "  <thead>\n",
              "    <tr style=\"text-align: right;\">\n",
              "      <th></th>\n",
              "      <th>LotArea</th>\n",
              "      <th>Street_Pave</th>\n",
              "      <th>LandSlope_Mod</th>\n",
              "      <th>LandSlope_Sev</th>\n",
              "    </tr>\n",
              "  </thead>\n",
              "  <tbody>\n",
              "    <tr>\n",
              "      <th>0</th>\n",
              "      <td>8450</td>\n",
              "      <td>1</td>\n",
              "      <td>0</td>\n",
              "      <td>0</td>\n",
              "    </tr>\n",
              "    <tr>\n",
              "      <th>1</th>\n",
              "      <td>9600</td>\n",
              "      <td>1</td>\n",
              "      <td>0</td>\n",
              "      <td>0</td>\n",
              "    </tr>\n",
              "    <tr>\n",
              "      <th>2</th>\n",
              "      <td>11250</td>\n",
              "      <td>1</td>\n",
              "      <td>0</td>\n",
              "      <td>0</td>\n",
              "    </tr>\n",
              "    <tr>\n",
              "      <th>3</th>\n",
              "      <td>9550</td>\n",
              "      <td>1</td>\n",
              "      <td>0</td>\n",
              "      <td>0</td>\n",
              "    </tr>\n",
              "    <tr>\n",
              "      <th>4</th>\n",
              "      <td>14260</td>\n",
              "      <td>1</td>\n",
              "      <td>0</td>\n",
              "      <td>0</td>\n",
              "    </tr>\n",
              "  </tbody>\n",
              "</table>\n",
              "</div>\n",
              "      <button class=\"colab-df-convert\" onclick=\"convertToInteractive('df-f049b3a6-cde9-4c9b-b09f-17a0ec1ef543')\"\n",
              "              title=\"Convert this dataframe to an interactive table.\"\n",
              "              style=\"display:none;\">\n",
              "        \n",
              "  <svg xmlns=\"http://www.w3.org/2000/svg\" height=\"24px\"viewBox=\"0 0 24 24\"\n",
              "       width=\"24px\">\n",
              "    <path d=\"M0 0h24v24H0V0z\" fill=\"none\"/>\n",
              "    <path d=\"M18.56 5.44l.94 2.06.94-2.06 2.06-.94-2.06-.94-.94-2.06-.94 2.06-2.06.94zm-11 1L8.5 8.5l.94-2.06 2.06-.94-2.06-.94L8.5 2.5l-.94 2.06-2.06.94zm10 10l.94 2.06.94-2.06 2.06-.94-2.06-.94-.94-2.06-.94 2.06-2.06.94z\"/><path d=\"M17.41 7.96l-1.37-1.37c-.4-.4-.92-.59-1.43-.59-.52 0-1.04.2-1.43.59L10.3 9.45l-7.72 7.72c-.78.78-.78 2.05 0 2.83L4 21.41c.39.39.9.59 1.41.59.51 0 1.02-.2 1.41-.59l7.78-7.78 2.81-2.81c.8-.78.8-2.07 0-2.86zM5.41 20L4 18.59l7.72-7.72 1.47 1.35L5.41 20z\"/>\n",
              "  </svg>\n",
              "      </button>\n",
              "      \n",
              "  <style>\n",
              "    .colab-df-container {\n",
              "      display:flex;\n",
              "      flex-wrap:wrap;\n",
              "      gap: 12px;\n",
              "    }\n",
              "\n",
              "    .colab-df-convert {\n",
              "      background-color: #E8F0FE;\n",
              "      border: none;\n",
              "      border-radius: 50%;\n",
              "      cursor: pointer;\n",
              "      display: none;\n",
              "      fill: #1967D2;\n",
              "      height: 32px;\n",
              "      padding: 0 0 0 0;\n",
              "      width: 32px;\n",
              "    }\n",
              "\n",
              "    .colab-df-convert:hover {\n",
              "      background-color: #E2EBFA;\n",
              "      box-shadow: 0px 1px 2px rgba(60, 64, 67, 0.3), 0px 1px 3px 1px rgba(60, 64, 67, 0.15);\n",
              "      fill: #174EA6;\n",
              "    }\n",
              "\n",
              "    [theme=dark] .colab-df-convert {\n",
              "      background-color: #3B4455;\n",
              "      fill: #D2E3FC;\n",
              "    }\n",
              "\n",
              "    [theme=dark] .colab-df-convert:hover {\n",
              "      background-color: #434B5C;\n",
              "      box-shadow: 0px 1px 3px 1px rgba(0, 0, 0, 0.15);\n",
              "      filter: drop-shadow(0px 1px 2px rgba(0, 0, 0, 0.3));\n",
              "      fill: #FFFFFF;\n",
              "    }\n",
              "  </style>\n",
              "\n",
              "      <script>\n",
              "        const buttonEl =\n",
              "          document.querySelector('#df-f049b3a6-cde9-4c9b-b09f-17a0ec1ef543 button.colab-df-convert');\n",
              "        buttonEl.style.display =\n",
              "          google.colab.kernel.accessAllowed ? 'block' : 'none';\n",
              "\n",
              "        async function convertToInteractive(key) {\n",
              "          const element = document.querySelector('#df-f049b3a6-cde9-4c9b-b09f-17a0ec1ef543');\n",
              "          const dataTable =\n",
              "            await google.colab.kernel.invokeFunction('convertToInteractive',\n",
              "                                                     [key], {});\n",
              "          if (!dataTable) return;\n",
              "\n",
              "          const docLinkHtml = 'Like what you see? Visit the ' +\n",
              "            '<a target=\"_blank\" href=https://colab.research.google.com/notebooks/data_table.ipynb>data table notebook</a>'\n",
              "            + ' to learn more about interactive tables.';\n",
              "          element.innerHTML = '';\n",
              "          dataTable['output_type'] = 'display_data';\n",
              "          await google.colab.output.renderOutput(dataTable, element);\n",
              "          const docLink = document.createElement('div');\n",
              "          docLink.innerHTML = docLinkHtml;\n",
              "          element.appendChild(docLink);\n",
              "        }\n",
              "      </script>\n",
              "    </div>\n",
              "  </div>\n",
              "  "
            ]
          },
          "metadata": {},
          "execution_count": 66
        }
      ]
    },
    {
      "cell_type": "code",
      "source": [
        "import statsmodels.api as sm\n",
        "\n",
        "X = sm.add_constant(X)"
      ],
      "metadata": {
        "id": "xcNVrW4DhHCJ",
        "colab": {
          "base_uri": "https://localhost:8080/"
        },
        "outputId": "bc83ef34-8ebc-4518-e211-a2e34858adfe"
      },
      "execution_count": null,
      "outputs": [
        {
          "output_type": "stream",
          "name": "stderr",
          "text": [
            "/usr/local/lib/python3.7/dist-packages/statsmodels/tsa/tsatools.py:142: FutureWarning: In a future version of pandas all arguments of concat except for the argument 'objs' will be keyword-only\n",
            "  x = pd.concat(x[::order], 1)\n"
          ]
        }
      ]
    },
    {
      "cell_type": "code",
      "source": [
        "mdl = sm.OLS(y, X)\n",
        "mdl = mdl.fit()\n",
        "print(mdl.summary())"
      ],
      "metadata": {
        "id": "2P7sjzvLheJz",
        "colab": {
          "base_uri": "https://localhost:8080/"
        },
        "outputId": "8e6ca4a4-304b-4021-9f2f-3bcc1e670283"
      },
      "execution_count": null,
      "outputs": [
        {
          "output_type": "stream",
          "name": "stdout",
          "text": [
            "                            OLS Regression Results                            \n",
            "==============================================================================\n",
            "Dep. Variable:              SalePrice   R-squared:                       0.097\n",
            "Model:                            OLS   Adj. R-squared:                  0.095\n",
            "Method:                 Least Squares   F-statistic:                     39.30\n",
            "Date:                Thu, 13 Oct 2022   Prob (F-statistic):           2.79e-31\n",
            "Time:                        13:24:45   Log-Likelihood:                -18469.\n",
            "No. Observations:                1460   AIC:                         3.695e+04\n",
            "Df Residuals:                    1455   BIC:                         3.697e+04\n",
            "Df Model:                           4                                         \n",
            "Covariance Type:            nonrobust                                         \n",
            "=================================================================================\n",
            "                    coef    std err          t      P>|t|      [0.025      0.975]\n",
            "---------------------------------------------------------------------------------\n",
            "const          2.846e+04   3.22e+04      0.882      0.378   -3.48e+04    9.17e+04\n",
            "LotArea           2.9278      0.240     12.192      0.000       2.457       3.399\n",
            "Street_Pave     1.23e+05   3.18e+04      3.870      0.000    6.07e+04    1.85e+05\n",
            "LandSlope_Mod  7583.3079   9744.618      0.778      0.437   -1.15e+04    2.67e+04\n",
            "LandSlope_Sev  -1.35e+05   2.51e+04     -5.375      0.000   -1.84e+05   -8.57e+04\n",
            "==============================================================================\n",
            "Omnibus:                      579.833   Durbin-Watson:                   1.992\n",
            "Prob(Omnibus):                  0.000   Jarque-Bera (JB):             3246.098\n",
            "Skew:                           1.770   Prob(JB):                         0.00\n",
            "Kurtosis:                       9.390   Cond. No.                     3.32e+05\n",
            "==============================================================================\n",
            "\n",
            "Notes:\n",
            "[1] Standard Errors assume that the covariance matrix of the errors is correctly specified.\n",
            "[2] The condition number is large, 3.32e+05. This might indicate that there are\n",
            "strong multicollinearity or other numerical problems.\n"
          ]
        }
      ]
    }
  ],
  "metadata": {
    "colab": {
      "provenance": [],
      "include_colab_link": true
    },
    "kernelspec": {
      "display_name": "Python 3",
      "name": "python3"
    }
  },
  "nbformat": 4,
  "nbformat_minor": 0
}