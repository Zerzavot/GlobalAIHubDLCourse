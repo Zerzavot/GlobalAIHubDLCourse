{
  "cells": [
    {
      "cell_type": "markdown",
      "metadata": {
        "id": "view-in-github",
        "colab_type": "text"
      },
      "source": [
        "<a href=\"https://colab.research.google.com/github/Zerzavot/GlobalAIHubDLCourse/blob/main/Logistic_Regression.ipynb\" target=\"_parent\"><img src=\"https://colab.research.google.com/assets/colab-badge.svg\" alt=\"Open In Colab\"/></a>"
      ]
    },
    {
      "cell_type": "code",
      "execution_count": null,
      "metadata": {
        "id": "lIYdn1woOS1n"
      },
      "outputs": [],
      "source": [
        "import pandas as pd\n",
        "import numpy as np\n",
        "import matplotlib.pyplot as plt"
      ]
    },
    {
      "cell_type": "markdown",
      "source": [
        "- laufkont = status\n",
        "\n",
        "    - 1 : no checking account\n",
        "    - 2 : … < 0 DM \n",
        "    - 3 : 0<= … < 200 DM \n",
        "    - 4 : … >= 200 DM / salary for at least 1 year\n",
        "\n",
        "- laufzeit = duration\n",
        "\n",
        "- moral = credit_history\n",
        "    - 0 : delay in paying off in the past\n",
        "    - 1 : critical account/other credits elsewhere\n",
        "    - 2 : no credits taken/all credits paid back duly\n",
        "    - 3 : existing credits paid back duly till now\n",
        "    - 4 : all credits at this bank paid back duly\n",
        "\n",
        "- verw = purpose\n",
        "\n",
        "    - 0 : others\n",
        "    - 1 : car (new)\n",
        "    - 2 : car (used)\n",
        "    - 3 : furniture/equipment\n",
        "    - 4 : radio/television\n",
        "    - 5 : domestic appliances\n",
        "    - 6 : repairs\n",
        "    - 7 : education\n",
        "    - 8 : vacation\n",
        "    - 9 : retraining\n",
        "    - 10 : business\n",
        "\n",
        "- hoehe = amount\n",
        "\n",
        "- sparkont = savings\n",
        "\n",
        "    - 1 : unknown/no savings account\n",
        "    - 2 : … < 100 DM \n",
        "    - 3 : 100 <= … < 500 DM \n",
        "    - 4 : 500 <= … < 1000 DM \n",
        "    - 5 : … >= 1000 DM\n",
        "\n",
        "- beszeit = employment_duration\n",
        "\n",
        "    - 1 : unemployed\n",
        "    - 2 : < 1 yr \n",
        "    - 3 : 1 <= … < 4 yrs \n",
        "    - 4 : 4 <= … < 7 yrs \n",
        "    - 5 : >= 7 yrs\n",
        "\n",
        "- rate = installment_rate\n",
        "\n",
        "    - 1 : >= 35\n",
        "    - 2 : 25 <= … < 35\n",
        "    - 3 : 20 <= … < 25\n",
        "    - 4 : < 20\n",
        "\n",
        "- famges = personal_status_sex\n",
        "\n",
        "    - 1 : male : divorced/separated\n",
        "    - 2 : female : non-single or male : single\n",
        "    - 3 : male : married/widowed\n",
        "    - 4 : female : single\n",
        "\n",
        "- buerge = other_debtors\n",
        "\n",
        "    - 1 : none\n",
        "    - 2 : co-applicant\n",
        "    - 3 : guarantor\n",
        "\n",
        "- wohnzeit = present_residence\n",
        "\n",
        "    - 1 : < 1 yr \n",
        "    - 2 : 1 <= … < 4 yrs \n",
        "    - 3 : 4 <= … < 7 yrs \n",
        "    - 4 : >= 7 yrs\n",
        "\n",
        "- verm = property\n",
        "\n",
        "    - 1 : unknown / no property\n",
        "    - 2 : car or other\n",
        "    - 3 : building soc. savings agr./life insurance\n",
        "    - 4 : real estate\n",
        "\n",
        "- alter = age\n",
        "\n",
        "- weitkred = other_installment_plans\n",
        "\n",
        "    - 1 : bank\n",
        "    - 2 : stores\n",
        "    - 3 : none\n",
        "\n",
        "- wohn = housing\n",
        "\n",
        "    - 1 : for free\n",
        "    - 2 : rent\n",
        "    - 3 : own\n",
        "\n",
        "- bishkred = number_credits\n",
        "\n",
        "    - 1 : 1\n",
        "    - 2 : 2-3\n",
        "    - 3 : 4-5\n",
        "    - 4 : >= 6\n",
        "\n",
        "- beruf = job\n",
        "\n",
        "    - 1 : unemployed/unskilled - non-resident\n",
        "    - 2 : unskilled - resident\n",
        "    - 3 : skilled employee/official\n",
        "    - 4 : manager/self-empl./highly qualif. employee\n",
        "\n",
        "- pers = people_liable\n",
        "\n",
        "    - 1 : 3 or more\n",
        "    - 2 : 0 to 2\n",
        "\n",
        "- telef = telephone\n",
        "\n",
        "    - 1 : no\n",
        "    - 2 : yes (under customer name)\n",
        "\n",
        "- gastarb = foreign_worker\n",
        "\n",
        "    - 1 : yes\n",
        "    - 2 : no\n",
        "\n",
        "- kredit = credit_risk\n",
        "\n",
        "    - 0 : bad\n",
        "    - 1 : good"
      ],
      "metadata": {
        "id": "ZziRIVUfRtzk"
      }
    },
    {
      "cell_type": "code",
      "source": [
        "df = pd.read_csv(\"german_credit_data.csv\")\n",
        "df.head()"
      ],
      "metadata": {
        "id": "EbEXwXn1Y-_-"
      },
      "execution_count": null,
      "outputs": []
    },
    {
      "cell_type": "code",
      "source": [
        "categorical_columns = [\"moral\",\"verw\",\"famges\",\"buerge\",\"verm\",\"weitkred\", \"wohn\",\n",
        "                       \"telef\", \"gastarb\"]\n",
        "\n",
        "df[categorical_columns] = df[categorical_columns].astype(\"str\")\n",
        "df_dummy = pd.get_dummies(df, drop_first = True)\n",
        "\n",
        "df_dummy.head()"
      ],
      "metadata": {
        "id": "q1ZxgpfxTtaK"
      },
      "execution_count": null,
      "outputs": []
    },
    {
      "cell_type": "code",
      "source": [
        "X = df_dummy.drop(\"kredit\", axis = 1) \n",
        "y = df_dummy[\"kredit\"]"
      ],
      "metadata": {
        "id": "iQzxpAeiZzfu"
      },
      "execution_count": null,
      "outputs": []
    },
    {
      "cell_type": "code",
      "source": [
        "from sklearn.model_selection import train_test_split\n",
        "\n",
        "X_train, X_test, y_train, y_test = train_test_split(X,y, test_size = 0.2,\n",
        "                                                    random_state = 42)\n"
      ],
      "metadata": {
        "id": "43hBpNpCaMm2"
      },
      "execution_count": null,
      "outputs": []
    },
    {
      "cell_type": "code",
      "source": [
        "mu = X_train.mean()\n",
        "sigma = X_train.std()\n",
        "\n",
        "X_train = (X_train - mu) / sigma\n",
        "X_test = (X_test - mu) / sigma"
      ],
      "metadata": {
        "id": "h_2GS0JdayuU"
      },
      "execution_count": null,
      "outputs": []
    },
    {
      "cell_type": "code",
      "source": [
        "from sklearn.linear_model  import LogisticRegression\n",
        "\n",
        "mdl = LogisticRegression(penalty = \"none\")\n",
        "mdl.fit(X_train, y_train)\n",
        "\n",
        "ypred_train = mdl.predict(X_train)\n",
        "ypred_test =  mdl.predict(X_test)\n",
        "\n",
        "ypred_test"
      ],
      "metadata": {
        "id": "VFo_EtPjdjj0"
      },
      "execution_count": null,
      "outputs": []
    },
    {
      "cell_type": "code",
      "source": [
        "ypred_test_prob = mdl.predict_proba(X_test)\n",
        "ypred_test_prob"
      ],
      "metadata": {
        "id": "uebmIqceeEXJ"
      },
      "execution_count": null,
      "outputs": []
    },
    {
      "cell_type": "code",
      "source": [
        "from sklearn.metrics import accuracy_score, precision_score, recall_score, f1_score\n",
        "\n",
        "print(\"Accuracy Score: \", accuracy_score(y_test, ypred_test))\n",
        "print(\"Precision Score: \", precision_score(y_test, ypred_test))\n",
        "print(\"Recall Score: \", recall_score(y_test, ypred_test))\n",
        "print(\"F1 Score: \", f1_score(y_test, ypred_test))\n"
      ],
      "metadata": {
        "id": "i4o1UJ8Oepnr",
        "outputId": "10ef8849-1c49-47a1-af3b-6a6b7161e250",
        "colab": {
          "base_uri": "https://localhost:8080/"
        }
      },
      "execution_count": null,
      "outputs": [
        {
          "output_type": "stream",
          "name": "stdout",
          "text": [
            "Accuracy Score:  0.74\n",
            "Precision Score:  0.7828947368421053\n",
            "Recall Score:  0.8623188405797102\n",
            "F1 Score:  0.8206896551724139\n"
          ]
        }
      ]
    },
    {
      "cell_type": "code",
      "source": [
        "from sklearn.metrics import classification_report\n",
        "\n",
        "print(classification_report(y_train, ypred_train))\n",
        "print(classification_report(y_test, ypred_test))"
      ],
      "metadata": {
        "id": "2lQHvs4qgOox"
      },
      "execution_count": null,
      "outputs": []
    },
    {
      "cell_type": "code",
      "source": [
        "from sklearn.metrics import roc_curve, roc_auc_score\n",
        "\n",
        "fpr, tpr, thr = roc_curve(y_test, ypred_test_prob[:,0], pos_label = 0)\n",
        "plt.plot(fpr, tpr)\n",
        "\n",
        "roc_auc_score(y_test, ypred_test_prob[:,1])"
      ],
      "metadata": {
        "id": "PgY2qeUyhMRl",
        "outputId": "7f862f03-b815-4f2e-b83c-ee02c62c4f2c",
        "colab": {
          "base_uri": "https://localhost:8080/",
          "height": 283
        }
      },
      "execution_count": null,
      "outputs": [
        {
          "output_type": "execute_result",
          "data": {
            "text/plain": [
              "0.776647966339411"
            ]
          },
          "metadata": {},
          "execution_count": 48
        },
        {
          "output_type": "display_data",
          "data": {
            "text/plain": [
              "<Figure size 432x288 with 1 Axes>"
            ],
            "image/png": "[encoded data removed]"
          },
          "metadata": {
            "needs_background": "light"
          }
        }
      ]
    },
    {
      "cell_type": "code",
      "source": [
        "pd.DataFrame({\"fpr\":fpr, \"tpr\":tpr, \"thr\":thr})"
      ],
      "metadata": {
        "id": "4q45cIvLksuw",
        "outputId": "17c9c773-6eb5-47e1-8256-f00dbc337f00",
        "colab": {
          "base_uri": "https://localhost:8080/",
          "height": 424
        }
      },
      "execution_count": null,
      "outputs": [
        {
          "output_type": "execute_result",
          "data": {
            "text/plain": [
              "         fpr       tpr       thr\n",
              "0   0.000000  0.000000  1.967859\n",
              "1   0.000000  0.016129  0.967859\n",
              "2   0.007246  0.016129  0.957379\n",
              "3   0.007246  0.064516  0.923449\n",
              "4   0.014493  0.064516  0.915331\n",
              "..       ...       ...       ...\n",
              "66  0.869565  0.967742  0.028516\n",
              "67  0.869565  0.983871  0.028475\n",
              "68  0.942029  0.983871  0.020215\n",
              "69  0.942029  1.000000  0.018070\n",
              "70  1.000000  1.000000  0.005691\n",
              "\n",
              "[71 rows x 3 columns]"
            ],
            "text/html": [
              "\n",
              "  <div id=\"df-3e47a8d7-9ea2-4971-9639-86d640dd1de1\">\n",
              "    <div class=\"colab-df-container\">\n",
              "      <div>\n",
              "<style scoped>\n",
              "    .dataframe tbody tr th:only-of-type {\n",
              "        vertical-align: middle;\n",
              "    }\n",
              "\n",
              "    .dataframe tbody tr th {\n",
              "        vertical-align: top;\n",
              "    }\n",
              "\n",
              "    .dataframe thead th {\n",
              "        text-align: right;\n",
              "    }\n",
              "</style>\n",
              "<table border=\"1\" class=\"dataframe\">\n",
              "  <thead>\n",
              "    <tr style=\"text-align: right;\">\n",
              "      <th></th>\n",
              "      <th>fpr</th>\n",
              "      <th>tpr</th>\n",
              "      <th>thr</th>\n",
              "    </tr>\n",
              "  </thead>\n",
              "  <tbody>\n",
              "    <tr>\n",
              "      <th>0</th>\n",
              "      <td>0.000000</td>\n",
              "      <td>0.000000</td>\n",
              "      <td>1.967859</td>\n",
              "    </tr>\n",
              "    <tr>\n",
              "      <th>1</th>\n",
              "      <td>0.000000</td>\n",
              "      <td>0.016129</td>\n",
              "      <td>0.967859</td>\n",
              "    </tr>\n",
              "    <tr>\n",
              "      <th>2</th>\n",
              "      <td>0.007246</td>\n",
              "      <td>0.016129</td>\n",
              "      <td>0.957379</td>\n",
              "    </tr>\n",
              "    <tr>\n",
              "      <th>3</th>\n",
              "      <td>0.007246</td>\n",
              "      <td>0.064516</td>\n",
              "      <td>0.923449</td>\n",
              "    </tr>\n",
              "    <tr>\n",
              "      <th>4</th>\n",
              "      <td>0.014493</td>\n",
              "      <td>0.064516</td>\n",
              "      <td>0.915331</td>\n",
              "    </tr>\n",
              "    <tr>\n",
              "      <th>...</th>\n",
              "      <td>...</td>\n",
              "      <td>...</td>\n",
              "      <td>...</td>\n",
              "    </tr>\n",
              "    <tr>\n",
              "      <th>66</th>\n",
              "      <td>0.869565</td>\n",
              "      <td>0.967742</td>\n",
              "      <td>0.028516</td>\n",
              "    </tr>\n",
              "    <tr>\n",
              "      <th>67</th>\n",
              "      <td>0.869565</td>\n",
              "      <td>0.983871</td>\n",
              "      <td>0.028475</td>\n",
              "    </tr>\n",
              "    <tr>\n",
              "      <th>68</th>\n",
              "      <td>0.942029</td>\n",
              "      <td>0.983871</td>\n",
              "      <td>0.020215</td>\n",
              "    </tr>\n",
              "    <tr>\n",
              "      <th>69</th>\n",
              "      <td>0.942029</td>\n",
              "      <td>1.000000</td>\n",
              "      <td>0.018070</td>\n",
              "    </tr>\n",
              "    <tr>\n",
              "      <th>70</th>\n",
              "      <td>1.000000</td>\n",
              "      <td>1.000000</td>\n",
              "      <td>0.005691</td>\n",
              "    </tr>\n",
              "  </tbody>\n",
              "</table>\n",
              "<p>71 rows × 3 columns</p>\n",
              "</div>\n",
              "      <button class=\"colab-df-convert\" onclick=\"convertToInteractive('df-3e47a8d7-9ea2-4971-9639-86d640dd1de1')\"\n",
              "              title=\"Convert this dataframe to an interactive table.\"\n",
              "              style=\"display:none;\">\n",
              "        \n",
              "  <svg xmlns=\"http://www.w3.org/2000/svg\" height=\"24px\"viewBox=\"0 0 24 24\"\n",
              "       width=\"24px\">\n",
              "    <path d=\"M0 0h24v24H0V0z\" fill=\"none\"/>\n",
              "    <path d=\"M18.56 5.44l.94 2.06.94-2.06 2.06-.94-2.06-.94-.94-2.06-.94 2.06-2.06.94zm-11 1L8.5 8.5l.94-2.06 2.06-.94-2.06-.94L8.5 2.5l-.94 2.06-2.06.94zm10 10l.94 2.06.94-2.06 2.06-.94-2.06-.94-.94-2.06-.94 2.06-2.06.94z\"/><path d=\"M17.41 7.96l-1.37-1.37c-.4-.4-.92-.59-1.43-.59-.52 0-1.04.2-1.43.59L10.3 9.45l-7.72 7.72c-.78.78-.78 2.05 0 2.83L4 21.41c.39.39.9.59 1.41.59.51 0 1.02-.2 1.41-.59l7.78-7.78 2.81-2.81c.8-.78.8-2.07 0-2.86zM5.41 20L4 18.59l7.72-7.72 1.47 1.35L5.41 20z\"/>\n",
              "  </svg>\n",
              "      </button>\n",
              "      \n",
              "  <style>\n",
              "    .colab-df-container {\n",
              "      display:flex;\n",
              "      flex-wrap:wrap;\n",
              "      gap: 12px;\n",
              "    }\n",
              "\n",
              "    .colab-df-convert {\n",
              "      background-color: #E8F0FE;\n",
              "      border: none;\n",
              "      border-radius: 50%;\n",
              "      cursor: pointer;\n",
              "      display: none;\n",
              "      fill: #1967D2;\n",
              "      height: 32px;\n",
              "      padding: 0 0 0 0;\n",
              "      width: 32px;\n",
              "    }\n",
              "\n",
              "    .colab-df-convert:hover {\n",
              "      background-color: #E2EBFA;\n",
              "      box-shadow: 0px 1px 2px rgba(60, 64, 67, 0.3), 0px 1px 3px 1px rgba(60, 64, 67, 0.15);\n",
              "      fill: #174EA6;\n",
              "    }\n",
              "\n",
              "    [theme=dark] .colab-df-convert {\n",
              "      background-color: #3B4455;\n",
              "      fill: #D2E3FC;\n",
              "    }\n",
              "\n",
              "    [theme=dark] .colab-df-convert:hover {\n",
              "      background-color: #434B5C;\n",
              "      box-shadow: 0px 1px 3px 1px rgba(0, 0, 0, 0.15);\n",
              "      filter: drop-shadow(0px 1px 2px rgba(0, 0, 0, 0.3));\n",
              "      fill: #FFFFFF;\n",
              "    }\n",
              "  </style>\n",
              "\n",
              "      <script>\n",
              "        const buttonEl =\n",
              "          document.querySelector('#df-3e47a8d7-9ea2-4971-9639-86d640dd1de1 button.colab-df-convert');\n",
              "        buttonEl.style.display =\n",
              "          google.colab.kernel.accessAllowed ? 'block' : 'none';\n",
              "\n",
              "        async function convertToInteractive(key) {\n",
              "          const element = document.querySelector('#df-3e47a8d7-9ea2-4971-9639-86d640dd1de1');\n",
              "          const dataTable =\n",
              "            await google.colab.kernel.invokeFunction('convertToInteractive',\n",
              "                                                     [key], {});\n",
              "          if (!dataTable) return;\n",
              "\n",
              "          const docLinkHtml = 'Like what you see? Visit the ' +\n",
              "            '<a target=\"_blank\" href=https://colab.research.google.com/notebooks/data_table.ipynb>data table notebook</a>'\n",
              "            + ' to learn more about interactive tables.';\n",
              "          element.innerHTML = '';\n",
              "          dataTable['output_type'] = 'display_data';\n",
              "          await google.colab.output.renderOutput(dataTable, element);\n",
              "          const docLink = document.createElement('div');\n",
              "          docLink.innerHTML = docLinkHtml;\n",
              "          element.appendChild(docLink);\n",
              "        }\n",
              "      </script>\n",
              "    </div>\n",
              "  </div>\n",
              "  "
            ]
          },
          "metadata": {},
          "execution_count": 44
        }
      ]
    },
    {
      "cell_type": "code",
      "source": [
        "coord = np.array([[1,2,2,4,4,5],[1,1,3,1,2,3]])\n",
        "coord"
      ],
      "metadata": {
        "id": "1Dxs_hXfqte6",
        "outputId": "c309fad2-5ca1-4461-eb02-2bf4f2595ef9",
        "colab": {
          "base_uri": "https://localhost:8080/"
        }
      },
      "execution_count": null,
      "outputs": [
        {
          "output_type": "execute_result",
          "data": {
            "text/plain": [
              "array([[1, 2, 2, 4, 4, 5],\n",
              "       [1, 1, 3, 1, 2, 3]])"
            ]
          },
          "metadata": {},
          "execution_count": 49
        }
      ]
    },
    {
      "cell_type": "code",
      "source": [
        "mu1 = np.array([5/3,5/3])\n",
        "mu2 = np.array([13/3,2])"
      ],
      "metadata": {
        "id": "pvV-fvNFrCgw"
      },
      "execution_count": null,
      "outputs": []
    },
    {
      "cell_type": "code",
      "source": [
        "print(((coord - mu1.reshape(-1,1))**2).sum(axis = 0)) \n",
        "print(((coord - mu2.reshape(-1,1))**2).sum(axis = 0)) "
      ],
      "metadata": {
        "id": "jZid_CiurLap",
        "outputId": "6c3438ee-b679-4c1f-cfad-20a1fb69e855",
        "colab": {
          "base_uri": "https://localhost:8080/"
        }
      },
      "execution_count": null,
      "outputs": [
        {
          "output_type": "stream",
          "name": "stdout",
          "text": [
            "[ 0.88888889  0.55555556  1.88888889  5.88888889  5.55555556 12.88888889]\n",
            "[12.11111111  6.44444444  6.44444444  1.11111111  0.11111111  1.44444444]\n"
          ]
        }
      ]
    }
  ],
  "metadata": {
    "colab": {
      "provenance": [],
      "include_colab_link": true
    },
    "kernelspec": {
      "display_name": "Python 3",
      "name": "python3"
    }
  },
  "nbformat": 4,
  "nbformat_minor": 0
}