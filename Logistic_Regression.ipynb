{
  "nbformat": 4,
  "nbformat_minor": 0,
  "metadata": {
    "colab": {
      "provenance": [],
      "include_colab_link": true
    },
    "kernelspec": {
      "name": "python3",
      "display_name": "Python 3"
    },
    "language_info": {
      "name": "python"
    }
  },
  "cells": [
    {
      "cell_type": "markdown",
      "metadata": {
        "id": "view-in-github",
        "colab_type": "text"
      },
      "source": [
        "<a href=\"https://colab.research.google.com/github/Zerzavot/GlobalAIHubDLCourse/blob/main/Logistic_Regression.ipynb\" target=\"_parent\"><img src=\"https://colab.research.google.com/assets/colab-badge.svg\" alt=\"Open In Colab\"/></a>"
      ]
    },
    {
      "cell_type": "code",
      "execution_count": null,
      "metadata": {
        "id": "HYO75kRNmXFr"
      },
      "outputs": [],
      "source": [
        "import numpy as np\n",
        "import pandas as pd\n",
        "import matplotlib.pyplot as plt"
      ]
    },
    {
      "cell_type": "code",
      "source": [
        "df = pd.read_csv(\"Loan_Data.csv\", index_col = 0)\n",
        "df.head()"
      ],
      "metadata": {
        "colab": {
          "base_uri": "https://localhost:8080/",
          "height": 319
        },
        "id": "YLBBUa96m0OE",
        "outputId": "b1f68e12-7e6f-4ac6-fed3-fddb2e0f3218"
      },
      "execution_count": null,
      "outputs": [
        {
          "output_type": "execute_result",
          "data": {
            "text/plain": [
              "         Gender Married Dependents     Education Self_Employed  \\\n",
              "Loan_ID                                                          \n",
              "LP001002   Male      No          0      Graduate            No   \n",
              "LP001003   Male     Yes          1      Graduate            No   \n",
              "LP001005   Male     Yes          0      Graduate           Yes   \n",
              "LP001006   Male     Yes          0  Not Graduate            No   \n",
              "LP001008   Male      No          0      Graduate            No   \n",
              "\n",
              "          ApplicantIncome  CoapplicantIncome  LoanAmount  Loan_Amount_Term  \\\n",
              "Loan_ID                                                                      \n",
              "LP001002             5849                0.0         NaN             360.0   \n",
              "LP001003             4583             1508.0       128.0             360.0   \n",
              "LP001005             3000                0.0        66.0             360.0   \n",
              "LP001006             2583             2358.0       120.0             360.0   \n",
              "LP001008             6000                0.0       141.0             360.0   \n",
              "\n",
              "          Credit_History Property_Area Loan_Status  \n",
              "Loan_ID                                             \n",
              "LP001002             1.0         Urban           Y  \n",
              "LP001003             1.0         Rural           N  \n",
              "LP001005             1.0         Urban           Y  \n",
              "LP001006             1.0         Urban           Y  \n",
              "LP001008             1.0         Urban           Y  "
            ],
            "text/html": [
              "\n",
              "  <div id=\"df-96273229-b515-4a5f-902c-61d94a481a86\">\n",
              "    <div class=\"colab-df-container\">\n",
              "      <div>\n",
              "<style scoped>\n",
              "    .dataframe tbody tr th:only-of-type {\n",
              "        vertical-align: middle;\n",
              "    }\n",
              "\n",
              "    .dataframe tbody tr th {\n",
              "        vertical-align: top;\n",
              "    }\n",
              "\n",
              "    .dataframe thead th {\n",
              "        text-align: right;\n",
              "    }\n",
              "</style>\n",
              "<table border=\"1\" class=\"dataframe\">\n",
              "  <thead>\n",
              "    <tr style=\"text-align: right;\">\n",
              "      <th></th>\n",
              "      <th>Gender</th>\n",
              "      <th>Married</th>\n",
              "      <th>Dependents</th>\n",
              "      <th>Education</th>\n",
              "      <th>Self_Employed</th>\n",
              "      <th>ApplicantIncome</th>\n",
              "      <th>CoapplicantIncome</th>\n",
              "      <th>LoanAmount</th>\n",
              "      <th>Loan_Amount_Term</th>\n",
              "      <th>Credit_History</th>\n",
              "      <th>Property_Area</th>\n",
              "      <th>Loan_Status</th>\n",
              "    </tr>\n",
              "    <tr>\n",
              "      <th>Loan_ID</th>\n",
              "      <th></th>\n",
              "      <th></th>\n",
              "      <th></th>\n",
              "      <th></th>\n",
              "      <th></th>\n",
              "      <th></th>\n",
              "      <th></th>\n",
              "      <th></th>\n",
              "      <th></th>\n",
              "      <th></th>\n",
              "      <th></th>\n",
              "      <th></th>\n",
              "    </tr>\n",
              "  </thead>\n",
              "  <tbody>\n",
              "    <tr>\n",
              "      <th>LP001002</th>\n",
              "      <td>Male</td>\n",
              "      <td>No</td>\n",
              "      <td>0</td>\n",
              "      <td>Graduate</td>\n",
              "      <td>No</td>\n",
              "      <td>5849</td>\n",
              "      <td>0.0</td>\n",
              "      <td>NaN</td>\n",
              "      <td>360.0</td>\n",
              "      <td>1.0</td>\n",
              "      <td>Urban</td>\n",
              "      <td>Y</td>\n",
              "    </tr>\n",
              "    <tr>\n",
              "      <th>LP001003</th>\n",
              "      <td>Male</td>\n",
              "      <td>Yes</td>\n",
              "      <td>1</td>\n",
              "      <td>Graduate</td>\n",
              "      <td>No</td>\n",
              "      <td>4583</td>\n",
              "      <td>1508.0</td>\n",
              "      <td>128.0</td>\n",
              "      <td>360.0</td>\n",
              "      <td>1.0</td>\n",
              "      <td>Rural</td>\n",
              "      <td>N</td>\n",
              "    </tr>\n",
              "    <tr>\n",
              "      <th>LP001005</th>\n",
              "      <td>Male</td>\n",
              "      <td>Yes</td>\n",
              "      <td>0</td>\n",
              "      <td>Graduate</td>\n",
              "      <td>Yes</td>\n",
              "      <td>3000</td>\n",
              "      <td>0.0</td>\n",
              "      <td>66.0</td>\n",
              "      <td>360.0</td>\n",
              "      <td>1.0</td>\n",
              "      <td>Urban</td>\n",
              "      <td>Y</td>\n",
              "    </tr>\n",
              "    <tr>\n",
              "      <th>LP001006</th>\n",
              "      <td>Male</td>\n",
              "      <td>Yes</td>\n",
              "      <td>0</td>\n",
              "      <td>Not Graduate</td>\n",
              "      <td>No</td>\n",
              "      <td>2583</td>\n",
              "      <td>2358.0</td>\n",
              "      <td>120.0</td>\n",
              "      <td>360.0</td>\n",
              "      <td>1.0</td>\n",
              "      <td>Urban</td>\n",
              "      <td>Y</td>\n",
              "    </tr>\n",
              "    <tr>\n",
              "      <th>LP001008</th>\n",
              "      <td>Male</td>\n",
              "      <td>No</td>\n",
              "      <td>0</td>\n",
              "      <td>Graduate</td>\n",
              "      <td>No</td>\n",
              "      <td>6000</td>\n",
              "      <td>0.0</td>\n",
              "      <td>141.0</td>\n",
              "      <td>360.0</td>\n",
              "      <td>1.0</td>\n",
              "      <td>Urban</td>\n",
              "      <td>Y</td>\n",
              "    </tr>\n",
              "  </tbody>\n",
              "</table>\n",
              "</div>\n",
              "      <button class=\"colab-df-convert\" onclick=\"convertToInteractive('df-96273229-b515-4a5f-902c-61d94a481a86')\"\n",
              "              title=\"Convert this dataframe to an interactive table.\"\n",
              "              style=\"display:none;\">\n",
              "        \n",
              "  <svg xmlns=\"http://www.w3.org/2000/svg\" height=\"24px\"viewBox=\"0 0 24 24\"\n",
              "       width=\"24px\">\n",
              "    <path d=\"M0 0h24v24H0V0z\" fill=\"none\"/>\n",
              "    <path d=\"M18.56 5.44l.94 2.06.94-2.06 2.06-.94-2.06-.94-.94-2.06-.94 2.06-2.06.94zm-11 1L8.5 8.5l.94-2.06 2.06-.94-2.06-.94L8.5 2.5l-.94 2.06-2.06.94zm10 10l.94 2.06.94-2.06 2.06-.94-2.06-.94-.94-2.06-.94 2.06-2.06.94z\"/><path d=\"M17.41 7.96l-1.37-1.37c-.4-.4-.92-.59-1.43-.59-.52 0-1.04.2-1.43.59L10.3 9.45l-7.72 7.72c-.78.78-.78 2.05 0 2.83L4 21.41c.39.39.9.59 1.41.59.51 0 1.02-.2 1.41-.59l7.78-7.78 2.81-2.81c.8-.78.8-2.07 0-2.86zM5.41 20L4 18.59l7.72-7.72 1.47 1.35L5.41 20z\"/>\n",
              "  </svg>\n",
              "      </button>\n",
              "      \n",
              "  <style>\n",
              "    .colab-df-container {\n",
              "      display:flex;\n",
              "      flex-wrap:wrap;\n",
              "      gap: 12px;\n",
              "    }\n",
              "\n",
              "    .colab-df-convert {\n",
              "      background-color: #E8F0FE;\n",
              "      border: none;\n",
              "      border-radius: 50%;\n",
              "      cursor: pointer;\n",
              "      display: none;\n",
              "      fill: #1967D2;\n",
              "      height: 32px;\n",
              "      padding: 0 0 0 0;\n",
              "      width: 32px;\n",
              "    }\n",
              "\n",
              "    .colab-df-convert:hover {\n",
              "      background-color: #E2EBFA;\n",
              "      box-shadow: 0px 1px 2px rgba(60, 64, 67, 0.3), 0px 1px 3px 1px rgba(60, 64, 67, 0.15);\n",
              "      fill: #174EA6;\n",
              "    }\n",
              "\n",
              "    [theme=dark] .colab-df-convert {\n",
              "      background-color: #3B4455;\n",
              "      fill: #D2E3FC;\n",
              "    }\n",
              "\n",
              "    [theme=dark] .colab-df-convert:hover {\n",
              "      background-color: #434B5C;\n",
              "      box-shadow: 0px 1px 3px 1px rgba(0, 0, 0, 0.15);\n",
              "      filter: drop-shadow(0px 1px 2px rgba(0, 0, 0, 0.3));\n",
              "      fill: #FFFFFF;\n",
              "    }\n",
              "  </style>\n",
              "\n",
              "      <script>\n",
              "        const buttonEl =\n",
              "          document.querySelector('#df-96273229-b515-4a5f-902c-61d94a481a86 button.colab-df-convert');\n",
              "        buttonEl.style.display =\n",
              "          google.colab.kernel.accessAllowed ? 'block' : 'none';\n",
              "\n",
              "        async function convertToInteractive(key) {\n",
              "          const element = document.querySelector('#df-96273229-b515-4a5f-902c-61d94a481a86');\n",
              "          const dataTable =\n",
              "            await google.colab.kernel.invokeFunction('convertToInteractive',\n",
              "                                                     [key], {});\n",
              "          if (!dataTable) return;\n",
              "\n",
              "          const docLinkHtml = 'Like what you see? Visit the ' +\n",
              "            '<a target=\"_blank\" href=https://colab.research.google.com/notebooks/data_table.ipynb>data table notebook</a>'\n",
              "            + ' to learn more about interactive tables.';\n",
              "          element.innerHTML = '';\n",
              "          dataTable['output_type'] = 'display_data';\n",
              "          await google.colab.output.renderOutput(dataTable, element);\n",
              "          const docLink = document.createElement('div');\n",
              "          docLink.innerHTML = docLinkHtml;\n",
              "          element.appendChild(docLink);\n",
              "        }\n",
              "      </script>\n",
              "    </div>\n",
              "  </div>\n",
              "  "
            ]
          },
          "metadata": {},
          "execution_count": 17
        }
      ]
    },
    {
      "cell_type": "code",
      "source": [
        "df.shape"
      ],
      "metadata": {
        "colab": {
          "base_uri": "https://localhost:8080/"
        },
        "id": "5pUablojt7qI",
        "outputId": "43546e56-76e3-48e7-f9a4-da7f9fb89b08"
      },
      "execution_count": null,
      "outputs": [
        {
          "output_type": "execute_result",
          "data": {
            "text/plain": [
              "(614, 12)"
            ]
          },
          "metadata": {},
          "execution_count": 18
        }
      ]
    },
    {
      "cell_type": "code",
      "source": [
        "df.dtypes"
      ],
      "metadata": {
        "colab": {
          "base_uri": "https://localhost:8080/"
        },
        "id": "_PY1gOqyrxDg",
        "outputId": "0637a4c6-4710-4bc9-c9cc-7e6c9bc2c5e4"
      },
      "execution_count": null,
      "outputs": [
        {
          "output_type": "execute_result",
          "data": {
            "text/plain": [
              "Gender                object\n",
              "Married               object\n",
              "Dependents            object\n",
              "Education             object\n",
              "Self_Employed         object\n",
              "ApplicantIncome        int64\n",
              "CoapplicantIncome    float64\n",
              "LoanAmount           float64\n",
              "Loan_Amount_Term     float64\n",
              "Credit_History       float64\n",
              "Property_Area         object\n",
              "Loan_Status           object\n",
              "dtype: object"
            ]
          },
          "metadata": {},
          "execution_count": 19
        }
      ]
    },
    {
      "cell_type": "code",
      "source": [
        "df.Education.unique()"
      ],
      "metadata": {
        "colab": {
          "base_uri": "https://localhost:8080/"
        },
        "id": "0jpr236CsS-M",
        "outputId": "f3fd4eab-dc06-46f7-9887-2ed82d5a70cb"
      },
      "execution_count": null,
      "outputs": [
        {
          "output_type": "execute_result",
          "data": {
            "text/plain": [
              "array(['Graduate', 'Not Graduate'], dtype=object)"
            ]
          },
          "metadata": {},
          "execution_count": 20
        }
      ]
    },
    {
      "cell_type": "code",
      "source": [
        "df.Dependents = df.Dependents.replace({\"0\":0,\"1\":1,\"2\":2, \"3+\":3})\n",
        "df.Dependents.unique()"
      ],
      "metadata": {
        "colab": {
          "base_uri": "https://localhost:8080/"
        },
        "id": "lFp2FWj4sh0B",
        "outputId": "537605b2-82a5-48f2-9453-d85d26699f11"
      },
      "execution_count": null,
      "outputs": [
        {
          "output_type": "execute_result",
          "data": {
            "text/plain": [
              "array([ 0.,  1.,  2.,  3., nan])"
            ]
          },
          "metadata": {},
          "execution_count": 21
        }
      ]
    },
    {
      "cell_type": "code",
      "source": [
        "df.isnull().mean()"
      ],
      "metadata": {
        "colab": {
          "base_uri": "https://localhost:8080/"
        },
        "id": "7SserMJEtVV8",
        "outputId": "8a941854-2643-42a0-b1e1-b787ec850887"
      },
      "execution_count": null,
      "outputs": [
        {
          "output_type": "execute_result",
          "data": {
            "text/plain": [
              "Gender               0.021173\n",
              "Married              0.004886\n",
              "Dependents           0.024430\n",
              "Education            0.000000\n",
              "Self_Employed        0.052117\n",
              "ApplicantIncome      0.000000\n",
              "CoapplicantIncome    0.000000\n",
              "LoanAmount           0.035831\n",
              "Loan_Amount_Term     0.022801\n",
              "Credit_History       0.081433\n",
              "Property_Area        0.000000\n",
              "Loan_Status          0.000000\n",
              "dtype: float64"
            ]
          },
          "metadata": {},
          "execution_count": 22
        }
      ]
    },
    {
      "cell_type": "code",
      "source": [
        "df.dropna(inplace = True)\n",
        "df.isnull().mean()\n"
      ],
      "metadata": {
        "colab": {
          "base_uri": "https://localhost:8080/"
        },
        "id": "hW51smTJtqbn",
        "outputId": "cec5f5c0-7abf-4720-c776-901442feb8d5"
      },
      "execution_count": null,
      "outputs": [
        {
          "output_type": "execute_result",
          "data": {
            "text/plain": [
              "Gender               0.0\n",
              "Married              0.0\n",
              "Dependents           0.0\n",
              "Education            0.0\n",
              "Self_Employed        0.0\n",
              "ApplicantIncome      0.0\n",
              "CoapplicantIncome    0.0\n",
              "LoanAmount           0.0\n",
              "Loan_Amount_Term     0.0\n",
              "Credit_History       0.0\n",
              "Property_Area        0.0\n",
              "Loan_Status          0.0\n",
              "dtype: float64"
            ]
          },
          "metadata": {},
          "execution_count": 23
        }
      ]
    },
    {
      "cell_type": "code",
      "source": [
        "df.shape"
      ],
      "metadata": {
        "colab": {
          "base_uri": "https://localhost:8080/"
        },
        "id": "N6nNj191t5VI",
        "outputId": "fb25a42d-7c87-456a-9ef2-fdf47f2874b7"
      },
      "execution_count": null,
      "outputs": [
        {
          "output_type": "execute_result",
          "data": {
            "text/plain": [
              "(480, 12)"
            ]
          },
          "metadata": {},
          "execution_count": 24
        }
      ]
    },
    {
      "cell_type": "code",
      "source": [
        "X = df.drop(\"Loan_Status\", axis =  1)\n",
        "y = df[\"Loan_Status\"]\n",
        "X = pd.get_dummies(X, drop_first = True)\n",
        "X.dtypes"
      ],
      "metadata": {
        "colab": {
          "base_uri": "https://localhost:8080/"
        },
        "id": "4P_ZyyOMuEdD",
        "outputId": "61280aad-8e58-4509-f325-c3a97eb53d38"
      },
      "execution_count": null,
      "outputs": [
        {
          "output_type": "execute_result",
          "data": {
            "text/plain": [
              "Dependents                 float64\n",
              "ApplicantIncome              int64\n",
              "CoapplicantIncome          float64\n",
              "LoanAmount                 float64\n",
              "Loan_Amount_Term           float64\n",
              "Credit_History             float64\n",
              "Gender_Male                  uint8\n",
              "Married_Yes                  uint8\n",
              "Education_Not Graduate       uint8\n",
              "Self_Employed_Yes            uint8\n",
              "Property_Area_Semiurban      uint8\n",
              "Property_Area_Urban          uint8\n",
              "dtype: object"
            ]
          },
          "metadata": {},
          "execution_count": 27
        }
      ]
    },
    {
      "cell_type": "code",
      "source": [
        "from sklearn.model_selection import train_test_split\n",
        "\n",
        "X_train, X_test, y_train, y_test = train_test_split(X,y, test_size = 0.2, random_state = 0)\n",
        "\n",
        "mu = X_train.mean()\n",
        "sigma = X_train.std()\n",
        "\n",
        "X_train = (X_train - mu)/ sigma\n",
        "X_test = (X_test - mu)/ sigma"
      ],
      "metadata": {
        "id": "5ZEsbZoavQm7"
      },
      "execution_count": null,
      "outputs": []
    },
    {
      "cell_type": "code",
      "source": [
        "from sklearn.utils import class_weight\n",
        "from sklearn.linear_model import LogisticRegression\n",
        "\n",
        "mdl = LogisticRegression(penalty = \"none\",class_weight={\"N\":1, \"Y\":1})\n",
        "\n",
        "mdl.fit(X_train, y_train)\n",
        "ypred_train = mdl.predict(X_train)\n",
        "ypred_test = mdl.predict(X_test)"
      ],
      "metadata": {
        "id": "lI4vI3zmxS9k"
      },
      "execution_count": null,
      "outputs": []
    },
    {
      "cell_type": "code",
      "source": [
        "from sklearn.metrics import classification_report\n",
        "\n",
        "print(classification_report(y_train, ypred_train))\n",
        "print(classification_report(y_test, ypred_test))"
      ],
      "metadata": {
        "colab": {
          "base_uri": "https://localhost:8080/"
        },
        "id": "orsFLfRAx5Ce",
        "outputId": "72805ced-4698-4604-fafa-e91716adea89"
      },
      "execution_count": null,
      "outputs": [
        {
          "output_type": "stream",
          "name": "stdout",
          "text": [
            "              precision    recall  f1-score   support\n",
            "\n",
            "           N       0.88      0.46      0.60       113\n",
            "           Y       0.81      0.97      0.89       271\n",
            "\n",
            "    accuracy                           0.82       384\n",
            "   macro avg       0.85      0.72      0.75       384\n",
            "weighted avg       0.83      0.82      0.80       384\n",
            "\n",
            "              precision    recall  f1-score   support\n",
            "\n",
            "           N       0.92      0.34      0.50        35\n",
            "           Y       0.72      0.98      0.83        61\n",
            "\n",
            "    accuracy                           0.75        96\n",
            "   macro avg       0.82      0.66      0.67        96\n",
            "weighted avg       0.80      0.75      0.71        96\n",
            "\n"
          ]
        }
      ]
    },
    {
      "cell_type": "code",
      "source": [
        "mdl = LogisticRegression(C = 0.1,class_weight={\"N\":1.5, \"Y\":1}, solver = \"newton-cg\")\n",
        "\n",
        "mdl.fit(X_train, y_train)\n",
        "ypred_train = mdl.predict(X_train)\n",
        "ypred_test = mdl.predict(X_test)\n",
        "\n",
        "print(classification_report(y_train, ypred_train))\n",
        "print(classification_report(y_test, ypred_test))"
      ],
      "metadata": {
        "colab": {
          "base_uri": "https://localhost:8080/"
        },
        "id": "PbFtYoC61J0l",
        "outputId": "12972abc-17c4-4de2-99ce-79cd422a6045"
      },
      "execution_count": null,
      "outputs": [
        {
          "output_type": "stream",
          "name": "stdout",
          "text": [
            "              precision    recall  f1-score   support\n",
            "\n",
            "           N       0.84      0.48      0.61       113\n",
            "           Y       0.82      0.96      0.88       271\n",
            "\n",
            "    accuracy                           0.82       384\n",
            "   macro avg       0.83      0.72      0.75       384\n",
            "weighted avg       0.82      0.82      0.80       384\n",
            "\n",
            "              precision    recall  f1-score   support\n",
            "\n",
            "           N       0.82      0.40      0.54        35\n",
            "           Y       0.73      0.95      0.83        61\n",
            "\n",
            "    accuracy                           0.75        96\n",
            "   macro avg       0.78      0.68      0.68        96\n",
            "weighted avg       0.77      0.75      0.72        96\n",
            "\n"
          ]
        }
      ]
    },
    {
      "cell_type": "code",
      "source": [
        "from sklearn.model_selection import GridSearchCV\n",
        "\n",
        "param = {\"C\" : [0.001,0.01,0.1,0.5,1,10],\n",
        "         \"solver\":[\"newton-cg\", \"lbfgs\"],\n",
        "         \"class_weight\":[{\"N\":1.5, \"Y\":1},{\"N\":1, \"Y\":1},{\"N\":2, \"Y\":1}]}\n",
        "\n",
        "grid_search = GridSearchCV(LogisticRegression(), param, n_jobs = -1,cv = 5)\n",
        "grid_search.fit(X_train, y_train)\n",
        "grid_search.best_estimator_"
      ],
      "metadata": {
        "colab": {
          "base_uri": "https://localhost:8080/"
        },
        "id": "962OxFjk4GIX",
        "outputId": "8563e028-c905-43ae-d3e2-8957205ab222"
      },
      "execution_count": null,
      "outputs": [
        {
          "output_type": "execute_result",
          "data": {
            "text/plain": [
              "LogisticRegression(C=0.1, class_weight={'N': 1.5, 'Y': 1}, solver='newton-cg')"
            ]
          },
          "metadata": {},
          "execution_count": 53
        }
      ]
    },
    {
      "cell_type": "code",
      "source": [
        "grid_search.cv_results_"
      ],
      "metadata": {
        "id": "Ncwle0id6oQe"
      },
      "execution_count": null,
      "outputs": []
    }
  ]
}